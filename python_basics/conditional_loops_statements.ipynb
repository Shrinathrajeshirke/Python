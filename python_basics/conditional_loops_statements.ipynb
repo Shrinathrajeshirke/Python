{
 "cells": [
  {
   "cell_type": "markdown",
   "metadata": {},
   "source": [
    "# Module 2: Control Flow Assignments\n",
    "## Lesson 2.1: Conditional Statements\n",
    "### Assignment 1: Simple if Statement\n",
    "\n",
    "Write a program that asks the user to input a number and prints whether the number is positive.\n",
    "\n",
    "### Assignment 2: if-else Statement\n",
    "\n",
    "Write a program that asks the user to input a number and prints whether the number is positive or negative.\n",
    "\n",
    "### Assignment 3: if-elif-else Statement\n",
    "\n",
    "Write a program that asks the user to input a number and prints whether the number is positive, negative, or zero.\n",
    "\n",
    "### Assignment 4: Nested if Statement\n",
    "\n",
    "Write a program that asks the user to input a number and prints whether the number is positive and even, positive and odd, or negative.\n",
    "\n",
    "## Lesson 2.2: Loops\n",
    "### Assignment 5: for Loop\n",
    "\n",
    "Write a program that prints all the numbers from 1 to 10 using a for loop.\n",
    "\n",
    "### Assignment 6: while Loop\n",
    "\n",
    "Write a program that prints all the numbers from 1 to 10 using a while loop.\n",
    "\n",
    "### Assignment 7: Nested Loops\n",
    "\n",
    "Write a program that prints a 5x5 grid of asterisks (*) using nested loops.\n",
    "\n",
    "### Assignment 8: break Statement\n",
    "\n",
    "Write a program that asks the user to input numbers until they input 0. The program should print the sum of all the input numbers.\n",
    "\n",
    "### Assignment 9: continue Statement\n",
    "\n",
    "Write a program that prints all the numbers from 1 to 10 except 5 using a for loop and continue statement.\n",
    "\n",
    "### Assignment 10: pass Statement\n",
    "\n",
    "Write a program that defines an empty function using the pass statement.\n",
    "\n",
    "### Assignment 11: Combining Loops and Conditionals\n",
    "\n",
    "Write a program that asks the user to input a number and prints all the even numbers from 1 to that number using a for loop.\n",
    "\n",
    "### Assignment 12: Factorial Calculation\n",
    "\n",
    "Write a program that calculates the factorial of a number input by the user using a while loop.\n",
    "\n",
    "### Assignment 13: Sum of Digits\n",
    "\n",
    "Write a program that calculates the sum of the digits of a number input by the user using a while loop.\n",
    "\n",
    "### Assignment 14: Prime Number Check\n",
    "\n",
    "Write a program that checks if a number input by the user is a prime number using a for loop.\n",
    "\n",
    "### Assignment 15: Fibonacci Sequence\n",
    "\n",
    "Write a program that prints the first n Fibonacci numbers, where n is input by the user."
   ]
  },
  {
   "cell_type": "code",
   "execution_count": null,
   "metadata": {},
   "outputs": [
    {
     "name": "stdout",
     "output_type": "stream",
     "text": [
      "5 is positive number\n"
     ]
    }
   ],
   "source": [
    "## solution 1\n",
    "\n",
    "## simple if statement\n",
    "\n",
    "num = int(input(\"eneter a number\")) ## takes input value\n",
    "\n",
    "if num>=0: ## checks if number is positive or not\n",
    "    print(f'{num} is positive number')"
   ]
  },
  {
   "cell_type": "code",
   "execution_count": 3,
   "id": "36501596",
   "metadata": {},
   "outputs": [
    {
     "name": "stdout",
     "output_type": "stream",
     "text": [
      "-8 is negative number\n"
     ]
    }
   ],
   "source": [
    "## solution 2\n",
    "\n",
    "## simple if-else statement\n",
    "\n",
    "num = int(input(\"eneter a number\")) ## takes input value\n",
    "\n",
    "if num>=0: ## checks if number is positive or not\n",
    "    print(f'{num} is positive number')\n",
    "else:\n",
    "    print(f'{num} is negative number')"
   ]
  },
  {
   "cell_type": "code",
   "execution_count": 4,
   "id": "23b8cd0c",
   "metadata": {},
   "outputs": [
    {
     "name": "stdout",
     "output_type": "stream",
     "text": [
      "0 is zero\n"
     ]
    }
   ],
   "source": [
    "## solution 3\n",
    "\n",
    "## if-elif-else statement\n",
    "\n",
    "num = int(input(\"eneter a number\")) ## takes input value\n",
    "\n",
    "if num>0: ## checks if number is positive or not\n",
    "    print(f'{num} is positive number')\n",
    "elif num<0:\n",
    "    print(f'{num} is negative number')\n",
    "else:\n",
    "    print(f'{num} is zero')"
   ]
  },
  {
   "cell_type": "code",
   "execution_count": 5,
   "id": "e3cfb3f1",
   "metadata": {},
   "outputs": [
    {
     "name": "stdout",
     "output_type": "stream",
     "text": [
      "8 is positive number\n",
      "8 is even number\n"
     ]
    }
   ],
   "source": [
    "## solution 4\n",
    "\n",
    "## nested if statement\n",
    "\n",
    "num = int(input(\"eneter a number\")) ## takes input value\n",
    "\n",
    "if num>0: ## checks if number is positive or not\n",
    "    print(f'{num} is positive number')\n",
    "    if num%2==0:\n",
    "        print(f'{num} is even number')\n",
    "    else:\n",
    "        print(f'{num} is odd number')\n",
    "else:\n",
    "    print(f'{num} is negative number')"
   ]
  },
  {
   "cell_type": "code",
   "execution_count": 6,
   "id": "ea0280f4",
   "metadata": {},
   "outputs": [
    {
     "name": "stdout",
     "output_type": "stream",
     "text": [
      "1\n",
      "2\n",
      "3\n",
      "4\n",
      "5\n",
      "6\n",
      "7\n",
      "8\n",
      "9\n"
     ]
    }
   ],
   "source": [
    "## solution 5\n",
    "\n",
    "## for loop \n",
    "\n",
    "for i in range(1,10):\n",
    "    print(i)"
   ]
  },
  {
   "cell_type": "code",
   "execution_count": 7,
   "id": "ff181414",
   "metadata": {},
   "outputs": [
    {
     "name": "stdout",
     "output_type": "stream",
     "text": [
      "1\n",
      "2\n",
      "3\n",
      "4\n",
      "5\n",
      "6\n",
      "7\n",
      "8\n",
      "9\n"
     ]
    }
   ],
   "source": [
    "## solution 6\n",
    "\n",
    "## while loop\n",
    "\n",
    "num = 1\n",
    "\n",
    "while num < 10:\n",
    "    print(num)\n",
    "    num+=1\n"
   ]
  },
  {
   "cell_type": "code",
   "execution_count": 9,
   "id": "f0359f81",
   "metadata": {},
   "outputs": [
    {
     "name": "stdout",
     "output_type": "stream",
     "text": [
      "*****\n",
      "*****\n",
      "*****\n",
      "*****\n",
      "*****\n"
     ]
    }
   ],
   "source": [
    "## solution 7\n",
    "\n",
    "for i in range(5):\n",
    "    for j in range(5):\n",
    "        print('*',end=\"\")\n",
    "    print()"
   ]
  },
  {
   "cell_type": "code",
   "execution_count": 13,
   "id": "22f2c5e8",
   "metadata": {},
   "outputs": [
    {
     "name": "stdout",
     "output_type": "stream",
     "text": [
      "total is  11.0\n"
     ]
    }
   ],
   "source": [
    "## solution 8\n",
    "\n",
    "total = 0\n",
    "\n",
    "while True:\n",
    "    num = float(input(\"enter a number (stop to 0):\"))\n",
    "    if num==0:\n",
    "        break\n",
    "    else:\n",
    "        total+=num\n",
    "print(\"total is \",total)\n",
    "\n"
   ]
  },
  {
   "cell_type": "code",
   "execution_count": null,
   "id": "1ca18d0e",
   "metadata": {},
   "outputs": [
    {
     "name": "stdout",
     "output_type": "stream",
     "text": [
      "0\n",
      "1\n",
      "2\n",
      "3\n",
      "4\n",
      "6\n",
      "7\n",
      "8\n",
      "9\n"
     ]
    }
   ],
   "source": [
    "#solution 9\n",
    "\n",
    "for i in range(10):\n",
    "    if i==5:\n",
    "        continue\n",
    "    print(i)\n"
   ]
  },
  {
   "cell_type": "code",
   "execution_count": 17,
   "id": "fbe777bc",
   "metadata": {},
   "outputs": [],
   "source": [
    "## solution 10\n",
    "\n",
    "def empty_function():\n",
    "    pass"
   ]
  },
  {
   "cell_type": "code",
   "execution_count": null,
   "id": "3625b07d",
   "metadata": {},
   "outputs": [
    {
     "name": "stdout",
     "output_type": "stream",
     "text": [
      "2\n",
      "4\n"
     ]
    }
   ],
   "source": [
    "# solution 11\n",
    "\n",
    "num = int(input(\"enter a number\")) # takes the input value\n",
    "\n",
    "for i in range(1,num+1):\n",
    "    if i%2==0:  ## checks for even number\n",
    "        print(i)\n",
    "\n"
   ]
  },
  {
   "cell_type": "code",
   "execution_count": 20,
   "id": "5ffe1460",
   "metadata": {},
   "outputs": [
    {
     "name": "stdout",
     "output_type": "stream",
     "text": [
      "factorial of 5 is 120\n"
     ]
    }
   ],
   "source": [
    "## solution 12\n",
    "\n",
    "num = int(input(\"enter a number\"))\n",
    "\n",
    "fact=1\n",
    "i=1\n",
    "while i<=num:\n",
    "    fact*=i\n",
    "    i+=1\n",
    "\n",
    "print(f\"factorial of {num} is {fact}\")"
   ]
  },
  {
   "cell_type": "code",
   "execution_count": null,
   "id": "4e49e39d",
   "metadata": {},
   "outputs": [
    {
     "name": "stdout",
     "output_type": "stream",
     "text": [
      "sum of digits is 6\n"
     ]
    }
   ],
   "source": [
    "## solution 13\n",
    "\n",
    "num = int(input(\"enter a number\"))\n",
    "\n",
    "sum = 0\n",
    "\n",
    "while num>0:\n",
    "    digit = num%10\n",
    "    sum+=digit\n",
    "    num = num//10\n",
    "\n",
    "print(f'sum of digits is {sum}')\n"
   ]
  },
  {
   "cell_type": "code",
   "execution_count": 25,
   "id": "bf2ee464",
   "metadata": {},
   "outputs": [
    {
     "name": "stdout",
     "output_type": "stream",
     "text": [
      "102 is not a prime number\n"
     ]
    }
   ],
   "source": [
    "## solution 14\n",
    "\n",
    "num = int(input(\"enter a number\"))\n",
    "\n",
    "is_prime = True\n",
    "\n",
    "if num<=1:\n",
    "    is_prime=False\n",
    "else:\n",
    "    for i in range(2,int(num**0.5)+1):\n",
    "        if num%i==0:\n",
    "            is_prime=False\n",
    "            break\n",
    "if is_prime:\n",
    "    print(f'{num} is a prime number')\n",
    "else:\n",
    "    print(f'{num} is not a prime number')\n",
    "\n"
   ]
  },
  {
   "cell_type": "code",
   "execution_count": 28,
   "id": "1e3ecef1",
   "metadata": {},
   "outputs": [
    {
     "name": "stdout",
     "output_type": "stream",
     "text": [
      "0\n",
      "1\n",
      "1\n",
      "2\n",
      "3\n",
      "5\n",
      "8\n",
      "13\n"
     ]
    }
   ],
   "source": [
    "## solution 15\n",
    "\n",
    "num = int(input(\"enter a number\"))\n",
    "\n",
    "a,b = 0,1\n",
    "\n",
    "count=0\n",
    "\n",
    "while count<num:\n",
    "    print(a)\n",
    "    a,b = b, a+b\n",
    "    count+=1 "
   ]
  },
  {
   "cell_type": "code",
   "execution_count": null,
   "id": "238b8d21",
   "metadata": {},
   "outputs": [],
   "source": []
  }
 ],
 "metadata": {
  "kernelspec": {
   "display_name": "venv",
   "language": "python",
   "name": "python3"
  },
  "language_info": {
   "codemirror_mode": {
    "name": "ipython",
    "version": 3
   },
   "file_extension": ".py",
   "mimetype": "text/x-python",
   "name": "python",
   "nbconvert_exporter": "python",
   "pygments_lexer": "ipython3",
   "version": "3.12.0"
  }
 },
 "nbformat": 4,
 "nbformat_minor": 5
}
