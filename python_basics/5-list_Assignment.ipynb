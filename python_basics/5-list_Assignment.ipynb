{
 "cells": [
  {
   "cell_type": "markdown",
   "metadata": {},
   "source": [
    "# Module 3: Data Structures Assignments\n",
    "## Lesson 3.1: Lists\n",
    "### Assignment 1: Creating and Accessing Lists\n",
    "\n",
    "Create a list of the first 20 positive integers. Print the list.\n",
    "\n",
    "### Assignment 2: Accessing List Elements\n",
    "\n",
    "Print the first, middle, and last elements of the list created in Assignment 1.\n",
    "\n",
    "### Assignment 3: List Slicing\n",
    "\n",
    "Print the first five elements, the last five elements, and the elements from index 5 to 15 of the list created in Assignment 1.\n",
    "\n",
    "### Assignment 4: List Comprehensions\n",
    "\n",
    "Create a new list containing the squares of the first 10 positive integers using a list comprehension. Print the new list.\n",
    "\n",
    "### Assignment 5: Filtering Lists\n",
    "\n",
    "Create a new list containing only the even numbers from the list created in Assignment 1 using a list comprehension. Print the new list.\n",
    "\n",
    "### Assignment 6: List Methods\n",
    "\n",
    "Create a list of random numbers and sort it in ascending and descending order. Remove the duplicates from the list and print the modified list.\n",
    "\n",
    "### Assignment 7: Nested Lists\n",
    "\n",
    "Create a nested list representing a 3x3 matrix and print the matrix. Access and print the element at the second row and third column.\n",
    "\n",
    "### Assignment 8: List of Dictionaries\n",
    "\n",
    "Create a list of dictionaries where each dictionary represents a student with keys 'name' and 'score'. Sort the list of dictionaries by the 'score' in descending order and print the sorted list.\n",
    "\n",
    "### Assignment 9: Matrix Transposition\n",
    "\n",
    "Write a function that takes a 3x3 matrix (nested list) as input and returns its transpose. Print the original and transposed matrices.\n",
    "\n",
    "### Assignment 10: Flattening a Nested List\n",
    "\n",
    "Write a function that takes a nested list and flattens it into a single list. Print the original and flattened lists.\n",
    "\n",
    "### Assignment 11: List Manipulation\n",
    "\n",
    "Create a list of the first 10 positive integers. Remove the elements at indices 2, 4, and 6, and insert the element '99' at index 5. Print the modified list.\n",
    "\n",
    "### Assignment 12: List Zipping\n",
    "\n",
    "Create two lists of the same length. Use the `zip` function to combine these lists into a list of tuples and print the result.\n",
    "\n",
    "### Assignment 13: List Reversal\n",
    "\n",
    "Write a function that takes a list and returns a new list with the elements in reverse order. Print the original and reversed lists.\n",
    "\n",
    "### Assignment 14: List Rotation\n",
    "\n",
    "Write a function that rotates a list by n positions. Print the original and rotated lists.\n",
    "\n",
    "### Assignment 15: List Intersection\n",
    "\n",
    "Write a function that takes two lists and returns a new list containing only the elements that are present in both lists. Print the intersected list."
   ]
  },
  {
   "cell_type": "code",
   "execution_count": 11,
   "id": "2d44420b",
   "metadata": {},
   "outputs": [
    {
     "name": "stdout",
     "output_type": "stream",
     "text": [
      "[1, 2, 3, 4, 5, 6, 7, 8, 9, 10, 11, 12, 13, 14, 15, 16, 17, 18, 19, 20]\n"
     ]
    }
   ],
   "source": [
    "## creating a list \n",
    "\n",
    "lst = [] ## empty list\n",
    "\n",
    "for i in range(1,21):  \n",
    "    lst.append(i)      ## appending numbers in list\n",
    "\n",
    "print(lst)"
   ]
  },
  {
   "cell_type": "code",
   "execution_count": 3,
   "id": "12c625b7",
   "metadata": {},
   "outputs": [
    {
     "name": "stdout",
     "output_type": "stream",
     "text": [
      "first element of list is 1\n",
      "middle element of list is 11\n",
      ";ast element of list is 20\n"
     ]
    }
   ],
   "source": [
    "## solution 2\n",
    "\n",
    "## fist element of list\n",
    "\n",
    "print(f'first element of list is {lst[0]}')\n",
    "\n",
    "## middle element of list\n",
    "\n",
    "print(f'middle element of list is {lst[int(len(lst)/2)]}')\n",
    "\n",
    "## last element of list\n",
    "\n",
    "print(f';ast element of list is {lst[-1]}')"
   ]
  },
  {
   "cell_type": "code",
   "execution_count": 8,
   "id": "e6eb7828",
   "metadata": {},
   "outputs": [
    {
     "name": "stdout",
     "output_type": "stream",
     "text": [
      "first five elements are [1, 2, 3, 4, 5]\n",
      "last 5 elements of list are [16, 17, 18, 19, 20]\n",
      "the elements between index 5 and 15 are [6, 7, 8, 9, 10, 11, 12, 13, 14, 15]\n"
     ]
    }
   ],
   "source": [
    "## solution 3\n",
    "\n",
    "## fist 5 elements\n",
    "\n",
    "lst_f5 = lst[:5]\n",
    "print(f'first five elements are {lst_f5}')\n",
    "\n",
    "## last 5 elements\n",
    "\n",
    "lst_l5 = lst[-5:]\n",
    "print(f'last 5 elements of list are {lst_l5}')\n",
    "\n",
    "\n",
    "## index 5 to 15\n",
    "\n",
    "lst_ = lst[5:15]\n",
    "print(f'the elements between index 5 and 15 are {lst_}')"
   ]
  },
  {
   "cell_type": "code",
   "execution_count": 10,
   "id": "5ae9dde8",
   "metadata": {},
   "outputs": [
    {
     "name": "stdout",
     "output_type": "stream",
     "text": [
      "[1, 4, 9, 16, 25, 36, 49, 64, 81, 100]\n"
     ]
    }
   ],
   "source": [
    "## solution 4\n",
    "\n",
    "lst_c = [num**2 for num in range(1,11)]\n",
    "\n",
    "print(lst_c)"
   ]
  },
  {
   "cell_type": "code",
   "execution_count": 12,
   "id": "1398330b",
   "metadata": {},
   "outputs": [
    {
     "name": "stdout",
     "output_type": "stream",
     "text": [
      "[2, 4, 6, 8, 10, 12, 14, 16, 18, 20]\n"
     ]
    }
   ],
   "source": [
    "## solution 5\n",
    "\n",
    "lst_even = [num for num in lst if num%2==0]\n",
    "\n",
    "print(lst_even)"
   ]
  },
  {
   "cell_type": "code",
   "execution_count": 18,
   "id": "227226fc",
   "metadata": {},
   "outputs": [
    {
     "name": "stdout",
     "output_type": "stream",
     "text": [
      "list of random numbers [11, 10, 19, 11, 10, 17, 18, 20, 7, 7, 17, 6, 2, 13, 11]\n",
      "list in ascending order [2, 6, 7, 7, 10, 10, 11, 11, 11, 13, 17, 17, 18, 19, 20]\n",
      "list in descending order [20, 19, 18, 17, 17, 13, 11, 11, 11, 10, 10, 7, 7, 6, 2]\n",
      "list after removing duplicates [2, 6, 7, 10, 11, 13, 17, 18, 19, 20]\n"
     ]
    }
   ],
   "source": [
    "## solution 6\n",
    "\n",
    "import random\n",
    "\n",
    "lst_rn = [random.randint(1,20) for _ in range(15)]\n",
    "print(\"list of random numbers\", lst_rn)\n",
    "\n",
    "\n",
    "## list sorts in ascending order\n",
    "\n",
    "lst_sort_asc = sorted(lst_rn)\n",
    "\n",
    "print('list in ascending order', lst_sort_asc)\n",
    "\n",
    "## list sorts in descending order\n",
    "\n",
    "lst_sort_desc = sorted(lst_rn, reverse=True)\n",
    "\n",
    "print('list in descending order', lst_sort_desc)\n",
    "\n",
    "\n",
    "## remove duplicates in list\n",
    "\n",
    "lst_rm_d = list(set(lst_rn))\n",
    "\n",
    "print(\"list after removing duplicates\", lst_rm_d)\n",
    "\n",
    "\n"
   ]
  },
  {
   "cell_type": "code",
   "execution_count": 23,
   "id": "8a5cd698",
   "metadata": {},
   "outputs": [
    {
     "name": "stdout",
     "output_type": "stream",
     "text": [
      "matrix is [[1, 2, 3], [4, 5, 6], [7, 8, 9]]\n",
      "element at 2nd row and 3rd column of matrix 6\n"
     ]
    }
   ],
   "source": [
    "## solution 7\n",
    "\n",
    "mtx = [[1,2,3],\n",
    "       [4,5,6],\n",
    "       [7,8,9]]\n",
    "\n",
    "print('matrix is', mtx)\n",
    "\n",
    "print('element at 2nd row and 3rd column of matrix',mtx[1][2])"
   ]
  },
  {
   "cell_type": "code",
   "execution_count": 30,
   "id": "d63bb561",
   "metadata": {},
   "outputs": [
    {
     "name": "stdout",
     "output_type": "stream",
     "text": [
      "list of dictionories\n",
      " [{'name': 'a', 'score': 85}, {'name': 'b', 'score': 99}, {'name': 'c', 'score': 95}, {'name': 'd', 'score': 75}]\n",
      "\n",
      "\n",
      "sorting list based on score in desceding order\n",
      " [{'name': 'b', 'score': 99}, {'name': 'c', 'score': 95}, {'name': 'a', 'score': 85}, {'name': 'd', 'score': 75}]\n"
     ]
    }
   ],
   "source": [
    "## solution 8\n",
    "\n",
    "stud = [{'name':'a','score':85},\n",
    "        {'name':'b','score':99},\n",
    "        {'name':'c','score':95},\n",
    "        {'name':'d','score':75}]\n",
    "\n",
    "\n",
    "print(\"list of dictionories\\n\",stud)\n",
    "\n",
    "print(\"\\n\")\n",
    "## sorting the list on score values\n",
    "\n",
    "stud_sort = sorted(stud, key=lambda x:x['score'], reverse=True)\n",
    "\n",
    "print(\"sorting list based on score in desceding order\\n\",stud_sort)\n"
   ]
  },
  {
   "cell_type": "code",
   "execution_count": null,
   "id": "fda421f3",
   "metadata": {},
   "outputs": [
    {
     "name": "stdout",
     "output_type": "stream",
     "text": [
      "original matrix is \n",
      " [[1, 2, 3, 4], [5, 6, 7, 8], [7, 5, 9, 3]]\n",
      "\n",
      "\n",
      "transpose of matrix is \n",
      " [[1, 5, 7], [2, 6, 5], [3, 7, 9], [4, 8, 3]]\n"
     ]
    }
   ],
   "source": [
    "# solution 9\n",
    "\n",
    "mtx = [[1,2,3,4],\n",
    "       [5,6,7,8],\n",
    "       [7,5,9,3]]\n",
    "\n",
    "mtx_tr = [[mtx[j][i] for j in range(len(mtx))] for i in range(len(mtx[0]))]  ## transpose of matrix using list comprehension\n",
    "\n",
    "print('original matrix is \\n', mtx)\n",
    "\n",
    "print('\\n')\n",
    "\n",
    "print('transpose of matrix is \\n', mtx_tr)"
   ]
  },
  {
   "cell_type": "code",
   "execution_count": null,
   "id": "ffeca75e",
   "metadata": {},
   "outputs": [
    {
     "name": "stdout",
     "output_type": "stream",
     "text": [
      "original list \n",
      " [[1, 2, 3], ['hi', 'sam', 3.14]]\n",
      "flattened list \n",
      " [1, 2, 3, 'hi', 'sam', 3.14]\n"
     ]
    }
   ],
   "source": [
    "## solution 10\n",
    "\n",
    "lst = [[1,2,3],['hi','sam',3.14]]\n",
    "\n",
    "flattened_lst= [item for sub_lst in lst for item in sub_lst] ## flattening of list using list comprehension\n",
    "\n",
    "print('original list \\n', lst)\n",
    "\n",
    "print('flattened list \\n', flattened_lst)"
   ]
  },
  {
   "cell_type": "code",
   "execution_count": null,
   "id": "b3940851",
   "metadata": {},
   "outputs": [
    {
     "name": "stdout",
     "output_type": "stream",
     "text": [
      "before removing element at position 2 \n",
      " [0, 1, 2, 3, 4, 5, 6, 7, 8, 9]\n",
      "after removing element at position 2 \n",
      " [0, 2, 3, 4, 5, 6, 7, 8, 9]\n",
      "before removing element at position 4 \n",
      " [0, 2, 3, 4, 5, 6, 7, 8, 9]\n",
      "after removing element at position 4 \n",
      " [0, 2, 4, 5, 6, 7, 8, 9]\n",
      "before removing element at position 6 \n",
      " [0, 2, 4, 5, 6, 7, 8, 9]\n",
      "after removing element at position 6 \n",
      " [0, 2, 4, 6, 7, 8, 9]\n",
      "before inseting 99 at index 5 \n",
      " [0, 2, 4, 6, 7, 8, 9]\n",
      "after inserting 99 at index 5 \n",
      " [0, 2, 4, 6, 7, 99, 8, 9]\n",
      "5\n"
     ]
    }
   ],
   "source": [
    "## solution 11\n",
    "\n",
    "\n",
    "lst = [num for num in range(10)] ## list of first 10 positive integers\n",
    "\n",
    "print(\"before removing element at position 2 \\n\", lst)\n",
    "lst.remove(1) \n",
    "print(\"after removing element at position 2 \\n\", lst)\n",
    "\n",
    "print(\"before removing element at position 4 \\n\", lst)\n",
    "lst.remove(3) \n",
    "print(\"after removing element at position 4 \\n\", lst)\n",
    "\n",
    "print(\"before removing element at position 6 \\n\", lst)\n",
    "lst.remove(5) \n",
    "print(\"after removing element at position 6 \\n\", lst)\n",
    "\n",
    "print('before inseting 99 at index 5 \\n', lst)\n",
    "lst.insert(5, 99)\n",
    "print('after inserting 99 at index 5 \\n', lst)\n",
    "\n"
   ]
  },
  {
   "cell_type": "code",
   "execution_count": 18,
   "id": "c7108ccc",
   "metadata": {},
   "outputs": [
    {
     "name": "stdout",
     "output_type": "stream",
     "text": [
      "zipped list \n",
      " ((1, 5), (2, 6), (3, 7), (4, 8))\n"
     ]
    }
   ],
   "source": [
    "## solution 12\n",
    "\n",
    "lst1 = [1,2,3,4,5] ## creating a list 1\n",
    "lst2 = [5,6,7,8]  ## creating a list 1\n",
    "\n",
    "sl = tuple(zip(lst1,lst2)) ## zipping 2 lists to create a tuple\n",
    "\n",
    "print('zipped list \\n',sl)\n",
    "\n"
   ]
  },
  {
   "cell_type": "code",
   "execution_count": null,
   "id": "f247d029",
   "metadata": {},
   "outputs": [
    {
     "name": "stdout",
     "output_type": "stream",
     "text": [
      "original list is \n",
      " [0, 1, 2, 3, 4, 5, 6, 7, 8, 9]\n",
      "reverse of list is \n",
      " [9, 8, 7, 6, 5, 4, 3, 2, 1, 0]\n"
     ]
    }
   ],
   "source": [
    "## solution 13\n",
    "\n",
    "lst = [num for num in range(10)]\n",
    "\n",
    "print(\"original list is \\n\", lst)\n",
    "\n",
    "lst.reverse() ## function to reverse the list\n",
    "\n",
    "print('reverse of list is \\n', lst)"
   ]
  },
  {
   "cell_type": "code",
   "execution_count": 30,
   "id": "19f28b4b",
   "metadata": {},
   "outputs": [
    {
     "name": "stdout",
     "output_type": "stream",
     "text": [
      "original list \n",
      " [1, 2, 3, 4, 5, 6]\n",
      "list after rotation \n",
      " [4, 5, 6, 1, 2, 3]\n"
     ]
    }
   ],
   "source": [
    "## solution 14\n",
    "\n",
    "lst = [1,2,3,4,5,6]\n",
    "\n",
    "n = 3\n",
    "\n",
    "print('original list \\n',lst)\n",
    "\n",
    "rotated_lst = lst[-n:]+lst[:-n]\n",
    "\n",
    "print('list after rotation \\n', rotated_lst)"
   ]
  },
  {
   "cell_type": "code",
   "execution_count": 37,
   "id": "fa911514",
   "metadata": {},
   "outputs": [
    {
     "name": "stdout",
     "output_type": "stream",
     "text": [
      "intersection of two lists [5, 7, 9]\n"
     ]
    }
   ],
   "source": [
    "## solution 15\n",
    "\n",
    "lst1 = [1,3,5,7,9]\n",
    "lst2 = [4,5,6,7,8,9]\n",
    "\n",
    "lst_int = [element for element in lst1 if element in lst2]\n",
    "\n",
    "print(\"intersection of two lists\",lst_int)\n"
   ]
  },
  {
   "cell_type": "code",
   "execution_count": null,
   "id": "7d487f8d",
   "metadata": {},
   "outputs": [],
   "source": []
  }
 ],
 "metadata": {
  "kernelspec": {
   "display_name": "venv",
   "language": "python",
   "name": "python3"
  },
  "language_info": {
   "codemirror_mode": {
    "name": "ipython",
    "version": 3
   },
   "file_extension": ".py",
   "mimetype": "text/x-python",
   "name": "python",
   "nbconvert_exporter": "python",
   "pygments_lexer": "ipython3",
   "version": "3.12.0"
  }
 },
 "nbformat": 4,
 "nbformat_minor": 5
}
