{
 "cells": [
  {
   "cell_type": "markdown",
   "metadata": {},
   "source": [
    "# Module 3: Data Structures Assignments\n",
    "## Lesson 3.4: Dictionaries\n",
    "### Assignment 1: Creating and Accessing Dictionaries\n",
    "\n",
    "Create a dictionary with the first 10 positive integers as keys and their squares as values. Print the dictionary.\n",
    "\n",
    "### Assignment 2: Accessing Dictionary Elements\n",
    "\n",
    "Print the value of the key 5 and the keys of the dictionary created in Assignment 1.\n",
    "\n",
    "### Assignment 3: Dictionary Methods\n",
    "\n",
    "Add a new key-value pair (11, 121) to the dictionary created in Assignment 1 and then remove the key-value pair with key 1. Print the modified dictionary.\n",
    "\n",
    "### Assignment 4: Iterating Over Dictionaries\n",
    "\n",
    "Iterate over the dictionary created in Assignment 1 and print each key-value pair.\n",
    "\n",
    "### Assignment 5: Dictionary Comprehensions\n",
    "\n",
    "Create a new dictionary containing the cubes of the first 10 positive integers using a dictionary comprehension. Print the new dictionary.\n",
    "\n",
    "### Assignment 6: Merging Dictionaries\n",
    "\n",
    "Create two dictionaries: one with keys as the first 5 positive integers and values as their squares, and another with keys as the next 5 positive integers and values as their squares. Merge these dictionaries into a single dictionary and print it.\n",
    "\n",
    "### Assignment 7: Nested Dictionaries\n",
    "\n",
    "Create a nested dictionary representing a student with keys 'name', 'age', 'grades', where 'grades' is another dictionary with keys 'math', 'science', and 'english'. Print the nested dictionary.\n",
    "\n",
    "### Assignment 8: Dictionary of Lists\n",
    "\n",
    "Create a dictionary where the keys are the first 5 positive integers and the values are lists containing the first 5 multiples of the key. Print the dictionary.\n",
    "\n",
    "### Assignment 9: Dictionary of Tuples\n",
    "\n",
    "Create a dictionary where the keys are the first 5 positive integers and the values are tuples containing the key and its square. Print the dictionary.\n",
    "\n",
    "### Assignment 10: Dictionary and List Conversion\n",
    "\n",
    "Create a dictionary with the first 5 positive integers as keys and their squares as values. Convert the dictionary to a list of tuples and print it.\n",
    "\n",
    "### Assignment 11: Dictionary Filtering\n",
    "\n",
    "Create a dictionary with the first 10 positive integers as keys and their squares as values. Create a new dictionary containing only the key-value pairs where the key is even. Print the new dictionary.\n",
    "\n",
    "### Assignment 12: Dictionary Key and Value Transformation\n",
    "\n",
    "Create a dictionary with the first 5 positive integers as keys and their squares as values. Create a new dictionary with keys and values swapped. Print the new dictionary.\n",
    "\n",
    "### Assignment 13: Default Dictionary\n",
    "\n",
    "Create a default dictionary where each key has a default value of an empty list. Add some elements to the lists and print the dictionary.\n",
    "\n",
    "### Assignment 14: Counting with Dictionaries\n",
    "\n",
    "Write a function that takes a string and returns a dictionary with the count of each character in the string. Print the dictionary.\n",
    "\n",
    "### Assignment 15: Dictionary and JSON\n",
    "\n",
    "Create a dictionary representing a book with keys 'title', 'author', 'year', and 'genre'. Convert the dictionary to a JSON string and print it."
   ]
  },
  {
   "cell_type": "code",
   "execution_count": 6,
   "metadata": {},
   "outputs": [
    {
     "name": "stdout",
     "output_type": "stream",
     "text": [
      "{1: 1, 2: 4, 3: 9, 4: 16, 5: 25, 6: 36, 7: 49, 8: 64, 9: 81, 10: 100}\n"
     ]
    }
   ],
   "source": [
    "## solution 1\n",
    "\n",
    "# dictionary with squares of values\n",
    "squares = {x:x**2 for x in range(1,11)}\n",
    "\n",
    "print(squares)"
   ]
  },
  {
   "cell_type": "code",
   "execution_count": 7,
   "id": "371aed20",
   "metadata": {},
   "outputs": [
    {
     "name": "stdout",
     "output_type": "stream",
     "text": [
      "25\n",
      "keys in dictionay: dict_keys([1, 2, 3, 4, 5, 6, 7, 8, 9, 10])\n"
     ]
    }
   ],
   "source": [
    "## solution 2\n",
    "\n",
    "# value of key 5\n",
    "print(squares[5])\n",
    "\n",
    "# keys\n",
    "print(f\"keys in dictionay: {squares.keys()}\")"
   ]
  },
  {
   "cell_type": "code",
   "execution_count": 8,
   "id": "1a6daf62",
   "metadata": {},
   "outputs": [
    {
     "name": "stdout",
     "output_type": "stream",
     "text": [
      "dictionary after adding 11:121 - {1: 1, 2: 4, 3: 9, 4: 16, 5: 25, 6: 36, 7: 49, 8: 64, 9: 81, 10: 100, 11: 121}\n",
      "dictionary after removing key 1: {2: 4, 3: 9, 4: 16, 5: 25, 6: 36, 7: 49, 8: 64, 9: 81, 10: 100, 11: 121}\n"
     ]
    }
   ],
   "source": [
    "## solution 3\n",
    "\n",
    "# adding 11:121 to the dictionary\n",
    "squares[11]=121\n",
    "print(f\"dictionary after adding 11:121 - {squares}\")\n",
    "\n",
    "# removing with key 1\n",
    "squares.pop(1)\n",
    "print(f\"dictionary after removing key 1: {squares}\")"
   ]
  },
  {
   "cell_type": "code",
   "execution_count": 10,
   "id": "28e0988d",
   "metadata": {},
   "outputs": [
    {
     "name": "stdout",
     "output_type": "stream",
     "text": [
      "2:4\n",
      "3:9\n",
      "4:16\n",
      "5:25\n",
      "6:36\n",
      "7:49\n",
      "8:64\n",
      "9:81\n",
      "10:100\n",
      "11:121\n"
     ]
    }
   ],
   "source": [
    "## solution 4\n",
    "\n",
    "# iterating over dictionary \n",
    "\n",
    "for key, value in squares.items():\n",
    "    print(f\"{key}:{value}\")"
   ]
  },
  {
   "cell_type": "code",
   "execution_count": 11,
   "id": "31721294",
   "metadata": {},
   "outputs": [
    {
     "name": "stdout",
     "output_type": "stream",
     "text": [
      "{1: 1, 2: 8, 3: 27, 4: 64, 5: 125, 6: 216, 7: 343, 8: 512, 9: 729, 10: 1000}\n"
     ]
    }
   ],
   "source": [
    "## solution 5\n",
    "\n",
    "# dictionary with cubes of values\n",
    "cubes = {x:x**3 for x in range(1,11)}\n",
    "\n",
    "print(cubes)"
   ]
  },
  {
   "cell_type": "code",
   "execution_count": 13,
   "id": "22049d4d",
   "metadata": {},
   "outputs": [
    {
     "name": "stdout",
     "output_type": "stream",
     "text": [
      "{1: 1, 2: 4, 3: 9, 4: 16, 5: 25, 6: 36, 7: 49, 8: 64, 9: 81, 10: 100}\n"
     ]
    }
   ],
   "source": [
    "## solution 6\n",
    "\n",
    "# dictionary with squares of first 5 values\n",
    "squares_1 = {x:x**2 for x in range(1,6)}\n",
    "\n",
    "# dictionary with squares of next 5 values\n",
    "squares_2 = {x:x**2 for x in range(6,11)}\n",
    "\n",
    "# merging two dictionaries\n",
    "squares_3 = {**squares_1,**squares_2}\n",
    "print(squares_3)"
   ]
  },
  {
   "cell_type": "code",
   "execution_count": 14,
   "id": "dba89865",
   "metadata": {},
   "outputs": [
    {
     "name": "stdout",
     "output_type": "stream",
     "text": [
      "{'name': 'R1', 'age': 25, 'grades': {'maths': 90, 'science': 91, 'english': 85}}\n"
     ]
    }
   ],
   "source": [
    "## solution 7\n",
    "\n",
    "# nested dictionary\n",
    "dict_1 = {\n",
    "    'name':\"R1\",\n",
    "    'age':25,\n",
    "    'grades':{'maths':90,'science':91,'english':85}}\n",
    "\n",
    "print(dict_1)"
   ]
  },
  {
   "cell_type": "code",
   "execution_count": null,
   "id": "48613f34",
   "metadata": {},
   "outputs": [
    {
     "data": {
      "text/plain": [
       "{1: [1, 2, 3, 4, 5],\n",
       " 2: [2, 4, 6, 8, 10],\n",
       " 3: [3, 6, 9, 12, 15],\n",
       " 4: [4, 8, 12, 16, 20],\n",
       " 5: [5, 10, 15, 20, 25]}"
      ]
     },
     "execution_count": 17,
     "metadata": {},
     "output_type": "execute_result"
    }
   ],
   "source": [
    "## solution 8\n",
    "\n",
    "#dictionary with list of values as multiples of 5\n",
    "dict = {i:[i*j for j in range(1,6)] for i in range(1,6) }\n",
    "dict"
   ]
  },
  {
   "cell_type": "code",
   "execution_count": 18,
   "id": "11bb0e44",
   "metadata": {},
   "outputs": [
    {
     "name": "stdout",
     "output_type": "stream",
     "text": [
      "{1: (1, 1), 2: (2, 4), 3: (3, 9), 4: (4, 16), 5: (5, 25)}\n"
     ]
    }
   ],
   "source": [
    "## solution 9\n",
    "\n",
    "# dictionary with tuples as keys\n",
    "d1 = {x:(x,x**2) for x in range(1,6)}\n",
    "print(d1)"
   ]
  },
  {
   "cell_type": "code",
   "execution_count": 20,
   "id": "27f28897",
   "metadata": {},
   "outputs": [
    {
     "name": "stdout",
     "output_type": "stream",
     "text": [
      "[(1, 1), (2, 4), (3, 9), (4, 16), (5, 25)]\n"
     ]
    }
   ],
   "source": [
    "## solution 10\n",
    "\n",
    "# dictionary with squares of first 5 values\n",
    "squares_1 = {x:x**2 for x in range(1,6)}\n",
    "ls = list(squares_1.items())\n",
    "print(ls)"
   ]
  },
  {
   "cell_type": "code",
   "execution_count": 22,
   "id": "1c662628",
   "metadata": {},
   "outputs": [
    {
     "name": "stdout",
     "output_type": "stream",
     "text": [
      "{2: 4, 4: 16, 6: 36, 8: 64, 10: 100}\n"
     ]
    }
   ],
   "source": [
    "## solution 11\n",
    "\n",
    "# dictionary with squares of values\n",
    "squares_1 = {x:x**2 for x in range(1,11)}\n",
    "evens = {x:s for x,s in squares_1.items() if x%2==0}\n",
    "print(evens)"
   ]
  },
  {
   "cell_type": "code",
   "execution_count": 23,
   "id": "5adfa7b2",
   "metadata": {},
   "outputs": [
    {
     "name": "stdout",
     "output_type": "stream",
     "text": [
      "{1: 1, 4: 2, 9: 3, 16: 4, 25: 5, 36: 6, 49: 7, 64: 8, 81: 9, 100: 10}\n"
     ]
    }
   ],
   "source": [
    "## solution 12\n",
    "\n",
    "# swap key, value in dictionary\n",
    "d = {x:x**2 for x in range(1,11)}\n",
    "d_swap = {y:x for x,y in d.items()}\n",
    "print(d_swap)"
   ]
  },
  {
   "cell_type": "code",
   "execution_count": 24,
   "id": "d656da5a",
   "metadata": {},
   "outputs": [
    {
     "name": "stdout",
     "output_type": "stream",
     "text": [
      "defaultdict(<class 'list'>, {'a': [1], 'b': [2], 'c': [3]})\n"
     ]
    }
   ],
   "source": [
    "## solution 13\n",
    "\n",
    "from collections import defaultdict\n",
    "\n",
    "default_list = defaultdict(list)\n",
    "default_list['a'].append(1)\n",
    "default_list['b'].append(2)\n",
    "default_list['c'].append(3)\n",
    "print(default_list)"
   ]
  },
  {
   "cell_type": "code",
   "execution_count": 26,
   "id": "7e39ca25",
   "metadata": {},
   "outputs": [
    {
     "name": "stdout",
     "output_type": "stream",
     "text": [
      "{'M': 1, 'I': 4, 'S': 2, 'C': 1, 'P': 2}\n"
     ]
    }
   ],
   "source": [
    "## solution 14\n",
    "\n",
    "str = \"MISSICIPPI\"\n",
    "\n",
    "d = {}\n",
    "\n",
    "for i in str:\n",
    "    if i in str:\n",
    "        d[i] = d.get(i,0)+1\n",
    "    else:\n",
    "        d[i]=1\n",
    "\n",
    "print(d)"
   ]
  },
  {
   "cell_type": "code",
   "execution_count": 28,
   "id": "6a27e70f",
   "metadata": {},
   "outputs": [
    {
     "name": "stdout",
     "output_type": "stream",
     "text": [
      "{\"title\": \"mybook\", \"author\": \"s\", \"year\": 2025, \"genre\": \"comedy\"}\n"
     ]
    }
   ],
   "source": [
    "## solution 15\n",
    "\n",
    "import json\n",
    "\n",
    "book = {'title':'mybook','author':'s','year':2025,'genre':'comedy'}\n",
    "book_json = json.dumps(book)\n",
    "print(book_json)"
   ]
  },
  {
   "cell_type": "code",
   "execution_count": null,
   "id": "9e27dc80",
   "metadata": {},
   "outputs": [],
   "source": []
  }
 ],
 "metadata": {
  "kernelspec": {
   "display_name": "venv",
   "language": "python",
   "name": "python3"
  },
  "language_info": {
   "codemirror_mode": {
    "name": "ipython",
    "version": 3
   },
   "file_extension": ".py",
   "mimetype": "text/x-python",
   "name": "python",
   "nbconvert_exporter": "python",
   "pygments_lexer": "ipython3",
   "version": "3.12.0"
  }
 },
 "nbformat": 4,
 "nbformat_minor": 5
}
