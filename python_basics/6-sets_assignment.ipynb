{
 "cells": [
  {
   "cell_type": "markdown",
   "metadata": {},
   "source": [
    "# Module 3: Data Structures Assignments\n",
    "## Lesson 3.3: Sets\n",
    "### Assignment 1: Creating and Accessing Sets\n",
    "\n",
    "Create a set with the first 10 positive integers. Print the set.\n",
    "\n",
    "### Assignment 2: Adding and Removing Elements\n",
    "\n",
    "Add the number 11 to the set created in Assignment 1. Then remove the number 1 from the set. Print the modified set.\n",
    "\n",
    "### Assignment 3: Set Operations\n",
    "\n",
    "Create two sets: one with the first 5 positive integers and another with the first 5 even integers. Perform and print the results of union, intersection, difference, and symmetric difference operations on these sets.\n",
    "\n",
    "### Assignment 4: Set Comprehensions\n",
    "\n",
    "Create a new set containing the squares of the first 10 positive integers using a set comprehension. Print the new set.\n",
    "\n",
    "### Assignment 5: Filtering Sets\n",
    "\n",
    "Create a new set containing only the even numbers from the set created in Assignment 1 using a set comprehension. Print the new set.\n",
    "\n",
    "### Assignment 6: Set Methods\n",
    "\n",
    "Create a set with duplicate elements and remove the duplicates using set methods. Print the modified set.\n",
    "\n",
    "### Assignment 7: Subsets and Supersets\n",
    "\n",
    "Create two sets: one with the first 5 positive integers and another with the first 3 positive integers. Check if the second set is a subset of the first set and if the first set is a superset of the second set. Print the results.\n",
    "\n",
    "### Assignment 8: Frozenset\n",
    "\n",
    "Create a frozenset with the first 5 positive integers. Print the frozenset.\n",
    "\n",
    "### Assignment 9: Set and List Conversion\n",
    "\n",
    "Create a set with the first 5 positive integers. Convert it to a list, append the number 6, and convert it back to a set. Print the resulting set.\n",
    "\n",
    "### Assignment 10: Set and Dictionary\n",
    "\n",
    "Create a dictionary with set keys and integer values. Print the dictionary.\n",
    "\n",
    "### Assignment 11: Iterating Over Sets\n",
    "\n",
    "Create a set and iterate over the elements, printing each element.\n",
    "\n",
    "### Assignment 12: Removing Elements from Sets\n",
    "\n",
    "Create a set and remove elements from it until it is empty. Print the set after each removal.\n",
    "\n",
    "### Assignment 13: Set Symmetric Difference Update\n",
    "\n",
    "Create two sets and update the first set with the symmetric difference of the two sets. Print the modified first set.\n",
    "\n",
    "### Assignment 14: Set Membership Testing\n",
    "\n",
    "Create a set and test if certain elements are present in the set. Print the results.\n",
    "\n",
    "### Assignment 15: Set of Tuples\n",
    "\n",
    "Create a set containing tuples, where each tuple contains two elements. Print the set."
   ]
  },
  {
   "cell_type": "code",
   "execution_count": 11,
   "metadata": {},
   "outputs": [
    {
     "name": "stdout",
     "output_type": "stream",
     "text": [
      "{1, 2, 3, 4, 5, 6, 7, 8, 9, 10}\n"
     ]
    }
   ],
   "source": [
    "## solution 1\n",
    "\n",
    "s1 = set([x for x in range(1,11)])\n",
    "\n",
    "print(s1)"
   ]
  },
  {
   "cell_type": "code",
   "execution_count": 6,
   "id": "9d1e4734",
   "metadata": {},
   "outputs": [
    {
     "name": "stdout",
     "output_type": "stream",
     "text": [
      "set after adding 11: {1, 2, 3, 4, 5, 6, 7, 8, 9, 10, 11}\n",
      "set after removing 1: {2, 3, 4, 5, 6, 7, 8, 9, 10, 11}\n"
     ]
    }
   ],
   "source": [
    "## solution 2\n",
    "\n",
    "# add 11 to set\n",
    "s1.add(11)\n",
    "\n",
    "print(f\"set after adding 11: {s1}\")\n",
    "\n",
    "# remove 1 from set\n",
    "s1.remove(1)\n",
    "\n",
    "print(f\"set after removing 1: {s1}\")"
   ]
  },
  {
   "cell_type": "code",
   "execution_count": 7,
   "id": "ef5d450e",
   "metadata": {},
   "outputs": [
    {
     "name": "stdout",
     "output_type": "stream",
     "text": [
      "union of sets is: {1, 2, 3, 4, 5, 6, 8, 10}\n",
      "intersection of sets is: {2, 4}\n",
      "difference of sets: {1, 3, 5}\n",
      "symmetric difference of sets: {1, 3, 5, 6, 8, 10}\n"
     ]
    }
   ],
   "source": [
    "## solution 3\n",
    "\n",
    "s1 = {1,2,3,4,5}\n",
    "s2 = {2,4,6,8,10}\n",
    "\n",
    "# union of sets\n",
    "print(f\"union of sets is: {s1.union(s2)}\")\n",
    "\n",
    "# intersection of sets\n",
    "print(f\"intersection of sets is: {s1.intersection(s2)}\")\n",
    "\n",
    "# difference of sets\n",
    "print(f\"difference of sets: {s1.difference(s2)}\")\n",
    "\n",
    "# symmetrice difference of sets\n",
    "print(f\"symmetric difference of sets: {s1.symmetric_difference(s2)}\")"
   ]
  },
  {
   "cell_type": "code",
   "execution_count": 10,
   "id": "68151b1a",
   "metadata": {},
   "outputs": [
    {
     "name": "stdout",
     "output_type": "stream",
     "text": [
      "{64, 1, 4, 36, 100, 9, 16, 49, 81, 25}\n"
     ]
    }
   ],
   "source": [
    "## solution 4\n",
    "\n",
    "s2 = {x**2 for x in range(1,11)}\n",
    "\n",
    "print(s2)"
   ]
  },
  {
   "cell_type": "code",
   "execution_count": 13,
   "id": "06dbc029",
   "metadata": {},
   "outputs": [
    {
     "name": "stdout",
     "output_type": "stream",
     "text": [
      "{2, 4, 6, 8, 10}\n"
     ]
    }
   ],
   "source": [
    "## solution 5\n",
    "\n",
    "s3 = {x for x in s1 if x%2==0}\n",
    "\n",
    "print(s3)"
   ]
  },
  {
   "cell_type": "code",
   "execution_count": 15,
   "id": "a651ffaa",
   "metadata": {},
   "outputs": [
    {
     "name": "stdout",
     "output_type": "stream",
     "text": [
      "{1, 2, 3, 4, 5, 6, 7, 8, 9}\n"
     ]
    }
   ],
   "source": [
    "## solution 6\n",
    "\n",
    "s4 = {1,1,2,3,4,5,6,7,7,8,9}\n",
    "\n",
    "uniq_set = set(s4)\n",
    "\n",
    "print(uniq_set)"
   ]
  },
  {
   "cell_type": "code",
   "execution_count": 16,
   "id": "a49491d9",
   "metadata": {},
   "outputs": [
    {
     "name": "stdout",
     "output_type": "stream",
     "text": [
      "check the subset: True\n",
      "check the superset: True\n"
     ]
    }
   ],
   "source": [
    "## solution 7\n",
    "\n",
    "s5 = {1,2,3,4,5}\n",
    "s6 = {1,2,3}\n",
    "\n",
    "print(f\"check the subset: {s6.issubset(s5)}\")\n",
    "\n",
    "print(f\"check the superset: {s5.issuperset(s6)}\")"
   ]
  },
  {
   "cell_type": "code",
   "execution_count": 17,
   "id": "159231ce",
   "metadata": {},
   "outputs": [
    {
     "name": "stdout",
     "output_type": "stream",
     "text": [
      "frozenset({1, 2, 3, 4, 5})\n"
     ]
    }
   ],
   "source": [
    "## solution 8\n",
    "\n",
    "s7 = frozenset(range(1,6))\n",
    "\n",
    "print(s7)"
   ]
  },
  {
   "cell_type": "code",
   "execution_count": 1,
   "id": "0edd7457",
   "metadata": {},
   "outputs": [
    {
     "name": "stdout",
     "output_type": "stream",
     "text": [
      "set is {1, 2, 3, 4, 5}\n",
      "list is [1, 2, 3, 4, 5]\n",
      "[1, 2, 3, 4, 5, 6]\n",
      "set after appending {1, 2, 3, 4, 5, 6}\n"
     ]
    }
   ],
   "source": [
    "## solution 9\n",
    "\n",
    "s11 = {1,2,3,4,5} ## set of first 5 integers\n",
    "print(f\"set is {s11}\")\n",
    "\n",
    "l11 = list(s11) ## convert set to list\n",
    "print(f\"list is {l11}\")\n",
    "\n",
    "## append 6 to list\n",
    "l11.append(6)\n",
    "print(l11)\n",
    "\n",
    "## convert list to set\n",
    "l11 = set(l11)\n",
    "print(f\"set after appending {l11}\")"
   ]
  },
  {
   "cell_type": "code",
   "execution_count": 3,
   "id": "5416074f",
   "metadata": {},
   "outputs": [
    {
     "name": "stdout",
     "output_type": "stream",
     "text": [
      "{frozenset({1, 2}): 3, frozenset({4, 5}): 6, frozenset({8, 7}): 9}\n"
     ]
    }
   ],
   "source": [
    "## solution 10\n",
    "\n",
    "# dictionary with set as key\n",
    "\n",
    "d1 = {\n",
    "    frozenset({1,2}):3,\n",
    "    frozenset({4,5}):6,\n",
    "    frozenset({7,8}):9\n",
    "}\n",
    "\n",
    "print(d1)"
   ]
  },
  {
   "cell_type": "code",
   "execution_count": 13,
   "id": "39fccc7a",
   "metadata": {},
   "outputs": [
    {
     "name": "stdout",
     "output_type": "stream",
     "text": [
      "1\n",
      "2\n",
      "3\n",
      "4\n",
      "5\n"
     ]
    }
   ],
   "source": [
    "## solution 11\n",
    "\n",
    "# creating a set\n",
    "s1 = {1,2,3,4,5}\n",
    "\n",
    "for elem in s1:\n",
    "    print(elem)"
   ]
  },
  {
   "cell_type": "code",
   "execution_count": 14,
   "id": "8924a4c5",
   "metadata": {},
   "outputs": [
    {
     "name": "stdout",
     "output_type": "stream",
     "text": [
      "{2, 3, 4, 5}\n",
      "{3, 4, 5}\n",
      "{4, 5}\n",
      "{5}\n",
      "set()\n"
     ]
    }
   ],
   "source": [
    "## solution 12\n",
    "\n",
    "while s1:\n",
    "    s1.pop()\n",
    "    print(s1)\n",
    "\n"
   ]
  },
  {
   "cell_type": "code",
   "execution_count": 16,
   "id": "fbecaac3",
   "metadata": {},
   "outputs": [
    {
     "name": "stdout",
     "output_type": "stream",
     "text": [
      "symmetric difference {1, 3, 5, 6, 8, 10}\n"
     ]
    }
   ],
   "source": [
    "## solution 13\n",
    "\n",
    "# creating sets\n",
    "s1 = {1,2,3,4,5}\n",
    "s2 = {2,4,6,8,10}\n",
    "\n",
    "# symmetric diff sets\n",
    "s1.symmetric_difference_update(s2)\n",
    "print(f\"symmetric difference {s1}\")"
   ]
  },
  {
   "cell_type": "code",
   "execution_count": 17,
   "id": "64dddde7",
   "metadata": {},
   "outputs": [
    {
     "name": "stdout",
     "output_type": "stream",
     "text": [
      "True\n"
     ]
    }
   ],
   "source": [
    "## solution 14\n",
    "\n",
    "# creating a set\n",
    "s1 = {1,2,3,4,5}\n",
    "\n",
    "# check for element present in set \n",
    "print(1 in s1)"
   ]
  },
  {
   "cell_type": "code",
   "execution_count": 18,
   "id": "8f2fde57",
   "metadata": {},
   "outputs": [
    {
     "name": "stdout",
     "output_type": "stream",
     "text": [
      "{(1, 2), (3, 4), (5, 6)}\n"
     ]
    }
   ],
   "source": [
    "## solution 15\n",
    "\n",
    "# set with tuples as element\n",
    "\n",
    "s11 = {\n",
    "    (1,2),\n",
    "    (3,4),\n",
    "    (5,6)\n",
    "}\n",
    "\n",
    "print(s11)"
   ]
  },
  {
   "cell_type": "code",
   "execution_count": null,
   "id": "1cd57d2b",
   "metadata": {},
   "outputs": [],
   "source": []
  }
 ],
 "metadata": {
  "kernelspec": {
   "display_name": "venv",
   "language": "python",
   "name": "python3"
  },
  "language_info": {
   "codemirror_mode": {
    "name": "ipython",
    "version": 3
   },
   "file_extension": ".py",
   "mimetype": "text/x-python",
   "name": "python",
   "nbconvert_exporter": "python",
   "pygments_lexer": "ipython3",
   "version": "3.12.0"
  }
 },
 "nbformat": 4,
 "nbformat_minor": 5
}
