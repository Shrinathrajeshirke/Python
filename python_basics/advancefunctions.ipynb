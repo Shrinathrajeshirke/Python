{
 "cells": [
  {
   "cell_type": "markdown",
   "metadata": {},
   "source": [
    "# Module 4: Advanced Functions Assignments\n",
    "## Lesson 4.1: Defining Functions\n",
    "### Assignment 1: Fibonacci Sequence with Memoization\n",
    "\n",
    "Define a recursive function to calculate the nth Fibonacci number using memoization. Test the function with different inputs.\n",
    "\n",
    "### Assignment 2: Function with Nested Default Arguments\n",
    "\n",
    "Define a function that takes two arguments, a and b, where b is a dictionary with a default value of an empty dictionary. The function should add a new key-value pair to the dictionary and return it. Test the function with different inputs.\n",
    "\n",
    "### Assignment 3: Function with Variable Keyword Arguments\n",
    "\n",
    "Define a function that takes a variable number of keyword arguments and returns a dictionary containing only those key-value pairs where the value is an integer. Test the function with different inputs.\n",
    "\n",
    "### Assignment 4: Function with Callback\n",
    "\n",
    "Define a function that takes another function as a callback and a list of integers. The function should apply the callback to each integer in the list and return a new list with the results. Test with different callback functions.\n",
    "\n",
    "### Assignment 5: Function that Returns a Function\n",
    "\n",
    "Define a function that returns another function. The returned function should take an integer and return its square. Test the returned function with different inputs.\n",
    "\n",
    "### Assignment 6: Function with Decorators\n",
    "\n",
    "Define a function that calculates the time taken to execute another function. Apply this decorator to a function that performs a complex calculation. Test the decorated function with different inputs.\n",
    "\n",
    "### Assignment 7: Higher-Order Function for Filtering and Mapping\n",
    "\n",
    "Define a higher-order function that takes two functions, a filter function and a map function, along with a list of integers. The higher-order function should first filter the integers using the filter function and then apply the map function to the filtered integers. Test with different filter and map functions.\n",
    "\n",
    "### Assignment 8: Function Composition\n",
    "\n",
    "Define a function that composes two functions, f and g, such that the result is f(g(x)). Test with different functions f and g.\n",
    "\n",
    "### Assignment 9: Partial Function Application\n",
    "\n",
    "Use the functools.partial function to create a new function that multiplies its input by 2. Test the new function with different inputs.\n",
    "\n",
    "### Assignment 10: Function with Error Handling\n",
    "\n",
    "Define a function that takes a list of integers and returns their average. The function should handle any errors that occur (e.g., empty list) and return None in such cases. Test with different inputs.\n",
    "\n",
    "### Assignment 11: Function with Generators\n",
    "\n",
    "Define a function that generates an infinite sequence of Fibonacci numbers. Test by printing the first 10 numbers in the sequence.\n",
    "\n",
    "### Assignment 12: Currying\n",
    "\n",
    "Define a curried function that takes three arguments, one at a time, and returns their product. Test the function by providing arguments one at a time.\n",
    "\n",
    "### Assignment 13: Function with Context Manager\n",
    "\n",
    "Define a function that uses a context manager to write a list of integers to a file. The function should handle any errors that occur during file operations. Test with different lists.\n",
    "\n",
    "### Assignment 14: Function with Multiple Return Types\n",
    "\n",
    "Define a function that takes a list of mixed data types (integers, strings, and floats) and returns three lists: one containing all the integers, one containing all the strings, and one containing all the floats. Test with different inputs.\n",
    "\n",
    "### Assignment 15: Function with State\n",
    "\n",
    "Define a function that maintains state between calls using a mutable default argument. The function should keep track of how many times it has been called. Test by calling the function multiple times."
   ]
  },
  {
   "cell_type": "code",
   "execution_count": 6,
   "metadata": {},
   "outputs": [
    {
     "name": "stdout",
     "output_type": "stream",
     "text": [
      "55\n",
      "75025\n"
     ]
    }
   ],
   "source": [
    "## solution 1\n",
    "\n",
    "# defining function with input parameters as n and empty dict\n",
    "def fibonnaci(n, dict={}): \n",
    "    '''\n",
    "    This function calculates fibonnaci \n",
    "    sequence with memoization \n",
    "    '''\n",
    "    if n in dict:          # checks if n is present in dict\n",
    "        return dict[n]\n",
    "    \n",
    "    if n<=1:               # if n is 0 or 1 returns n\n",
    "        return n\n",
    "    \n",
    "    # calculates the sum using recursive method\n",
    "    dict[n] = fibonnaci(n-1,dict)+fibonnaci(n-2,dict)  \n",
    "    return dict[n]\n",
    "\n",
    "print(fibonnaci(10))\n",
    "print(fibonnaci(25))"
   ]
  },
  {
   "cell_type": "code",
   "execution_count": null,
   "id": "a906e5a6",
   "metadata": {},
   "outputs": [
    {
     "data": {
      "text/plain": [
       "{2: 4}"
      ]
     },
     "execution_count": 7,
     "metadata": {},
     "output_type": "execute_result"
    }
   ],
   "source": [
    "## solution 2\n",
    "\n",
    "# define function with two parameters a and b as None\n",
    "def dict(a,b=None):\n",
    "    ''' \n",
    "    This function returns the dictionary by adding \n",
    "    new key-value pair\n",
    "    '''\n",
    "    if b is None:\n",
    "        b={}\n",
    "    \n",
    "    b[a]=a**2\n",
    "\n",
    "    return b\n",
    "\n",
    "print(dict(2))"
   ]
  },
  {
   "cell_type": "code",
   "execution_count": 9,
   "id": "f89c3cac",
   "metadata": {},
   "outputs": [
    {
     "data": {
      "text/plain": [
       "{'a': 1, 'c': 9}"
      ]
     },
     "execution_count": 9,
     "metadata": {},
     "output_type": "execute_result"
    }
   ],
   "source": [
    "## solution 3\n",
    "\n",
    "def filter_int(**kwargs):\n",
    "    return {k: v for k,v in kwargs.items() if isinstance(v,int)}\n",
    "\n",
    "filter_int(a=1,b='s',c=9)"
   ]
  },
  {
   "cell_type": "code",
   "execution_count": 4,
   "id": "0c0e05dd",
   "metadata": {},
   "outputs": [
    {
     "data": {
      "text/plain": [
       "[False, True, False]"
      ]
     },
     "execution_count": 4,
     "metadata": {},
     "output_type": "execute_result"
    }
   ],
   "source": [
    "### solution 4\n",
    "\n",
    "def callback_fn(fn,lst):\n",
    "    return [fn(x) for x in lst]\n",
    "\n",
    "callback_fn(lambda x: x**2, [1,2,3])\n",
    "callback_fn(lambda x: x%2==0, [1,2,3])"
   ]
  },
  {
   "cell_type": "code",
   "execution_count": 6,
   "id": "3626feaa",
   "metadata": {},
   "outputs": [
    {
     "name": "stdout",
     "output_type": "stream",
     "text": [
      "25\n"
     ]
    }
   ],
   "source": [
    "### solution 5\n",
    "\n",
    "def fn_1():\n",
    "    def fn_2(num):\n",
    "        return num**2\n",
    "    return fn_2\n",
    "\n",
    "square = fn_1()\n",
    "print(square(5))\n"
   ]
  },
  {
   "cell_type": "code",
   "execution_count": 7,
   "id": "1f2aee62",
   "metadata": {},
   "outputs": [
    {
     "name": "stdout",
     "output_type": "stream",
     "text": [
      "Function calculation took 0.09700536727905273 seconds to execute.\n",
      "24999500002500000000\n"
     ]
    }
   ],
   "source": [
    "# solution 6\n",
    "\n",
    "import time\n",
    "\n",
    "def time_cal(fn):\n",
    "    def wrapper(*args,**kwargs):\n",
    "        start_time = time.time()\n",
    "        result = fn(*args,**kwargs)\n",
    "        end_time = time.time()\n",
    "        print(f\"Function {fn.__name__} took {end_time - start_time} seconds to execute.\")\n",
    "        return result\n",
    "    return wrapper\n",
    "\n",
    "@time_cal\n",
    "def calculation(num):\n",
    "    return sum(x**3 for x in range(num))\n",
    "\n",
    "print(calculation(100000))"
   ]
  },
  {
   "cell_type": "code",
   "execution_count": 8,
   "id": "423cb77e",
   "metadata": {},
   "outputs": [
    {
     "name": "stdout",
     "output_type": "stream",
     "text": [
      "[4, 10, 6, 8]\n"
     ]
    }
   ],
   "source": [
    "## solution 7\n",
    "\n",
    "def higher_fn(fn1,fn2,ls):\n",
    "    return [fn2(x) for x in ls if fn1(x)]\n",
    "\n",
    "print(higher_fn(lambda x:x%2==0, lambda x:x+2, [1,3,2,5,8,4,9,6,7]))"
   ]
  },
  {
   "cell_type": "code",
   "execution_count": 10,
   "id": "17775d82",
   "metadata": {},
   "outputs": [
    {
     "name": "stdout",
     "output_type": "stream",
     "text": [
      "2.5\n"
     ]
    }
   ],
   "source": [
    "## solution 8\n",
    "\n",
    "def top_fn():\n",
    "    return lambda x:f(g(x))\n",
    "\n",
    "f = lambda x:x+1\n",
    "g = lambda x:x/2\n",
    "\n",
    "res = top_fn()\n",
    "print(res(3))"
   ]
  },
  {
   "cell_type": "code",
   "execution_count": 13,
   "id": "e7ec3e67",
   "metadata": {},
   "outputs": [
    {
     "data": {
      "text/plain": [
       "10"
      ]
     },
     "execution_count": 13,
     "metadata": {},
     "output_type": "execute_result"
    }
   ],
   "source": [
    "## solution 9 \n",
    "\n",
    "from functools import partial\n",
    "\n",
    "fn = partial(lambda x,y: x*y,2)\n",
    "\n",
    "fn(2)\n",
    "fn(5)"
   ]
  },
  {
   "cell_type": "code",
   "execution_count": null,
   "id": "2c308023",
   "metadata": {},
   "outputs": [
    {
     "name": "stdout",
     "output_type": "stream",
     "text": [
      "None\n"
     ]
    }
   ],
   "source": [
    "## solution 10\n",
    "\n",
    "def avg_ls(ls):\n",
    "    try:\n",
    "        avg = sum(ls)/len(ls)\n",
    "        return avg\n",
    "    except ZeroDivisionError:\n",
    "        return None\n",
    "\n",
    "print(avg_ls([1,2,3]))\n",
    "print(avg_ls([]))\n"
   ]
  },
  {
   "cell_type": "code",
   "execution_count": 17,
   "id": "fb489e21",
   "metadata": {},
   "outputs": [
    {
     "name": "stdout",
     "output_type": "stream",
     "text": [
      "0\n",
      "1\n",
      "1\n",
      "2\n",
      "3\n",
      "5\n",
      "8\n",
      "13\n",
      "21\n",
      "34\n"
     ]
    }
   ],
   "source": [
    "## solution 11\n",
    "\n",
    "def fib_generator():\n",
    "    a,b = 0,1\n",
    "    while True:\n",
    "        yield a\n",
    "        a,b = b,a+b\n",
    "    \n",
    "\n",
    "fib_gen = fib_generator()\n",
    "for _ in range(10):\n",
    "    print(next(fib_gen))"
   ]
  },
  {
   "cell_type": "code",
   "execution_count": 18,
   "id": "59a2946a",
   "metadata": {},
   "outputs": [
    {
     "name": "stdout",
     "output_type": "stream",
     "text": [
      "6\n"
     ]
    }
   ],
   "source": [
    "## solution 12\n",
    "\n",
    "def product_fn(x):\n",
    "    def fn_1(y):\n",
    "        def fn_2(z):\n",
    "            return x*y*z\n",
    "        return fn_2\n",
    "    return fn_1\n",
    "\n",
    "print(product_fn(1)(2)(3))"
   ]
  },
  {
   "cell_type": "code",
   "execution_count": 20,
   "id": "21cc63eb",
   "metadata": {},
   "outputs": [],
   "source": [
    "## solution 13\n",
    "\n",
    "def write_fn(ls, filename):\n",
    "    try: \n",
    "        with open(filename,\"w\") as f:\n",
    "            for num in ls:\n",
    "                f.write(f\"{num}\\n\")\n",
    "    except IOError as e:\n",
    "        print(f\"An error occurred: {e}\")\n",
    "\n",
    "write_fn([1,2,3],\"test.txt\")"
   ]
  },
  {
   "cell_type": "code",
   "execution_count": 23,
   "id": "d810158a",
   "metadata": {},
   "outputs": [
    {
     "data": {
      "text/plain": [
       "([1, 3], ['s', 'r'], [1.1, 2.2])"
      ]
     },
     "execution_count": 23,
     "metadata": {},
     "output_type": "execute_result"
    }
   ],
   "source": [
    "## solution 14\n",
    "\n",
    "def separate_fn(lst):\n",
    "    ints, strs, floats = [],[],[]\n",
    "\n",
    "    for item in lst:\n",
    "        if isinstance(item,int):\n",
    "            ints.append(item)\n",
    "        if isinstance(item,str):\n",
    "            strs.append(item)\n",
    "        if isinstance(item,float):\n",
    "            floats.append(item)\n",
    "        \n",
    "    return ints, strs, floats\n",
    "\n",
    "separate_fn([1,3,1.1,2.2,'s','r'])\n"
   ]
  },
  {
   "cell_type": "code",
   "execution_count": null,
   "id": "f2b488f0",
   "metadata": {},
   "outputs": [
    {
     "name": "stdout",
     "output_type": "stream",
     "text": [
      "1\n",
      "2\n",
      "3\n"
     ]
    }
   ],
   "source": [
    "## solution 15\n",
    "\n",
    "def call_counter(counter={'count': 0}):\n",
    "    counter['count'] += 1\n",
    "    return counter['count']\n",
    "\n",
    "print(call_counter())  # 1\n",
    "print(call_counter())  # 2\n",
    "print(call_counter())  # 3"
   ]
  },
  {
   "cell_type": "code",
   "execution_count": null,
   "id": "49b5e3f4",
   "metadata": {},
   "outputs": [],
   "source": []
  }
 ],
 "metadata": {
  "kernelspec": {
   "display_name": "venv",
   "language": "python",
   "name": "python3"
  },
  "language_info": {
   "codemirror_mode": {
    "name": "ipython",
    "version": 3
   },
   "file_extension": ".py",
   "mimetype": "text/x-python",
   "name": "python",
   "nbconvert_exporter": "python",
   "pygments_lexer": "ipython3",
   "version": "3.12.0"
  }
 },
 "nbformat": 4,
 "nbformat_minor": 5
}
