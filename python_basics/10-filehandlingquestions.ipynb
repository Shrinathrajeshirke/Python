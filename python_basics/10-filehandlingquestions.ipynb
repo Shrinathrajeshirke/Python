{
 "cells": [
  {
   "cell_type": "markdown",
   "metadata": {},
   "source": [
    "# Module: File Handling Assignments\n",
    "## Lesson: File Handling and Operations\n",
    "### Assignment 1: Reading a File\n",
    "\n",
    "Write a function that reads the contents of a file named `sample.txt` and prints each line.\n",
    "\n",
    "### Assignment 2: Writing to a File\n",
    "\n",
    "Write a function that writes a list of strings to a file named `output.txt`, with each string on a new line.\n",
    "\n",
    "### Assignment 3: Copying a File\n",
    "\n",
    "Write a function that copies the contents of a file named `source.txt` to a new file named `destination.txt`.\n",
    "\n",
    "### Assignment 4: Appending to a File\n",
    "\n",
    "Write a function that appends a given string to the end of a file named `log.txt`.\n",
    "\n",
    "### Assignment 5: Counting Words in a File\n",
    "\n",
    "Write a function that reads the contents of a file named `document.txt` and returns the number of words in the file.\n",
    "\n",
    "### Assignment 6: Finding and Replacing Text\n",
    "\n",
    "Write a function that finds and replaces all occurrences of a given word in a file named `data.txt` with another word.\n",
    "\n",
    "### Assignment 7: Reading a File in Reverse\n",
    "\n",
    "Write a function that reads the contents of a file named `reverse.txt` and prints each line in reverse order.\n",
    "\n",
    "### Assignment 8: Counting Lines, Words, and Characters\n",
    "\n",
    "Write a function that reads the contents of a file named `stats.txt` and returns the number of lines, words, and characters in the file.\n",
    "\n",
    "### Assignment 9: Merging Multiple Files\n",
    "\n",
    "Write a function that merges the contents of multiple files into a single file named `merged.txt`.\n",
    "\n",
    "### Assignment 10: Splitting a Large File\n",
    "\n",
    "Write a function that splits a large file named `large.txt` into smaller files of 100 lines each.\n",
    "\n",
    "### Assignment 11: Creating a Log File\n",
    "\n",
    "Write a function that creates a log file named `activity.log` and writes log messages with timestamps.\n",
    "\n",
    "### Assignment 12: Binary File Operations\n",
    "\n",
    "Write a function that reads a binary file named `image.bin` and writes its contents to another binary file named `copy_image.bin`.\n",
    "\n",
    "### Assignment 13: CSV File Operations\n",
    "\n",
    "Write a function that reads a CSV file named `data.csv` and prints its contents as a list of dictionaries.\n",
    "\n",
    "### Assignment 14: JSON File Operations\n",
    "\n",
    "Write a function that reads a JSON file named `data.json` and prints its contents as a Python dictionary.\n",
    "\n",
    "### Assignment 15: File Permission Handling\n",
    "\n",
    "Write a function that attempts to read a file named `protected.txt` and handles any permission errors gracefully by printing an error message."
   ]
  },
  {
   "cell_type": "code",
   "execution_count": 3,
   "metadata": {},
   "outputs": [
    {
     "name": "stdout",
     "output_type": "stream",
     "text": [
      "Hi\n",
      "I am here\n",
      "What else do you want?\n",
      "Let's do it!\n"
     ]
    }
   ],
   "source": [
    "### solution 1\n",
    "\n",
    "def read_file(filename):\n",
    "    with open(filename,'r') as file:\n",
    "        for line in file:\n",
    "            print(line.strip())\n",
    "\n",
    "\n",
    "read_file('sample.txt')"
   ]
  },
  {
   "cell_type": "code",
   "execution_count": 4,
   "id": "3e476fcd",
   "metadata": {},
   "outputs": [],
   "source": [
    "### solution 2\n",
    "\n",
    "def write_to_file(filename,list_of_strings):\n",
    "    with open(filename, 'w') as file:\n",
    "        file.writelines(list_of_strings)\n",
    "\n",
    "list_of_strings = ['Hi\\n','line2\\n','nextline\\n']\n",
    "write_to_file('output.txt',list_of_strings=list_of_strings)"
   ]
  },
  {
   "cell_type": "code",
   "execution_count": 5,
   "id": "9b37a3a5",
   "metadata": {},
   "outputs": [],
   "source": [
    "### solution 3\n",
    "\n",
    "def copy_file_content(source_file, dest_file):\n",
    "    with open(source_file,'r') as file:\n",
    "        content = file.read()\n",
    "\n",
    "    with open(dest_file,'w') as file:\n",
    "        file.write(content)\n",
    "\n",
    "copy_file_content('sample.txt','sample_copy.txt')"
   ]
  },
  {
   "cell_type": "code",
   "execution_count": null,
   "id": "78385d14",
   "metadata": {},
   "outputs": [],
   "source": [
    "### solution 4\n",
    "\n",
    "def append_to_file(filename, data):\n",
    "    with open(filename,'a') as file:\n",
    "        file.write(data + '\\n')\n",
    "\n",
    "append_to_file('output.txt','Hey')"
   ]
  },
  {
   "cell_type": "code",
   "execution_count": 7,
   "id": "59bde516",
   "metadata": {},
   "outputs": [
    {
     "data": {
      "text/plain": [
       "12"
      ]
     },
     "execution_count": 7,
     "metadata": {},
     "output_type": "execute_result"
    }
   ],
   "source": [
    "### solution 5\n",
    "\n",
    "def num_of_words(filename):\n",
    "    with open(filename, 'r') as file:\n",
    "        content = file.read()\n",
    "        return len(content.split())\n",
    "    \n",
    "\n",
    "num_of_words('sample.txt')"
   ]
  },
  {
   "cell_type": "code",
   "execution_count": 8,
   "id": "83812864",
   "metadata": {},
   "outputs": [],
   "source": [
    "### solution 6\n",
    "\n",
    "def replace_word(filename, old_word, new_word):\n",
    "    with open(filename, 'r') as file:\n",
    "        text = file.read()\n",
    "        new_text = text.replace(old_word, new_word)\n",
    "    with open(filename, 'w') as file:\n",
    "        file.write(new_text)\n",
    "\n",
    "replace_word('data.txt','date','data')"
   ]
  },
  {
   "cell_type": "code",
   "execution_count": 11,
   "id": "50b7a846",
   "metadata": {},
   "outputs": [
    {
     "name": "stdout",
     "output_type": "stream",
     "text": [
      "Hey\n",
      "nextline\n",
      "line2\n",
      "Hi\n"
     ]
    }
   ],
   "source": [
    "### solution 7\n",
    "\n",
    "def reverse_read(filename):\n",
    "    with open(filename,'r') as file:\n",
    "        content = file.readlines()\n",
    "    for line in reversed(content):\n",
    "        print(line.strip())\n",
    "\n",
    "reverse_read('output.txt')"
   ]
  },
  {
   "cell_type": "code",
   "execution_count": 15,
   "id": "007e84b0",
   "metadata": {},
   "outputs": [
    {
     "name": "stdout",
     "output_type": "stream",
     "text": [
      "The sample.txt contains 4 number of lines, 12 number of words and 49 number of characters\n"
     ]
    }
   ],
   "source": [
    "### solution 8\n",
    "\n",
    "def counting_stats(filename):\n",
    "    with open(filename, 'r') as file:\n",
    "        lines = file.readlines()\n",
    "        words = sum(len(line.split()) for line in lines)\n",
    "        chars = sum(len(line) for line in lines)\n",
    "    return len(lines), words, chars\n",
    "\n",
    "filename = 'sample.txt'\n",
    "num_lines, num_words, num_chars = counting_stats(filename)\n",
    "print(f\"The {filename} contains {num_lines} number of lines, {num_words} number of words and {num_chars} number of characters\")"
   ]
  },
  {
   "cell_type": "code",
   "execution_count": 20,
   "id": "b3b259a1",
   "metadata": {},
   "outputs": [],
   "source": [
    "### solution 9\n",
    "\n",
    "def merge_files(filelist, outfile):\n",
    "    with open(outfile, 'w') as out_file:\n",
    "        for file in filelist:\n",
    "            with open(file,'r') as infile:\n",
    "                out_file.write(infile.read()+'\\n')\n",
    "\n",
    "merge_files(['output.txt','data.txt'],'sample.txt')"
   ]
  },
  {
   "cell_type": "code",
   "execution_count": 21,
   "id": "259ed404",
   "metadata": {},
   "outputs": [],
   "source": [
    "### solution 10\n",
    "\n",
    "def split_file(filename, num_of_lines):\n",
    "    with open(filename,'r') as file:\n",
    "        lines = file.readlines()\n",
    "    for i in range(0,len(lines), num_of_lines):\n",
    "        with open(f'{filename}_part{i//num_of_lines+1}.txt','w') as part_file:\n",
    "            part_file.writelines(lines[i:i+num_of_lines])"
   ]
  },
  {
   "cell_type": "code",
   "execution_count": null,
   "id": "67947a8a",
   "metadata": {},
   "outputs": [],
   "source": [
    "### solution 11\n",
    "import datetime\n",
    "\n",
    "def log_writer(message, filename='activity.log'):\n",
    "    timestamp = datetime.datetime.now().isoformat()\n",
    "    with open(filename, 'a') as file:\n",
    "        file.write(f\"[{timestamp}] {message}\\n\")\n",
    "\n",
    "\n",
    "log_writer('second log')\n"
   ]
  },
  {
   "cell_type": "code",
   "execution_count": 24,
   "id": "65b9b266",
   "metadata": {},
   "outputs": [],
   "source": [
    "### solution 12\n",
    "\n",
    "def binary_file(src_file, dest_file):\n",
    "    with open(src_file,'rb') as src:\n",
    "        content = src.read()\n",
    "    with open(dest_file,'wb') as dest:\n",
    "        dest.write(content)"
   ]
  },
  {
   "cell_type": "code",
   "execution_count": null,
   "id": "df93d4c3",
   "metadata": {},
   "outputs": [],
   "source": [
    "### solution 13\n",
    "\n",
    "import csv\n",
    "\n",
    "def csv_as_dict(filename):\n",
    "    with open(filename, 'r') as file:\n",
    "        rows = csv.DictReader(file)\n",
    "        return list(rows)"
   ]
  },
  {
   "cell_type": "code",
   "execution_count": 26,
   "id": "6d961b75",
   "metadata": {},
   "outputs": [],
   "source": [
    "### solution 14\n",
    "\n",
    "import json\n",
    "\n",
    "def json_to_dict(filename):\n",
    "    with open(filename, 'r') as file:\n",
    "        data = json.load(file)\n",
    "    return data"
   ]
  },
  {
   "cell_type": "code",
   "execution_count": 27,
   "id": "fc2453c4",
   "metadata": {},
   "outputs": [],
   "source": [
    "### solution 15\n",
    "\n",
    "def read_protected_file(filename):\n",
    "    try:\n",
    "        with open(filename, 'r') as file:\n",
    "            print(file.read())\n",
    "    except PermissionError as e:\n",
    "        print(f'Permission error: {e}')"
   ]
  },
  {
   "cell_type": "code",
   "execution_count": null,
   "id": "45fe194a",
   "metadata": {},
   "outputs": [],
   "source": []
  }
 ],
 "metadata": {
  "kernelspec": {
   "display_name": "venv",
   "language": "python",
   "name": "python3"
  },
  "language_info": {
   "codemirror_mode": {
    "name": "ipython",
    "version": 3
   },
   "file_extension": ".py",
   "mimetype": "text/x-python",
   "name": "python",
   "nbconvert_exporter": "python",
   "pygments_lexer": "ipython3",
   "version": "3.12.0"
  }
 },
 "nbformat": 4,
 "nbformat_minor": 5
}
