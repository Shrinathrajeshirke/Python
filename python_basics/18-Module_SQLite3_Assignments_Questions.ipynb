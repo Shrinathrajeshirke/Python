{
 "cells": [
  {
   "cell_type": "markdown",
   "id": "964cf61d",
   "metadata": {},
   "source": [
    "# Module: SQLite3 Assignments\n",
    "## Lesson: SQLite3\n",
    "### Assignment 1: Creating and Connecting to a Database\n",
    "\n",
    "1. Write a Python function to create a new SQLite3 database named `test.db`.\n",
    "2. Write a Python function to create a table named `employees` with columns `id` (integer), `name` (text), `age` (integer), and `department` (text) in the `test.db` database.\n",
    "\n",
    "### Assignment 2: Inserting Data\n",
    "\n",
    "1. Write a Python function to insert a new employee into the `employees` table.\n",
    "2. Insert at least 5 different employees into the `employees` table.\n",
    "\n",
    "### Assignment 3: Querying Data\n",
    "\n",
    "1. Write a Python function to fetch and display all records from the `employees` table.\n",
    "2. Write a Python function to fetch and display all employees from a specific department.\n",
    "\n",
    "### Assignment 4: Updating Data\n",
    "\n",
    "1. Write a Python function to update the department of an employee based on their `id`.\n",
    "2. Update the department of at least 2 employees and display the updated records.\n",
    "\n",
    "### Assignment 5: Deleting Data\n",
    "\n",
    "1. Write a Python function to delete an employee from the `employees` table based on their `id`.\n",
    "2. Delete at least 1 employee and display the remaining records.\n",
    "\n",
    "### Assignment 6: Advanced Queries\n",
    "\n",
    "1. Write a Python function to fetch and display employees older than a certain age.\n",
    "2. Write a Python function to fetch and display employees whose names start with a specific letter.\n",
    "\n",
    "### Assignment 7: Handling Transactions\n",
    "\n",
    "1. Write a Python function to insert multiple employees into the `employees` table in a single transaction. Ensure that if any insertion fails, none of the insertions are committed.\n",
    "2. Write a Python function to update the age of multiple employees in a single transaction. Ensure that if any update fails, none of the updates are committed.\n",
    "\n",
    "### Assignment 8: Creating Relationships\n",
    "\n",
    "1. Create a new table named `departments` with columns `id` (integer) and `name` (text).\n",
    "2. Modify the `employees` table to include a foreign key referencing the `id` column in the `departments` table.\n",
    "3. Write a Python function to insert data into both the `departments` and `employees` tables, ensuring referential integrity.\n",
    "\n",
    "### Assignment 9: Indexing and Optimization\n",
    "\n",
    "1. Create an index on the `name` column of the `employees` table.\n",
    "2. Write a Python function to fetch and display all employees whose names start with a specific letter. Compare the performance with and without the index.\n",
    "\n",
    "### Assignment 10: Backing Up and Restoring Data\n",
    "\n",
    "1. Write a Python function to back up the `test.db` database to a file named `backup.db`.\n",
    "2. Write a Python function to restore the `test.db` database from the `backup.db` file."
   ]
  },
  {
   "cell_type": "code",
   "execution_count": null,
   "metadata": {},
   "outputs": [
    {
     "name": "stdout",
     "output_type": "stream",
     "text": [
      "Database created successfully.\n"
     ]
    }
   ],
   "source": [
    "### solution 1.1\n",
    "\n",
    "import sqlite3\n",
    "\n",
    "#creating a database\n",
    "def create_db():\n",
    "    conn = sqlite3.connect('test.db') #create database connection\n",
    "    conn.close() #closing connection\n",
    "    print('Database created successfully.')\n",
    "\n",
    "create_db()"
   ]
  },
  {
   "cell_type": "code",
   "execution_count": null,
   "id": "d5349cd7",
   "metadata": {},
   "outputs": [
    {
     "name": "stdout",
     "output_type": "stream",
     "text": [
      "Table created successfully\n"
     ]
    }
   ],
   "source": [
    "### solution 1.2\n",
    "\n",
    "#creating a table\n",
    "def create_table():\n",
    "    conn = sqlite3.connect('test.db') #create a db connection\n",
    "    cursor = conn.cursor() #create a cursor\n",
    "    cursor.execute('''\n",
    "            create table if not exists employees (\n",
    "                   id integer primary key,\n",
    "                   name varchar20 not null,\n",
    "                   age integer,\n",
    "                   department varchar20\n",
    "                   )\n",
    "            ''')  ## create a table\n",
    "    conn.commit()  #commits the transaction\n",
    "    conn.close()  #closing the connection\n",
    "    print(\"Table created successfully\")\n",
    "\n",
    "create_table()"
   ]
  },
  {
   "cell_type": "code",
   "execution_count": null,
   "id": "b10aec15",
   "metadata": {},
   "outputs": [
    {
     "name": "stdout",
     "output_type": "stream",
     "text": [
      "Data inserted successfully\n"
     ]
    }
   ],
   "source": [
    "### solution 2.1\n",
    "\n",
    "def insert_data(id, name, age, department):\n",
    "    conn = sqlite3.connect('test.db') #create a db connection\n",
    "    cursor = conn.cursor() #creating a cursor\n",
    "    cursor.execute('''\n",
    "insert into employees  (id, name, age, department)\n",
    "                   values (?,?,?,?)\n",
    "''', (id, name, age, department)) ## inserting data in table\n",
    "    conn.commit() #commits the transaction\n",
    "    conn.close() #closing the transaction\n",
    "    print('Data inserted successfully')\n",
    "\n",
    "insert_data(1,'A',25,'Science')"
   ]
  },
  {
   "cell_type": "code",
   "execution_count": 4,
   "id": "1c7e816f",
   "metadata": {},
   "outputs": [
    {
     "name": "stdout",
     "output_type": "stream",
     "text": [
      "Data inserted successfully\n",
      "Data inserted successfully\n",
      "Data inserted successfully\n",
      "Data inserted successfully\n",
      "Data inserted successfully\n"
     ]
    }
   ],
   "source": [
    "### solution 2.2\n",
    "\n",
    "insert_data(2,'B',24,'Science')\n",
    "insert_data(3,'C',25,'Maths')\n",
    "insert_data(4,'D',25,'English')\n",
    "insert_data(5,'E',23,'Science')\n",
    "insert_data(6,'F',25,'Commerce')"
   ]
  },
  {
   "cell_type": "code",
   "execution_count": null,
   "id": "10839fae",
   "metadata": {},
   "outputs": [
    {
     "name": "stdout",
     "output_type": "stream",
     "text": [
      "(1, 'A', 25, 'Science')\n",
      "(2, 'B', 24, 'Science')\n",
      "(3, 'C', 25, 'Maths')\n",
      "(4, 'D', 25, 'English')\n",
      "(5, 'E', 23, 'Science')\n",
      "(6, 'F', 25, 'Commerce')\n"
     ]
    }
   ],
   "source": [
    "### solution 3.1\n",
    "\n",
    "def display():\n",
    "    conn = sqlite3.connect('test.db')\n",
    "    cursor = conn.cursor()\n",
    "    cursor.execute('select * from employees')\n",
    "    rows = cursor.fetchall()\n",
    "    conn.close()\n",
    "    for row in rows:\n",
    "        print(row)\n",
    "\n",
    "display()"
   ]
  },
  {
   "cell_type": "code",
   "execution_count": null,
   "id": "fcf28e7e",
   "metadata": {},
   "outputs": [
    {
     "name": "stdout",
     "output_type": "stream",
     "text": [
      "(1, 'A', 25, 'Science')\n",
      "(2, 'B', 24, 'Science')\n",
      "(5, 'E', 23, 'Science')\n"
     ]
    }
   ],
   "source": [
    "### solution 3.2\n",
    "\n",
    "def display_emp_dept(department):\n",
    "    conn = sqlite3.connect('test.db')\n",
    "    cursor = conn.cursor()\n",
    "    cursor.execute('select * from employees where department=?', (department,))\n",
    "    rows = cursor.fetchall()\n",
    "    conn.close()\n",
    "    for row in rows:\n",
    "        print(row)\n",
    "\n",
    "display_emp_dept('Science')"
   ]
  },
  {
   "cell_type": "code",
   "execution_count": 17,
   "id": "329a5201",
   "metadata": {},
   "outputs": [
    {
     "name": "stdout",
     "output_type": "stream",
     "text": [
      "employee dept updated successfully\n"
     ]
    }
   ],
   "source": [
    "### solution 3.1\n",
    "\n",
    "def update_data(id, new_department):\n",
    "    conn = sqlite3.connect('test.db')\n",
    "    cursor = conn.cursor()\n",
    "    cursor.execute('''\n",
    "                   update employees \n",
    "                   set department=? \n",
    "                   where id=?\n",
    "                   ''', (new_department, id))\n",
    "    conn.commit()\n",
    "    conn.close()\n",
    "    print(\"employee dept updated successfully\")\n",
    "\n",
    "update_data(2,'Commerce')\n",
    "    "
   ]
  },
  {
   "cell_type": "code",
   "execution_count": 18,
   "id": "5ea4bece",
   "metadata": {},
   "outputs": [
    {
     "name": "stdout",
     "output_type": "stream",
     "text": [
      "employee dept updated successfully\n",
      "employee dept updated successfully\n",
      "(1, 'A', 25, 'Science')\n",
      "(2, 'B', 24, 'Commerce')\n",
      "(3, 'C', 25, 'Research')\n",
      "(4, 'D', 25, 'IT')\n",
      "(5, 'E', 23, 'Science')\n",
      "(6, 'F', 25, 'Commerce')\n"
     ]
    }
   ],
   "source": [
    "### solution 3.2\n",
    "\n",
    "update_data(3, 'Research')\n",
    "update_data(4,'IT')\n",
    "\n",
    "display()"
   ]
  },
  {
   "cell_type": "code",
   "execution_count": 20,
   "id": "cce850d6",
   "metadata": {},
   "outputs": [
    {
     "name": "stdout",
     "output_type": "stream",
     "text": [
      "records deleted successfully.\n",
      "(1, 'A', 25, 'Science')\n",
      "(2, 'B', 24, 'Commerce')\n",
      "(3, 'C', 25, 'Research')\n",
      "(5, 'E', 23, 'Science')\n",
      "(6, 'F', 25, 'Commerce')\n"
     ]
    }
   ],
   "source": [
    "### solution 5.1\n",
    "\n",
    "def delete_data(id):\n",
    "    conn = sqlite3.connect('test.db')\n",
    "    cursor = conn.cursor()\n",
    "    cursor.execute('''\n",
    "                delete from employees \n",
    "                where id=?\n",
    "                   ''',(id,)\n",
    ")\n",
    "    conn.commit()\n",
    "    conn.close()\n",
    "    print('records deleted successfully.')\n",
    "\n",
    "delete_data(4)\n",
    "display()\n"
   ]
  },
  {
   "cell_type": "code",
   "execution_count": 21,
   "id": "d97877b2",
   "metadata": {},
   "outputs": [
    {
     "name": "stdout",
     "output_type": "stream",
     "text": [
      "records deleted successfully.\n",
      "(1, 'A', 25, 'Science')\n",
      "(3, 'C', 25, 'Research')\n",
      "(5, 'E', 23, 'Science')\n",
      "(6, 'F', 25, 'Commerce')\n"
     ]
    }
   ],
   "source": [
    "### solution 5.2\n",
    "\n",
    "delete_data(2)\n",
    "display()"
   ]
  },
  {
   "cell_type": "code",
   "execution_count": null,
   "id": "5351795d",
   "metadata": {},
   "outputs": [
    {
     "name": "stdout",
     "output_type": "stream",
     "text": [
      "(1, 'A', 25, 'Science')\n",
      "(3, 'C', 25, 'Research')\n",
      "(6, 'F', 25, 'Commerce')\n"
     ]
    }
   ],
   "source": [
    "### solution 6.2\n",
    "\n",
    "def fetch_records_age(age):\n",
    "    conn = sqlite3.connect('test.db')\n",
    "    cursor= conn.cursor()\n",
    "    cursor.execute('''\n",
    "                select * from employees where age>?   \n",
    "                ''',(age,))\n",
    "    records = cursor.fetchall()\n",
    "    conn.close()\n",
    "    for rec in records:\n",
    "        print(rec)\n",
    "    \n",
    "fetch_records_age(24)"
   ]
  },
  {
   "cell_type": "code",
   "execution_count": 28,
   "id": "90f3aab0",
   "metadata": {},
   "outputs": [
    {
     "name": "stdout",
     "output_type": "stream",
     "text": [
      "(1, 'A', 25, 'Science')\n"
     ]
    }
   ],
   "source": [
    "### solution 6.2\n",
    "\n",
    "def fetch_records_name(letter):\n",
    "    conn = sqlite3.connect('test.db')\n",
    "    cursor= conn.cursor()\n",
    "    cursor.execute('''\n",
    "                select * from employees where name like ?   \n",
    "                ''',(letter,))\n",
    "    records = cursor.fetchall()\n",
    "    conn.close()\n",
    "    for rec in records:\n",
    "        print(rec)\n",
    "\n",
    "fetch_records_name('A')"
   ]
  },
  {
   "cell_type": "code",
   "execution_count": 35,
   "id": "d54be9be",
   "metadata": {},
   "outputs": [
    {
     "name": "stdout",
     "output_type": "stream",
     "text": [
      "All employees inserted successfully\n"
     ]
    }
   ],
   "source": [
    "### solution 7.1\n",
    "\n",
    "def insert_multiple_emp(employees):\n",
    "    conn = sqlite3.connect('test.db')\n",
    "    cursor = conn.cursor()\n",
    "    try:\n",
    "        cursor.executemany('''\n",
    "                        insert into employees (id, name, age, department)\n",
    "                           values (?,?,?,?)\n",
    "                           ''', employees)\n",
    "        conn.commit()\n",
    "        print(\"All employees inserted successfully\")\n",
    "    except Exception as e:\n",
    "        conn.rollback()\n",
    "        print(\"Error occurred, transaction rolled back.\")\n",
    "        print(e)\n",
    "    finally:\n",
    "        conn.close()\n",
    "\n",
    "employees = [\n",
    "    (10,'AD',34,'IT'),\n",
    "    (7,'BC',36,'HR'),\n",
    "    (8,'AR',45,'Sales'),\n",
    "    (9,'GH',30,'IT'),\n",
    "    (11,'AQ',44,'IT')\n",
    "]\n",
    "\n",
    "insert_multiple_emp(employees)"
   ]
  },
  {
   "cell_type": "code",
   "execution_count": 40,
   "id": "092e1136",
   "metadata": {},
   "outputs": [],
   "source": [
    "### solution 7.2\n",
    "\n",
    "def update_multiple_data(ages):\n",
    "    conn = sqlite3.connect('test.db')\n",
    "    cursor = conn.cursor()\n",
    "    try:\n",
    "\n",
    "        cursor.executemany('''\n",
    "                    update employees\n",
    "                    set age = ?\n",
    "                    where id = ?\n",
    "                    ''', ages)\n",
    "        conn.commit()\n",
    "    except Exception as e:\n",
    "        conn.rollback()\n",
    "        print(\"Error occurred,m transaction rollled back.\")\n",
    "        print(e)\n",
    "    finally:\n",
    "        conn.close()\n",
    "\n",
    "ages = [\n",
    "    (30,1),\n",
    "    (27,2),\n",
    "    (33,3),\n",
    "    (44,4),\n",
    "    (28,6)\n",
    "]\n",
    "update_multiple_data(ages)"
   ]
  },
  {
   "cell_type": "code",
   "execution_count": 41,
   "id": "66df705e",
   "metadata": {},
   "outputs": [
    {
     "name": "stdout",
     "output_type": "stream",
     "text": [
      "(1, 'A', 30, 'Science')\n",
      "(3, 'C', 33, 'Research')\n",
      "(5, 'E', 23, 'Science')\n",
      "(6, 'F', 28, 'Commerce')\n",
      "(7, 'BC', 36, 'HR')\n",
      "(8, 'AR', 45, 'Sales')\n",
      "(9, 'GH', 30, 'IT')\n",
      "(10, 'AD', 34, 'IT')\n",
      "(11, 'AQ', 44, 'IT')\n"
     ]
    }
   ],
   "source": [
    "display()"
   ]
  },
  {
   "cell_type": "code",
   "execution_count": 42,
   "id": "db10c0f1",
   "metadata": {},
   "outputs": [
    {
     "name": "stdout",
     "output_type": "stream",
     "text": [
      "Table created\n"
     ]
    }
   ],
   "source": [
    "### solution 8.1\n",
    "\n",
    "def create_tb():\n",
    "    conn = sqlite3.connect('test.db')\n",
    "    cursor = conn.cursor()\n",
    "    cursor.execute('''\n",
    "                   create table if not exists departments(\n",
    "                   id integer primary key,\n",
    "                   name text not null\n",
    "                   )\n",
    "                    ''')\n",
    "    conn.commit()\n",
    "    conn.close()\n",
    "    print('Table created')\n",
    "\n",
    "create_tb()"
   ]
  },
  {
   "cell_type": "code",
   "execution_count": 49,
   "id": "d110fcfc",
   "metadata": {},
   "outputs": [
    {
     "name": "stdout",
     "output_type": "stream",
     "text": [
      "Table modified\n"
     ]
    }
   ],
   "source": [
    "### solution 8.2\n",
    "\n",
    "def add_foreign_key():\n",
    "    conn = sqlite3.connect('test.db')\n",
    "    cursor = conn.cursor()\n",
    "    cursor.execute('pragma foreign_keys=off;')\n",
    "    cursor.execute('alter table employees rename to employees_1;')\n",
    "    cursor.execute('''\n",
    "                   create table employees (\n",
    "                   id integer primary key,\n",
    "                   name text not null,\n",
    "                   age integer,\n",
    "                   department text, \n",
    "                   department_id integer,\n",
    "                   foreign key(department_id) references departments(id)\n",
    "                   );\n",
    "''')\n",
    "    cursor.execute('''\n",
    "                   insert into employees (id, name, age, department)\n",
    "                   select id, name, age, department from employees_1;\n",
    "                   ''') \n",
    "    cursor.execute('drop table employees_1;')\n",
    "    cursor.execute('commit;')\n",
    "    cursor.execute('pragma foreign_keys=on;')          \n",
    "    conn.commit()\n",
    "    conn.close()\n",
    "    print('Table modified')\n",
    "\n",
    "add_foreign_key()"
   ]
  },
  {
   "cell_type": "code",
   "execution_count": 54,
   "id": "ca3b75e8",
   "metadata": {},
   "outputs": [
    {
     "name": "stdout",
     "output_type": "stream",
     "text": [
      "Department and employee data inserted\n"
     ]
    }
   ],
   "source": [
    "### solution 8.3\n",
    "\n",
    "def insert_dept_emp(dept_id, dept_name, emp_id, name, age, dept):\n",
    "    conn = sqlite3.connect('test.db')\n",
    "    cursor = conn.cursor()\n",
    "    try:\n",
    "        cursor.execute('BEGIN TRANSACTION;')\n",
    "        \n",
    "        cursor.execute('''\n",
    "                       INSERT INTO departments (id, name)\n",
    "                       VALUES (?, ?)\n",
    "                       ''', (dept_id, dept_name))\n",
    "        \n",
    "        cursor.execute('''\n",
    "                       INSERT INTO employees (id, name, age, department, department_id)\n",
    "                       VALUES (?, ?, ?, ?, ?)\n",
    "                       ''', (emp_id, name, age, dept, dept_id))\n",
    "        \n",
    "        conn.commit()\n",
    "        print('Department and employee data inserted')\n",
    "    except Exception as e:\n",
    "        conn.rollback()\n",
    "        print(\"Error occurred, transaction rolled back\")\n",
    "        print(e)\n",
    "    finally:\n",
    "        conn.close()\n",
    "\n",
    "insert_dept_emp(1, 'IT', 12, 'ST', 29, 'IT')"
   ]
  },
  {
   "cell_type": "code",
   "execution_count": 56,
   "id": "cfeb1b94",
   "metadata": {},
   "outputs": [
    {
     "name": "stdout",
     "output_type": "stream",
     "text": [
      "index created\n"
     ]
    }
   ],
   "source": [
    "### solution 9.1\n",
    "\n",
    "def create_index():\n",
    "    conn = sqlite3.connect('test.db')\n",
    "    cursor = conn.cursor()\n",
    "    cursor.execute('create index idx_name on employees(name)')\n",
    "    conn.commit()\n",
    "    conn.close()\n",
    "    print(\"index created\")\n",
    "\n",
    "create_index()"
   ]
  },
  {
   "cell_type": "code",
   "execution_count": 57,
   "id": "fff7e8be",
   "metadata": {},
   "outputs": [
    {
     "name": "stdout",
     "output_type": "stream",
     "text": [
      "time taken to complete 0.01799297332763672.s\n",
      "(1, 'A', 30, 'Science', None)\n",
      "(8, 'AR', 45, 'Sales', None)\n",
      "(10, 'AD', 34, 'IT', None)\n",
      "(11, 'AQ', 44, 'IT', None)\n"
     ]
    }
   ],
   "source": [
    "### solution 9.2\n",
    "\n",
    "import time\n",
    "\n",
    "def fetch_records_performance(letter):\n",
    "    conn = sqlite3.connect('test.db')\n",
    "    cursor = conn.cursor()\n",
    "    start_time = time.time()\n",
    "    cursor.execute('select * from employees where name like ?',(letter+'%',))\n",
    "    records =cursor.fetchall()\n",
    "    end_time = time.time()\n",
    "    conn.close()\n",
    "    print(f\"time taken to complete {end_time-start_time}.s\")\n",
    "    for record in records:\n",
    "        print(record)\n",
    "\n",
    "fetch_records_performance('A')"
   ]
  },
  {
   "cell_type": "code",
   "execution_count": 58,
   "id": "2e6a3da7",
   "metadata": {},
   "outputs": [
    {
     "name": "stdout",
     "output_type": "stream",
     "text": [
      "DB backed up\n"
     ]
    }
   ],
   "source": [
    "### solution 10.1\n",
    "import shutil\n",
    "\n",
    "def backup_db():\n",
    "    shutil.copy('test.db', 'backup.db')\n",
    "    print('DB backed up')\n",
    "\n",
    "backup_db()"
   ]
  },
  {
   "cell_type": "code",
   "execution_count": 60,
   "id": "90511902",
   "metadata": {},
   "outputs": [
    {
     "name": "stdout",
     "output_type": "stream",
     "text": [
      "database restored\n"
     ]
    }
   ],
   "source": [
    "### solution 10.2\n",
    "\n",
    "def restore_db():\n",
    "    shutil.copy('backup.db', 'test.db')\n",
    "    print('database restored')\n",
    "\n",
    "restore_db()"
   ]
  },
  {
   "cell_type": "code",
   "execution_count": null,
   "id": "fc7a1645",
   "metadata": {},
   "outputs": [],
   "source": []
  }
 ],
 "metadata": {
  "kernelspec": {
   "display_name": "venv",
   "language": "python",
   "name": "python3"
  },
  "language_info": {
   "codemirror_mode": {
    "name": "ipython",
    "version": 3
   },
   "file_extension": ".py",
   "mimetype": "text/x-python",
   "name": "python",
   "nbconvert_exporter": "python",
   "pygments_lexer": "ipython3",
   "version": "3.12.0"
  }
 },
 "nbformat": 4,
 "nbformat_minor": 5
}
