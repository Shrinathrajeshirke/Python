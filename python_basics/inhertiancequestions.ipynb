{
 "cells": [
  {
   "cell_type": "markdown",
   "metadata": {},
   "source": [
    "# Module: Inheritance Assignments\n",
    "## Lesson: Single and Multiple Inheritance\n",
    "### Assignment 1: Single Inheritance Basic\n",
    "\n",
    "Create a base class named `Animal` with attributes `name` and `species`. Create a derived class named `Dog` that inherits from `Animal` and adds an attribute `breed`. Create an object of the `Dog` class and print its attributes.\n",
    "\n",
    "### Assignment 2: Method Overriding in Single Inheritance\n",
    "\n",
    "In the `Dog` class, override the `__str__` method to return a string representation of the object. Create an object of the class and print it.\n",
    "\n",
    "### Assignment 3: Single Inheritance with Additional Methods\n",
    "\n",
    "In the `Dog` class, add a method named `bark` that prints a barking sound. Create an object of the class and call the method.\n",
    "\n",
    "### Assignment 4: Multiple Inheritance Basic\n",
    "\n",
    "Create a base class named `Walker` with a method `walk` that prints a walking message. Create another base class named `Runner` with a method `run` that prints a running message. Create a derived class named `Athlete` that inherits from both `Walker` and `Runner`. Create an object of the `Athlete` class and call both methods.\n",
    "\n",
    "### Assignment 5: Method Resolution Order (MRO) in Multiple Inheritance\n",
    "\n",
    "In the `Athlete` class, override the `walk` method to print a different message. Create an object of the class and call the `walk` method. Use the `super()` function to call the `walk` method of the `Walker` class.\n",
    "\n",
    "### Assignment 6: Multiple Inheritance with Additional Attributes\n",
    "\n",
    "In the `Athlete` class, add an attribute `training_hours` and a method `train` that prints the training hours. Create an object of the class and call the method.\n",
    "\n",
    "### Assignment 7: Diamond Problem in Multiple Inheritance\n",
    "\n",
    "Create a class named `A` with a method `show` that prints a message. Create two derived classes `B` and `C` that inherit from `A` and override the `show` method. Create a class `D` that inherits from both `B` and `C`. Create an object of the `D` class and call the `show` method. Observe the method resolution order.\n",
    "\n",
    "### Assignment 8: Using `super()` in Single Inheritance\n",
    "\n",
    "Create a base class named `Shape` with an attribute `color`. Create a derived class named `Circle` that inherits from `Shape` and adds an attribute `radius`. Use the `super()` function to initialize the attributes. Create an object of the `Circle` class and print its attributes.\n",
    "\n",
    "### Assignment 9: Using `super()` in Multiple Inheritance\n",
    "\n",
    "Create a class named `Person` with an attribute `name`. Create a class named `Employee` with an attribute `employee_id`. Create a derived class `Manager` that inherits from both `Person` and `Employee`. Use the `super()` function to initialize the attributes. Create an object of the `Manager` class and print its attributes.\n",
    "\n",
    "### Assignment 10: Method Overriding and `super()`\n",
    "\n",
    "Create a class named `Vehicle` with a method `start` that prints a starting message. Create a derived class `Car` that overrides the `start` method to print a different message. Use the `super()` function to call the `start` method of the `Vehicle` class. Create an object of the `Car` class and call the `start` method.\n",
    "\n",
    "### Assignment 11: Multiple Inheritance with Different Methods\n",
    "\n",
    "Create a class named `Flyer` with a method `fly` that prints a flying message. Create a class named `Swimmer` with a method `swim` that prints a swimming message. Create a derived class `Superhero` that inherits from both `Flyer` and `Swimmer`. Create an object of the `Superhero` class and call both methods.\n",
    "\n",
    "### Assignment 12: Complex Multiple Inheritance\n",
    "\n",
    "Create a class named `Base1` with an attribute `a`. Create a class named `Base2` with an attribute `b`. Create a class named `Derived` that inherits from both `Base1` and `Base2` and adds an attribute `c`. Initialize all attributes using the `super()` function. Create an object of the `Derived` class and print its attributes.\n",
    "\n",
    "### Assignment 13: Checking Instance Types with Inheritance\n",
    "\n",
    "Create a base class named `Animal` and a derived class named `Cat`. Create objects of both classes and use the `isinstance` function to check the instance types.\n",
    "\n",
    "### Assignment 14: Polymorphism with Inheritance\n",
    "\n",
    "Create a base class named `Bird` with a method `speak`. Create two derived classes `Parrot` and `Penguin` that override the `speak` method. Create a list of `Bird` objects and call the `speak` method on each object to demonstrate polymorphism.\n",
    "\n",
    "### Assignment 15: Combining Single and Multiple Inheritance\n",
    "\n",
    "Create a base class named `Device` with an attribute `brand`. Create a derived class `Phone` that inherits from `Device` and adds an attribute `model`. Create another base class `Camera` with an attribute `resolution`. Create a derived class `Smartphone` that inherits from both `Phone` and `Camera`. Create an object of the `Smartphone` class and print its attributes."
   ]
  },
  {
   "cell_type": "code",
   "execution_count": null,
   "metadata": {},
   "outputs": [
    {
     "name": "stdout",
     "output_type": "stream",
     "text": [
      "Bob Siberian Husky\n"
     ]
    }
   ],
   "source": [
    "### solution 1\n",
    "\n",
    "class Animal:\n",
    "    def __init__(self, name, species):\n",
    "        self.name = name\n",
    "        self.species = species\n",
    "\n",
    "\n",
    "class Dog(Animal):\n",
    "    def __init__(self, name, species, breed):\n",
    "        super().__init__(name, breed)\n",
    "        self.breed = breed\n",
    "\n",
    "\n",
    "dog = Dog(\"Bob\",\"Siberian\",\"Husky\")\n",
    "print(dog.name, dog.species, dog.breed)"
   ]
  },
  {
   "cell_type": "code",
   "execution_count": null,
   "id": "c57dad72",
   "metadata": {},
   "outputs": [
    {
     "name": "stdout",
     "output_type": "stream",
     "text": [
      "Name: Bob, Species: Siberian, Breed: Husky\n"
     ]
    }
   ],
   "source": [
    "### solution 2\n",
    "\n",
    "class Animal:\n",
    "    def __init__(self, name, species):\n",
    "        self.name = name\n",
    "        self.species = species\n",
    "\n",
    "\n",
    "class Dog(Animal):\n",
    "    def __init__(self, name, species, breed):\n",
    "        super().__init__(name, breed)\n",
    "        self.breed = breed\n",
    "\n",
    "    def __str__(self):\n",
    "        return f\"Name: {self.name}, Species: {self.species}, Breed: {self.breed}\"\n",
    "\n",
    "\n",
    "dog = Dog(\"Bob\",\"Siberian\",\"Husky\")\n",
    "print(dog)"
   ]
  },
  {
   "cell_type": "code",
   "execution_count": 5,
   "id": "c238ccd0",
   "metadata": {},
   "outputs": [
    {
     "name": "stdout",
     "output_type": "stream",
     "text": [
      "Woof\n"
     ]
    }
   ],
   "source": [
    "### solution 3\n",
    "\n",
    "class Dog(Animal):\n",
    "    def __init__(self, name, species, breed):\n",
    "        super().__init__(name, breed)\n",
    "        self.breed = breed\n",
    "    \n",
    "    def bark(self):\n",
    "        print(\"Woof\")\n",
    "\n",
    "dog = Dog(\"Bob\",\"Siberian\",\"Husky\")\n",
    "dog.bark()"
   ]
  },
  {
   "cell_type": "code",
   "execution_count": 6,
   "id": "a6d3dc5a",
   "metadata": {},
   "outputs": [
    {
     "name": "stdout",
     "output_type": "stream",
     "text": [
      "running\n",
      "Walking\n"
     ]
    }
   ],
   "source": [
    "### solution 4\n",
    "\n",
    "class Walker:\n",
    "    def walk(self):\n",
    "        print(\"Walking\")\n",
    "\n",
    "    \n",
    "class Runner:\n",
    "    def run(self):\n",
    "        print(\"running\")\n",
    "\n",
    "class Athlete(Walker, Runner):\n",
    "    pass\n",
    "\n",
    "athlete = Athlete()\n",
    "athlete.run()\n",
    "athlete.walk()"
   ]
  },
  {
   "cell_type": "code",
   "execution_count": null,
   "id": "27ea849a",
   "metadata": {},
   "outputs": [
    {
     "name": "stdout",
     "output_type": "stream",
     "text": [
      "Athlete is walking\n",
      "Walking\n"
     ]
    }
   ],
   "source": [
    "### solution 5\n",
    "\n",
    "class Athlete(Walker,Runner):\n",
    "    def walk(self):\n",
    "        print(\"Athlete is walking\")\n",
    "        super().walk()\n",
    "\n",
    "\n",
    "athlete = Athlete()\n",
    "athlete.walk()"
   ]
  },
  {
   "cell_type": "code",
   "execution_count": null,
   "id": "ace395c7",
   "metadata": {},
   "outputs": [
    {
     "name": "stdout",
     "output_type": "stream",
     "text": [
      "Today's training time: 2 hours\n"
     ]
    }
   ],
   "source": [
    "### solution 6\n",
    "\n",
    "class Athlete(Walker, Runner):\n",
    "    def __init__(self, training_hours):\n",
    "        self.training_hours = training_hours\n",
    "\n",
    "    def train(self):\n",
    "        print(f\"Today's training time: {self.training_hours} hours\")\n",
    "\n",
    "athlete = Athlete(2)\n",
    "athlete.train()"
   ]
  },
  {
   "cell_type": "code",
   "execution_count": 12,
   "id": "f20cbcba",
   "metadata": {},
   "outputs": [
    {
     "name": "stdout",
     "output_type": "stream",
     "text": [
      "message displayed from B\n"
     ]
    }
   ],
   "source": [
    "### solution 7\n",
    "\n",
    "class A:\n",
    "    def show(self):\n",
    "        print(\"message displayed from A\")\n",
    "\n",
    "class B(A):\n",
    "    def show(self):\n",
    "        print(\"message displayed from B\")\n",
    "\n",
    "class C(A):\n",
    "    def show(self):\n",
    "        print(\"message displayed from C\")\n",
    "\n",
    "class D(B,C):\n",
    "    pass\n",
    "\n",
    "\n",
    "d = D()\n",
    "d.show()"
   ]
  },
  {
   "cell_type": "code",
   "execution_count": 14,
   "id": "60485eec",
   "metadata": {},
   "outputs": [
    {
     "name": "stdout",
     "output_type": "stream",
     "text": [
      "We have red circle with radius 4\n"
     ]
    }
   ],
   "source": [
    "### solution 8 \n",
    "\n",
    "class Shape:\n",
    "    def __init__(self, color):\n",
    "        self.color = color\n",
    "\n",
    "class Circle(Shape):\n",
    "    def __init__(self, color, radius):\n",
    "        super().__init__(color)\n",
    "        self.radius = radius\n",
    "\n",
    "circle = Circle('red', 4)\n",
    "print(f\"We have {circle.color} circle with radius {circle.radius}\")"
   ]
  },
  {
   "cell_type": "code",
   "execution_count": 15,
   "id": "030298be",
   "metadata": {},
   "outputs": [
    {
     "name": "stdout",
     "output_type": "stream",
     "text": [
      "Hari 1001\n"
     ]
    }
   ],
   "source": [
    "### solution 9\n",
    "\n",
    "class Person:\n",
    "    def __init__(self, name):\n",
    "        self.name = name\n",
    "\n",
    "class Employee:\n",
    "    def __init__(self, emp_id):\n",
    "        self.emp_id = emp_id\n",
    "\n",
    "class Manager(Person, Employee):\n",
    "    def __init__(self, name, emp_id):\n",
    "        super().__init__(name)\n",
    "        Employee.__init__(self, emp_id)\n",
    "\n",
    "manager = Manager(\"Hari\", 1001)\n",
    "print(manager.name, manager.emp_id)"
   ]
  },
  {
   "cell_type": "code",
   "execution_count": 16,
   "id": "dd7009ff",
   "metadata": {},
   "outputs": [
    {
     "name": "stdout",
     "output_type": "stream",
     "text": [
      "The car starts\n",
      "The vehicle starts\n"
     ]
    }
   ],
   "source": [
    "### solution 10\n",
    "\n",
    "class Vehicle:\n",
    "    def start(self):\n",
    "        print(\"The vehicle starts\")\n",
    "\n",
    "class Car(Vehicle):\n",
    "    def start(self):\n",
    "        print(\"The car starts\")\n",
    "        super().start()\n",
    "\n",
    "car = Car()\n",
    "car.start()"
   ]
  },
  {
   "cell_type": "code",
   "execution_count": 17,
   "id": "6616c956",
   "metadata": {},
   "outputs": [
    {
     "name": "stdout",
     "output_type": "stream",
     "text": [
      "flying\n",
      "swimming\n"
     ]
    }
   ],
   "source": [
    "### solution 11\n",
    "\n",
    "class Flyer:\n",
    "    def fly(shape):\n",
    "        print(\"flying\")\n",
    "\n",
    "class Swimmer:\n",
    "    def swim(self):\n",
    "        print(\"swimming\")\n",
    "\n",
    "class SuperHero(Flyer, Swimmer):\n",
    "    pass\n",
    "\n",
    "\n",
    "hero = SuperHero()\n",
    "hero.fly()\n",
    "hero.swim()"
   ]
  },
  {
   "cell_type": "code",
   "execution_count": 19,
   "id": "36534710",
   "metadata": {},
   "outputs": [
    {
     "name": "stdout",
     "output_type": "stream",
     "text": [
      "a from Base1 b from Base2 c from derived class\n"
     ]
    }
   ],
   "source": [
    "### solution 12\n",
    "\n",
    "class Base1:\n",
    "    def __init__(self, a):\n",
    "        self.a = a\n",
    "\n",
    "class Base2:\n",
    "    def __init__(self, b):\n",
    "        self.b = b \n",
    "\n",
    "class DerivedClass(Base1, Base2):\n",
    "    def __init__(self, a,b,c):\n",
    "        super().__init__(a)\n",
    "        Base2.__init__(self, b)\n",
    "        self.c = c \n",
    "\n",
    "\n",
    "derived = DerivedClass(\"a from Base1\",\"b from Base2\",\"c from derived class\")\n",
    "print(derived.a, derived.b, derived.c)\n",
    "\n",
    "        "
   ]
  },
  {
   "cell_type": "code",
   "execution_count": 23,
   "id": "cc96634b",
   "metadata": {},
   "outputs": [
    {
     "name": "stdout",
     "output_type": "stream",
     "text": [
      "True\n",
      "False\n",
      "True\n",
      "True\n"
     ]
    }
   ],
   "source": [
    "### solution 13\n",
    "\n",
    "class Animal:\n",
    "    pass\n",
    "\n",
    "class Cat(Animal):\n",
    "    pass\n",
    "\n",
    "animal = Animal()\n",
    "cat = Cat()\n",
    "\n",
    "print(isinstance(animal, Animal))\n",
    "\n",
    "print(isinstance(animal, Cat))\n",
    "\n",
    "print(isinstance(cat, Cat))\n",
    "\n",
    "print(isinstance(cat, Animal))"
   ]
  },
  {
   "cell_type": "code",
   "execution_count": 24,
   "id": "103f4fd5",
   "metadata": {},
   "outputs": [
    {
     "name": "stdout",
     "output_type": "stream",
     "text": [
      "Parrot speaking\n",
      "None\n",
      "Penguin speaking\n",
      "None\n"
     ]
    }
   ],
   "source": [
    "### solution 14\n",
    "\n",
    "class Bird:\n",
    "    def speak(self):\n",
    "        print(\"speaking\")\n",
    "\n",
    "class Parrot(Bird):\n",
    "    def speak(self):\n",
    "        print(\"Parrot speaking\")\n",
    "\n",
    "class Penguin(Bird):\n",
    "    def speak(self):\n",
    "        print(\"Penguin speaking\")\n",
    "\n",
    "birds = [Parrot(), Penguin()]\n",
    "\n",
    "for bird in birds:\n",
    "    print(bird.speak())"
   ]
  },
  {
   "cell_type": "code",
   "execution_count": 25,
   "id": "ec104ea5",
   "metadata": {},
   "outputs": [
    {
     "name": "stdout",
     "output_type": "stream",
     "text": [
      "Brand: Apple, Model:Iphone 16 pro, Resolution:24 MP\n"
     ]
    }
   ],
   "source": [
    "### solution 15\n",
    "\n",
    "class Device:\n",
    "    def __init__(self, brand):\n",
    "        self.brand = brand\n",
    "\n",
    "class Phone(Device):\n",
    "    def __init__(self, brand, model):\n",
    "        super().__init__(brand)\n",
    "        self.model = model\n",
    "\n",
    "class Camera:\n",
    "    def __init__(self, resolution):\n",
    "        self.resolution  = resolution\n",
    "\n",
    "class Smartphone(Phone, Camera):\n",
    "    def __init__(self, brand, model, resolution):\n",
    "        super().__init__(brand, model)\n",
    "        Camera.__init__(self, resolution)\n",
    "\n",
    "smartphone = Smartphone(\"Apple\", \"Iphone 16 pro\", \"24 MP\")\n",
    "\n",
    "print(f\"Brand: {smartphone.brand}, Model:{smartphone.model}, Resolution:{smartphone.resolution}\")"
   ]
  },
  {
   "cell_type": "code",
   "execution_count": null,
   "id": "1b2ef3a7",
   "metadata": {},
   "outputs": [],
   "source": []
  }
 ],
 "metadata": {
  "kernelspec": {
   "display_name": "venv",
   "language": "python",
   "name": "python3"
  },
  "language_info": {
   "codemirror_mode": {
    "name": "ipython",
    "version": 3
   },
   "file_extension": ".py",
   "mimetype": "text/x-python",
   "name": "python",
   "nbconvert_exporter": "python",
   "pygments_lexer": "ipython3",
   "version": "3.12.0"
  }
 },
 "nbformat": 4,
 "nbformat_minor": 5
}
