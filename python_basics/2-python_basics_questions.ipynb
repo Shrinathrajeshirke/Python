{
 "cells": [
  {
   "cell_type": "markdown",
   "metadata": {},
   "source": [
    "# Lesson 1.2: Python Basics\n",
    "## Topics Covered:\n",
    "- Syntax and Semantics\n",
    "- Variables and Data Types\n",
    "- Basic Operators (Arithmetic, Comparison, Logical)\n"
   ]
  },
  {
   "cell_type": "markdown",
   "metadata": {},
   "source": [
    "## 1. Syntax and Semantics\n",
    "\n",
    "**Question 1:** Write a Python program to print \"Hello, World!\"."
   ]
  },
  {
   "cell_type": "code",
   "execution_count": null,
   "metadata": {},
   "outputs": [
    {
     "name": "stdout",
     "output_type": "stream",
     "text": [
      "Hello, World!\n"
     ]
    }
   ],
   "source": [
    "## print hello world\n",
    "\n",
    "print(\"Hello, World!\")"
   ]
  },
  {
   "cell_type": "markdown",
   "metadata": {},
   "source": [
    "**Question 2:** Write a Python program that takes a user input and prints it."
   ]
  },
  {
   "cell_type": "code",
   "execution_count": null,
   "metadata": {},
   "outputs": [
    {
     "name": "stdout",
     "output_type": "stream",
     "text": [
      "1\n"
     ]
    }
   ],
   "source": [
    "## user input \n",
    "\n",
    "print(input(\"Provide user input here\"))"
   ]
  },
  {
   "cell_type": "markdown",
   "metadata": {},
   "source": [
    "**Question 3:** Write a Python program to check if a number is positive, negative, or zero."
   ]
  },
  {
   "cell_type": "code",
   "execution_count": null,
   "metadata": {},
   "outputs": [
    {
     "name": "stdout",
     "output_type": "stream",
     "text": [
      "5.0 is positive\n"
     ]
    }
   ],
   "source": [
    "## program to check if a number is positive, negative or zero\n",
    "\n",
    "num = float(input(\"enter a number\")) ## takes input value\n",
    "\n",
    "if num>0:\n",
    "    print(f'{num} is positive') ## checks for positive value\n",
    "elif num<0:\n",
    "    print(f'{num} is negative') ## checks for negative value\n",
    "else:\n",
    "    print('num is zero') ## otherwise returns zero\n"
   ]
  },
  {
   "cell_type": "markdown",
   "metadata": {},
   "source": [
    "**Question 4:** Write a Python program to find the largest of three numbers."
   ]
  },
  {
   "cell_type": "code",
   "execution_count": null,
   "metadata": {},
   "outputs": [
    {
     "name": "stdout",
     "output_type": "stream",
     "text": [
      "6.0 is largest nubmer\n"
     ]
    }
   ],
   "source": [
    "## Program to find the largest of 3 numbers\n",
    "\n",
    "x = float(input(\"enter first number\")) \n",
    "y = float(input(\"enter second number\"))\n",
    "z = float(input(\"enter third number\"))\n",
    "\n",
    "if (x>=y) and (y>=z):\n",
    "    print(f'{x} is largest number') ## checks if first number is largest\n",
    "elif (y>=x) and (y>=z):\n",
    "    print(f'{y} is largest number') ## checks if second number is largest\n",
    "else:\n",
    "    print(f'{z} is largest nubmer') ## otherwise returns third number as largest\n"
   ]
  },
  {
   "cell_type": "markdown",
   "metadata": {},
   "source": [
    "**Question 5:** Write a Python program to calculate the factorial of a number."
   ]
  },
  {
   "cell_type": "code",
   "execution_count": null,
   "metadata": {},
   "outputs": [
    {
     "name": "stdout",
     "output_type": "stream",
     "text": [
      "1\n"
     ]
    }
   ],
   "source": [
    "## python program for factorial calculation\n",
    "\n",
    "num = int(input(\"enter a number\")) ## takes input value\n",
    "\n",
    "fact = 1 ## intializing factorial variable\n",
    "\n",
    "if num==0:\n",
    "    fact =1  ## returns factorial as 1 if num is 0\n",
    "else:\n",
    "    for i in range(1,num+1):\n",
    "        fact*=i ## calculated factorial value for num > 0\n",
    "print(fact)\n"
   ]
  },
  {
   "cell_type": "markdown",
   "metadata": {},
   "source": [
    "## 2. Variables and Data Types\n",
    "\n",
    "**Question 6:** Create variables of different data types: integer, float, string, and boolean. Print their values and types."
   ]
  },
  {
   "cell_type": "code",
   "execution_count": null,
   "metadata": {},
   "outputs": [
    {
     "name": "stdout",
     "output_type": "stream",
     "text": [
      "value of a is 10 and type of a is <class 'int'>\n",
      "value of a is 10.0 and type of a is <class 'float'>\n",
      "value of a is Hi and type of a is <class 'str'>\n",
      "value of a is True and type of a is <class 'bool'>\n"
     ]
    }
   ],
   "source": [
    "a = 10\n",
    "b = 10.0\n",
    "c = 'Hi'\n",
    "d = True\n",
    "\n",
    "print(f'value of a is {a} and type of a is {type(a)}') \n",
    "print(f'value of a is {b} and type of a is {type(b)}')\n",
    "print(f'value of a is {c} and type of a is {type(c)}')\n",
    "print(f'value of a is {d} and type of a is {type(d)}')"
   ]
  },
  {
   "cell_type": "markdown",
   "metadata": {},
   "source": [
    "**Question 7:** Write a Python program to swap the values of two variables."
   ]
  },
  {
   "cell_type": "code",
   "execution_count": null,
   "metadata": {},
   "outputs": [
    {
     "name": "stdout",
     "output_type": "stream",
     "text": [
      "before swap values of a and b are 10 and 5\n",
      "after swap values of a and b are 5 and 10\n"
     ]
    }
   ],
   "source": [
    "a = 10\n",
    "b = 5\n",
    "\n",
    "print(f'before swap values of a and b are {a} and {b}')\n",
    "\n",
    "a,b = b,a ## swaps the values\n",
    "\n",
    "print(f'after swap values of a and b are {a} and {b}')"
   ]
  },
  {
   "cell_type": "markdown",
   "metadata": {},
   "source": [
    "**Question 8:** Write a Python program to convert Celsius to Fahrenheit."
   ]
  },
  {
   "cell_type": "code",
   "execution_count": 5,
   "metadata": {},
   "outputs": [
    {
     "name": "stdout",
     "output_type": "stream",
     "text": [
      "144.5\n"
     ]
    }
   ],
   "source": [
    "celsius = 25\n",
    "\n",
    "fahrenheit = celsius*(9/2) + 32 ## converts celsius into fahrenheit\n",
    "\n",
    "print(fahrenheit)"
   ]
  },
  {
   "cell_type": "markdown",
   "metadata": {},
   "source": [
    "**Question 9:** Write a Python program to concatenate two strings."
   ]
  },
  {
   "cell_type": "code",
   "execution_count": null,
   "metadata": {},
   "outputs": [
    {
     "name": "stdout",
     "output_type": "stream",
     "text": [
      "hh bb\n"
     ]
    }
   ],
   "source": [
    "str1 = input(\"type something\")\n",
    "str2 = input(\"type something\")\n",
    "\n",
    "concat = str1 + \" \" + str2  ## concatenates two strings\n",
    "print(concat)"
   ]
  },
  {
   "cell_type": "markdown",
   "metadata": {},
   "source": [
    "**Question 10:** Write a Python program to check if a variable is of a specific data type."
   ]
  },
  {
   "cell_type": "code",
   "execution_count": 9,
   "metadata": {},
   "outputs": [
    {
     "name": "stdout",
     "output_type": "stream",
     "text": [
      "type of 10 is int\n"
     ]
    }
   ],
   "source": [
    "num = 10\n",
    "\n",
    "if isinstance(num, int):\n",
    "    print(f'type of {num} is int')\n",
    "else:\n",
    "    print(f'type of {num} is not int')"
   ]
  },
  {
   "cell_type": "markdown",
   "metadata": {},
   "source": [
    "## 3. Basic Operators (Arithmetic, Comparison, Logical)\n",
    "\n",
    "**Question 11:** Write a Python program to perform arithmetic operations: addition, subtraction, multiplication, and division."
   ]
  },
  {
   "cell_type": "code",
   "execution_count": null,
   "metadata": {},
   "outputs": [
    {
     "name": "stdout",
     "output_type": "stream",
     "text": [
      "addition of two variables 10 and 5 is 15\n",
      "substtraction of two variables 10 and 5 is 5\n",
      "multiplication of two variables 10 and 5 is 50\n",
      "division of two variables 10 and 5 is 2.0\n"
     ]
    }
   ],
   "source": [
    "a = 10\n",
    "b = 5\n",
    "\n",
    "## addition operation\n",
    "sum = a + b ## adds two variables\n",
    "print(f'addition of two variables {a} and {b} is {sum}')\n",
    "\n",
    "## substraction operation\n",
    "substract = a - b ## substracts two variables\n",
    "print(f'substtraction of two variables {a} and {b} is {substract}')\n",
    "\n",
    "## multiplication operation\n",
    "multiply = a * b ## multiply two variables\n",
    "print(f'multiplication of two variables {a} and {b} is {multiply}')\n",
    "\n",
    "## division operation\n",
    "division = a / b ## divides two variables\n",
    "print(f'division of two variables {a} and {b} is {division}')"
   ]
  },
  {
   "cell_type": "markdown",
   "metadata": {},
   "source": [
    "**Question 12:** Write a Python program to demonstrate comparison operators: equal to, not equal to, greater than, less than."
   ]
  },
  {
   "cell_type": "code",
   "execution_count": 13,
   "metadata": {},
   "outputs": [
    {
     "name": "stdout",
     "output_type": "stream",
     "text": [
      "equal to operator, False\n",
      "not equal to operator, True\n",
      "greater than operator, True\n",
      "less than operator, False\n"
     ]
    }
   ],
   "source": [
    "a = 10\n",
    "b = 5\n",
    "\n",
    "## equal to operator\n",
    "print(f'equal to operator, {a == b}') ## checks both are equal values\n",
    "\n",
    "## not equal to operator\n",
    "print(f'not equal to operator, {a != b}') ## checks both are not equal values\n",
    "\n",
    "## greater than operator\n",
    "print(f'greater than operator, {a > b}') ## checks value is greater or not\n",
    "\n",
    "## less than operator\n",
    "print(f'less than operator, {a < b}') ## checks value is less or not\n",
    "\n",
    "\n",
    "\n"
   ]
  },
  {
   "cell_type": "markdown",
   "metadata": {},
   "source": [
    "**Question 13:** Write a Python program to demonstrate logical operators: and, or, not."
   ]
  },
  {
   "cell_type": "code",
   "execution_count": 14,
   "metadata": {},
   "outputs": [
    {
     "name": "stdout",
     "output_type": "stream",
     "text": [
      "True and False: False\n",
      "True or False: True\n",
      "not True: False\n"
     ]
    }
   ],
   "source": [
    "a = True\n",
    "b = False\n",
    "\n",
    "## AND operator\n",
    "\n",
    "print(\"True and False:\", a and b)\n",
    "\n",
    "## OR operator\n",
    "\n",
    "print(\"True or False:\", a or b)\n",
    "\n",
    "## NOT operator\n",
    "\n",
    "print(\"not True:\", not(a))"
   ]
  },
  {
   "cell_type": "markdown",
   "metadata": {},
   "source": [
    "**Question 14:** Write a Python program to calculate the square of a number."
   ]
  },
  {
   "cell_type": "code",
   "execution_count": null,
   "metadata": {},
   "outputs": [
    {
     "name": "stdout",
     "output_type": "stream",
     "text": [
      "square of 5 is 25\n"
     ]
    }
   ],
   "source": [
    "## program to calculate the square of number\n",
    "\n",
    "num = int(input(\"enter a number:\")) ## input number\n",
    "\n",
    "square = num**2 ## squares the number\n",
    "\n",
    "print(f'square of {num} is {square}')\n"
   ]
  },
  {
   "cell_type": "markdown",
   "metadata": {},
   "source": [
    "**Question 15:** Write a Python program to check if a number is even or odd."
   ]
  },
  {
   "cell_type": "code",
   "execution_count": null,
   "metadata": {},
   "outputs": [
    {
     "name": "stdout",
     "output_type": "stream",
     "text": [
      "5 is odd number\n"
     ]
    }
   ],
   "source": [
    "## program to check a number is even or odd\n",
    "\n",
    "num = int(input(\"enter a number:\")) ## input number\n",
    "\n",
    "if num % 2 ==0:   ## checks remainder is zero for even number\n",
    "    print(f'{num} is even number')\n",
    "else:\n",
    "    print(f'{num} is odd number')"
   ]
  },
  {
   "cell_type": "markdown",
   "metadata": {},
   "source": [
    "**Question 16:** Write a Python program to find the sum of the first n natural numbers."
   ]
  },
  {
   "cell_type": "code",
   "execution_count": 19,
   "metadata": {},
   "outputs": [
    {
     "name": "stdout",
     "output_type": "stream",
     "text": [
      "sum of first 5 numbers is 15\n"
     ]
    }
   ],
   "source": [
    "n = int(input(\"enter a number\"))  ## input number\n",
    "\n",
    "sum = (n*(n+1))//2  ## calculates the sum of first n natural numbers\n",
    "\n",
    "print(f'sum of first {n} numbers is {sum}')\n",
    "\n"
   ]
  },
  {
   "cell_type": "markdown",
   "metadata": {},
   "source": [
    "**Question 17:** Write a Python program to check if a year is a leap year."
   ]
  },
  {
   "cell_type": "code",
   "execution_count": 23,
   "metadata": {},
   "outputs": [
    {
     "name": "stdout",
     "output_type": "stream",
     "text": [
      "900 is not a leap year\n"
     ]
    }
   ],
   "source": [
    "year = int(input(\"enter a year\"))\n",
    "\n",
    "if (year%4==0 and year%100!=0) or (year%400==0):\n",
    "    print(f'{year} is a leap year')\n",
    "else:\n",
    "    print(f'{year} is not a leap year')"
   ]
  },
  {
   "cell_type": "markdown",
   "metadata": {},
   "source": [
    "**Question 18:** Write a Python program to reverse a string."
   ]
  },
  {
   "cell_type": "code",
   "execution_count": null,
   "metadata": {},
   "outputs": [
    {
     "name": "stdout",
     "output_type": "stream",
     "text": [
      "reverse of satara is aratas\n"
     ]
    }
   ],
   "source": [
    "str1 = input(\"enter a string\") ## provide a string\n",
    "\n",
    "print(f'reverse of {str1} is {str1[::-1]}') ## reverse the string\n"
   ]
  },
  {
   "cell_type": "markdown",
   "metadata": {},
   "source": [
    "**Question 19:** Write a Python program to check if a string is a palindrome."
   ]
  },
  {
   "cell_type": "code",
   "execution_count": 28,
   "metadata": {},
   "outputs": [
    {
     "name": "stdout",
     "output_type": "stream",
     "text": [
      "nayan is a palindrome\n"
     ]
    }
   ],
   "source": [
    "str1 = input(\"enter a string\") ## provide a string\n",
    "\n",
    "if str1==str1[::-1]:\n",
    "    print(f'{str1} is a palindrome')\n",
    "else:\n",
    "    print(f'{str1} is not a palindrome')"
   ]
  },
  {
   "cell_type": "markdown",
   "metadata": {},
   "source": [
    "**Question 20:** Write a Python program to sort a list of numbers in ascending order."
   ]
  },
  {
   "cell_type": "code",
   "execution_count": 34,
   "metadata": {},
   "outputs": [
    {
     "name": "stdout",
     "output_type": "stream",
     "text": [
      "list in ascending order [1, 2, 3, 4, 6, 8]\n"
     ]
    }
   ],
   "source": [
    "list1 = [1,3,8,2,6,4]\n",
    "\n",
    "list1.sort()\n",
    "\n",
    "print('list in ascending order', list1)\n",
    "\n"
   ]
  },
  {
   "cell_type": "code",
   "execution_count": null,
   "metadata": {},
   "outputs": [],
   "source": []
  }
 ],
 "metadata": {
  "kernelspec": {
   "display_name": "venv",
   "language": "python",
   "name": "python3"
  },
  "language_info": {
   "codemirror_mode": {
    "name": "ipython",
    "version": 3
   },
   "file_extension": ".py",
   "mimetype": "text/x-python",
   "name": "python",
   "nbconvert_exporter": "python",
   "pygments_lexer": "ipython3",
   "version": "3.12.0"
  }
 },
 "nbformat": 4,
 "nbformat_minor": 4
}
