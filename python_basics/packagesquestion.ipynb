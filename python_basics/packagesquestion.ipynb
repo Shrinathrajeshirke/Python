{
 "cells": [
  {
   "cell_type": "markdown",
   "metadata": {},
   "source": [
    "# Module 5: Modules and Packages Assignments\n",
    "## Lesson 5.1: Importing Modules\n",
    "### Assignment 1: Importing and Using Modules\n",
    "\n",
    "Import the `math` module and use it to calculate the square root of 25 and the sine of 90 degrees.\n",
    "\n",
    "### Assignment 2: Aliasing Modules\n",
    "\n",
    "Import the `datetime` module with an alias and use it to print the current date and time.\n",
    "\n",
    "### Assignment 3: Importing Specific Functions\n",
    "\n",
    "Import the `randint` function from the `random` module and use it to generate a random integer between 1 and 100.\n",
    "\n",
    "### Assignment 4: Importing Multiple Functions\n",
    "\n",
    "Import the `sqrt` and `pow` functions from the `math` module and use them to calculate the square root of 16 and 2 raised to the power of 3.\n",
    "\n",
    "### Assignment 5: Handling Import Errors\n",
    "\n",
    "Write code that attempts to import a non-existent module and gracefully handles the import error by printing an error message.\n",
    "\n",
    "## Lesson 5.2: Standard Library Overview\n",
    "### Assignment 6: Working with the `os` Module\n",
    "\n",
    "Use the `os` module to create a new directory, list the contents of the current directory, and remove the newly created directory.\n",
    "\n",
    "### Assignment 7: Working with the `sys` Module\n",
    "\n",
    "Use the `sys` module to print the Python version currently in use and the command-line arguments passed to the script.\n",
    "\n",
    "### Assignment 8: Working with the `math` Module\n",
    "\n",
    "Use the `math` module to calculate the greatest common divisor (GCD) of two numbers and the factorial of a number.\n",
    "\n",
    "### Assignment 9: Working with the `datetime` Module\n",
    "\n",
    "Use the `datetime` module to print the current date, calculate the date 100 days from today, and determine the day of the week for a given date.\n",
    "\n",
    "### Assignment 10: Working with the `random` Module\n",
    "\n",
    "Use the `random` module to generate a list of 5 random numbers between 1 and 50 and shuffle the elements of a list.\n",
    "\n",
    "## Lesson 5.3: Creating and Using Packages\n",
    "### Assignment 11: Creating a Simple Package\n",
    "\n",
    "Create a package named `mypackage` with two modules: `module1` and `module2`. `module1` should contain a function that adds two numbers, and `module2` should contain a function that multiplies two numbers. Write code to use these functions.\n",
    "\n",
    "### Assignment 12: Using `__init__.py`\n",
    "\n",
    "Modify the `mypackage` package to include an `__init__.py` file that imports the functions from `module1` and `module2`. Write code to use these functions.\n",
    "\n",
    "### Assignment 13: Importing from a Package\n",
    "\n",
    "Write code to import and use the functions from `mypackage` without explicitly importing `module1` and `module2`.\n",
    "\n",
    "### Assignment 14: Relative Imports\n",
    "\n",
    "Create a subpackage named `subpackage` within `mypackage` and move `module2` into `subpackage`. Modify the import statements in `__init__.py` to use relative imports. Write code to use the functions from both modules.\n",
    "\n",
    "### Assignment 15: Handling Package Import Errors\n",
    "\n",
    "Write code that attempts to import a non-existent function from `mypackage` and gracefully handles the import error by printing an error message."
   ]
  },
  {
   "cell_type": "code",
   "execution_count": 3,
   "metadata": {},
   "outputs": [
    {
     "name": "stdout",
     "output_type": "stream",
     "text": [
      "square root of number 25 is 5.0\n",
      "sine of 90 degrees is 1.0\n"
     ]
    }
   ],
   "source": [
    "## solution 1\n",
    "\n",
    "# importing math package\n",
    "import math\n",
    "\n",
    "# squareroot of a number using math.sqrt()\n",
    "\n",
    "print(f'square root of number 25 is {math.sqrt(25)}')\n",
    "\n",
    "# sine of 90 degrees using math.sin()\n",
    "\n",
    "print(f'sine of 90 degrees is {math.sin(math.radians(90))}')"
   ]
  },
  {
   "cell_type": "code",
   "execution_count": 4,
   "id": "3489975f",
   "metadata": {},
   "outputs": [
    {
     "name": "stdout",
     "output_type": "stream",
     "text": [
      "current date and time is 2025-09-29 21:51:56.127746\n"
     ]
    }
   ],
   "source": [
    "## solution 2\n",
    "\n",
    "# importing datetime module as dt\n",
    "import datetime as dt \n",
    "\n",
    "# current date and time\n",
    "\n",
    "print(f'current date and time is {dt.datetime.now()}')\n"
   ]
  },
  {
   "cell_type": "code",
   "execution_count": 5,
   "id": "fa8d471c",
   "metadata": {},
   "outputs": [
    {
     "name": "stdout",
     "output_type": "stream",
     "text": [
      "random interger between 1 and 100 is 10\n"
     ]
    }
   ],
   "source": [
    "## solution 3\n",
    "\n",
    "#importing random module\n",
    "import random\n",
    "\n",
    "#generate a random number between 1 and 100\n",
    "\n",
    "print(f'random interger between 1 and 100 is {random.randint(1,100)}')"
   ]
  },
  {
   "cell_type": "code",
   "execution_count": null,
   "id": "60bf7031",
   "metadata": {},
   "outputs": [
    {
     "name": "stdout",
     "output_type": "stream",
     "text": [
      "square root of 16 is 4.0\n",
      "2 raised to power of 3 is 8.0\n"
     ]
    }
   ],
   "source": [
    "## solution 4\n",
    "\n",
    "# import sqrt and pow functions from math module\n",
    "\n",
    "from math import sqrt, pow\n",
    "\n",
    "# squareroot of 16\n",
    "\n",
    "print(f'square root of 16 is {sqrt(16)}')\n",
    "\n",
    "# 2 raised to power of 3\n",
    "\n",
    "print(f'2 raised to power of 3 is {pow(2,3)}')"
   ]
  },
  {
   "cell_type": "code",
   "execution_count": 7,
   "id": "4fa51ee1",
   "metadata": {},
   "outputs": [
    {
     "name": "stdout",
     "output_type": "stream",
     "text": [
      "Error importing module No module named 'some_module'\n"
     ]
    }
   ],
   "source": [
    "## solution 5\n",
    "\n",
    "try:\n",
    "    import some_module \n",
    "except ImportError as e:\n",
    "    print(f\"Error importing module {e}\")"
   ]
  },
  {
   "cell_type": "code",
   "execution_count": 16,
   "id": "0ab454e0",
   "metadata": {},
   "outputs": [
    {
     "name": "stdout",
     "output_type": "stream",
     "text": [
      "directory created\n",
      "files in current directory path\n",
      "['advancefunctions.ipynb', 'bitwiseoperators.ipynb', 'conditional_loops_statements.ipynb', 'dictionaries_assignment.ipynb', 'list_Assignment.ipynb', 'packagesquestion.ipynb', 'packagessolution.ipynb', 'python_basics_questions.ipynb', 'sets_assignment.ipynb', 'test.txt', 'test_dir', 'tuple_assignment.ipynb']\n",
      "after removing directory \n",
      "['advancefunctions.ipynb', 'bitwiseoperators.ipynb', 'conditional_loops_statements.ipynb', 'dictionaries_assignment.ipynb', 'list_Assignment.ipynb', 'packagesquestion.ipynb', 'packagessolution.ipynb', 'python_basics_questions.ipynb', 'sets_assignment.ipynb', 'test.txt', 'tuple_assignment.ipynb']\n",
      "directory removed\n"
     ]
    }
   ],
   "source": [
    "## solution 6\n",
    "\n",
    "import os\n",
    "\n",
    "# creating new directory\n",
    "os.mkdir('test_dir')\n",
    "print('directory created')\n",
    "\n",
    "print('files in current directory path')\n",
    "print(os.listdir('.'))\n",
    "\n",
    "# delete the new directory\n",
    "os.removedirs('test_dir')\n",
    "print(f'after removing directory \\n{os.listdir('.')}')\n",
    "print('directory removed')"
   ]
  },
  {
   "cell_type": "code",
   "execution_count": 18,
   "id": "7e0997e8",
   "metadata": {},
   "outputs": [
    {
     "name": "stdout",
     "output_type": "stream",
     "text": [
      "Python version: 3.12.0 | packaged by Anaconda, Inc. | (main, Oct  2 2023, 17:20:38) [MSC v.1916 64 bit (AMD64)]\n",
      "command-line arguments: ['d:\\\\KNMaterial\\\\my_python\\\\venv\\\\Lib\\\\site-packages\\\\ipykernel_launcher.py', '--f=c:\\\\Users\\\\Shrinath\\\\AppData\\\\Roaming\\\\jupyter\\\\runtime\\\\kernel-v343adb8ff079504d51eb03614ccf3f6ffe5b2d5ab.json']\n"
     ]
    }
   ],
   "source": [
    "## solution 7\n",
    "\n",
    "# importing sys module\n",
    "import sys\n",
    "\n",
    "# version of python\n",
    "print(f\"Python version: {sys.version}\")\n",
    "\n",
    "# command-line arguments\n",
    "\n",
    "print(f\"command-line arguments: { sys.argv}\")"
   ]
  },
  {
   "cell_type": "code",
   "execution_count": 19,
   "id": "8a88ddfc",
   "metadata": {},
   "outputs": [
    {
     "name": "stdout",
     "output_type": "stream",
     "text": [
      "gcd of 18 and 27 is 9\n",
      "Factorial of a number is 120\n"
     ]
    }
   ],
   "source": [
    "## solution 8\n",
    "\n",
    "import math\n",
    "\n",
    "# gcd of two numbers\n",
    "print(f\"gcd of 18 and 27 is {math.gcd(18,27)}\")\n",
    "\n",
    "# factorial of number\n",
    "print(f\"Factorial of a number is {math.factorial(5)}\")"
   ]
  },
  {
   "cell_type": "code",
   "execution_count": 34,
   "id": "49722124",
   "metadata": {},
   "outputs": [
    {
     "name": "stdout",
     "output_type": "stream",
     "text": [
      "current date is 2025-09-29\n",
      "date after 100 from today is 2026-01-07\n",
      "Day of the week is Wednesday\n"
     ]
    }
   ],
   "source": [
    "## solution 9\n",
    "\n",
    "import datetime\n",
    "\n",
    "#current date\n",
    "curr_date = datetime.date.today()\n",
    "print(f'current date is {curr_date}')\n",
    "\n",
    "#date from 100 days today\n",
    "date_100_days = curr_date+ datetime.timedelta(100)\n",
    "print(f\"date after 100 from today is {date_100_days}\")\n",
    "\n",
    "print(f\"Day of the week is {date_100_days.strftime(\"%A\")}\")"
   ]
  },
  {
   "cell_type": "code",
   "execution_count": 36,
   "id": "83e4ae79",
   "metadata": {},
   "outputs": [
    {
     "name": "stdout",
     "output_type": "stream",
     "text": [
      "[15, 4, 29, 30, 17]\n",
      "shuffling the list [5, 3, 1, 4, 2]\n"
     ]
    }
   ],
   "source": [
    "## solution 10\n",
    "\n",
    "import random\n",
    "\n",
    "random_nums = []\n",
    "\n",
    "for i in range(5):\n",
    "    random_nums.append(random.randint(1,50))\n",
    "\n",
    "print(random_nums)\n",
    "\n",
    "# shuffle the list\n",
    "nums = [1,2,3,4,5]\n",
    "random.shuffle(nums)\n",
    "print(f\"shuffling the list {nums}\")"
   ]
  },
  {
   "cell_type": "code",
   "execution_count": 38,
   "id": "03c16804",
   "metadata": {},
   "outputs": [
    {
     "ename": "ModuleNotFoundError",
     "evalue": "No module named 'mypackage'",
     "output_type": "error",
     "traceback": [
      "\u001b[31m---------------------------------------------------------------------------\u001b[39m",
      "\u001b[31mModuleNotFoundError\u001b[39m                       Traceback (most recent call last)",
      "\u001b[36mCell\u001b[39m\u001b[36m \u001b[39m\u001b[32mIn[38]\u001b[39m\u001b[32m, line 19\u001b[39m\n\u001b[32m      1\u001b[39m \u001b[38;5;66;03m## solution11\u001b[39;00m\n\u001b[32m      2\u001b[39m \n\u001b[32m      3\u001b[39m \u001b[38;5;66;03m# file structure\u001b[39;00m\n\u001b[32m   (...)\u001b[39m\u001b[32m     16\u001b[39m \n\u001b[32m     17\u001b[39m \u001b[38;5;66;03m# testing the packages\u001b[39;00m\n\u001b[32m---> \u001b[39m\u001b[32m19\u001b[39m \u001b[38;5;28;01mfrom\u001b[39;00m\u001b[38;5;250m \u001b[39m\u001b[34;01mmypackage\u001b[39;00m\u001b[38;5;250m \u001b[39m\u001b[38;5;28;01mimport\u001b[39;00m module1, module2\n\u001b[32m     21\u001b[39m \u001b[38;5;28mprint\u001b[39m(\u001b[33mf\u001b[39m\u001b[33m\"\u001b[39m\u001b[33maddition of two numbers \u001b[39m\u001b[38;5;132;01m{\u001b[39;00mmodule1.addition(\u001b[32m1\u001b[39m,\u001b[32m3\u001b[39m)\u001b[38;5;132;01m}\u001b[39;00m\u001b[33m\"\u001b[39m)\n\u001b[32m     23\u001b[39m \u001b[38;5;28mprint\u001b[39m(\u001b[33mf\u001b[39m\u001b[33m\"\u001b[39m\u001b[33mmultiplication of two numbers \u001b[39m\u001b[38;5;132;01m{\u001b[39;00mmodule2.multiply(\u001b[32m2\u001b[39m,\u001b[32m3\u001b[39m)\u001b[38;5;132;01m}\u001b[39;00m\u001b[33m\"\u001b[39m)\n",
      "\u001b[31mModuleNotFoundError\u001b[39m: No module named 'mypackage'"
     ]
    }
   ],
   "source": [
    "## solution11\n",
    "\n",
    "# file structure\n",
    "# mypackage/\n",
    "#   __init__.py\n",
    "#   module1.py\n",
    "#   module2.py\n",
    "\n",
    "# content of module1.py\n",
    "# def addition(a,b):\n",
    "#   return a+b\n",
    "\n",
    "# content of module2.py\n",
    "# def multiply(a,b):\n",
    "#   return a*b\n",
    "\n",
    "# testing the packages\n",
    "\n",
    "from mypackage import module1, module2\n",
    "\n",
    "print(f\"addition of two numbers {module1.addition(1,3)}\")\n",
    "\n",
    "print(f\"multiplication of two numbers {module2.multiply(2,3)}\")\n"
   ]
  },
  {
   "cell_type": "code",
   "execution_count": null,
   "id": "8fcdcfa3",
   "metadata": {},
   "outputs": [],
   "source": []
  }
 ],
 "metadata": {
  "kernelspec": {
   "display_name": "venv",
   "language": "python",
   "name": "python3"
  },
  "language_info": {
   "codemirror_mode": {
    "name": "ipython",
    "version": 3
   },
   "file_extension": ".py",
   "mimetype": "text/x-python",
   "name": "python",
   "nbconvert_exporter": "python",
   "pygments_lexer": "ipython3",
   "version": "3.12.0"
  }
 },
 "nbformat": 4,
 "nbformat_minor": 5
}
