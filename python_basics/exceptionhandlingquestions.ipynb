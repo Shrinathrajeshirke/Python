{
 "cells": [
  {
   "cell_type": "markdown",
   "metadata": {},
   "source": [
    "# Module: Exception Handling Assignments\n",
    "## Lesson: Exception Handling with try, except, and finally\n",
    "### Assignment 1: Handling Division by Zero\n",
    "\n",
    "Write a function that takes two integers as input and returns their division. Use try, except, and finally blocks to handle division by zero and print an appropriate message.\n",
    "\n",
    "### Assignment 2: File Reading with Exception Handling\n",
    "\n",
    "Write a function that reads the contents of a file named `data.txt`. Use try, except, and finally blocks to handle file not found errors and ensure the file is properly closed.\n",
    "\n",
    "### Assignment 3: Handling Multiple Exceptions\n",
    "\n",
    "Write a function that takes a list of integers and returns their sum. Use try, except, and finally blocks to handle TypeError if a non-integer value is encountered and print an appropriate message.\n",
    "\n",
    "### Assignment 4: Exception Handling in User Input\n",
    "\n",
    "Write a function that prompts the user to enter an integer. Use try, except, and finally blocks to handle ValueError if the user enters a non-integer value and print an appropriate message.\n",
    "\n",
    "### Assignment 5: Exception Handling in Dictionary Access\n",
    "\n",
    "Write a function that takes a dictionary and a key as input and returns the value associated with the key. Use try, except, and finally blocks to handle KeyError if the key is not found in the dictionary and print an appropriate message.\n",
    "\n",
    "### Assignment 6: Nested Exception Handling\n",
    "\n",
    "Write a function that performs nested exception handling. It should first attempt to convert a string to an integer, and then attempt to divide by that integer. Use nested try, except, and finally blocks to handle ValueError and ZeroDivisionError and print appropriate messages.\n",
    "\n",
    "### Assignment 7: Exception Handling in List Operations\n",
    "\n",
    "Write a function that takes a list and an index as input and returns the element at the given index. Use try, except, and finally blocks to handle IndexError if the index is out of range and print an appropriate message.\n",
    "\n",
    "### Assignment 8: Exception Handling in Network Operations\n",
    "\n",
    "Write a function that attempts to open a URL and read its contents. Use try, except, and finally blocks to handle network-related errors and print an appropriate message.\n",
    "\n",
    "### Assignment 9: Exception Handling in JSON Parsing\n",
    "\n",
    "Write a function that attempts to parse a JSON string. Use try, except, and finally blocks to handle JSONDecodeError if the string is not a valid JSON and print an appropriate message.\n",
    "\n",
    "### Assignment 10: Custom Exception Handling\n",
    "\n",
    "Define a custom exception named `NegativeNumberError`. Write a function that raises this exception if a negative number is encountered in a list. Use try, except, and finally blocks to handle the custom exception and print an appropriate message.\n",
    "\n",
    "### Assignment 11: Exception Handling in Function Calls\n",
    "\n",
    "Write a function that calls another function which may raise an exception. Use try, except, and finally blocks to handle the exception and print an appropriate message.\n",
    "\n",
    "### Assignment 12: Exception Handling in Class Methods\n",
    "\n",
    "Define a class with a method that performs a division operation. Use try, except, and finally blocks within the method to handle division by zero and print an appropriate message.\n",
    "\n",
    "### Assignment 13: Exception Handling in Data Conversion\n",
    "\n",
    "Write a function that takes a list of strings and converts them to integers. Use try, except, and finally blocks to handle ValueError if a string cannot be converted and print an appropriate message.\n",
    "\n",
    "### Assignment 14: Exception Handling in List Comprehensions\n",
    "\n",
    "Write a function that uses a list comprehension to convert a list of strings to integers. Use try, except, and finally blocks within the list comprehension to handle ValueError and print an appropriate message.\n",
    "\n",
    "### Assignment 15: Exception Handling in File Writing\n",
    "\n",
    "Write a function that attempts to write a list of strings to a file. Use try, except, and finally blocks to handle IOError and ensure the file is properly closed."
   ]
  },
  {
   "cell_type": "code",
   "execution_count": 9,
   "metadata": {},
   "outputs": [
    {
     "name": "stdout",
     "output_type": "stream",
     "text": [
      "Error: division by zero\n",
      "program completed\n"
     ]
    }
   ],
   "source": [
    "### solution 1\n",
    "\n",
    "def division(a,b):\n",
    "    try:\n",
    "        result  = a/b\n",
    "    except ZeroDivisionError as e:\n",
    "        print(f\"Error: {e}\")\n",
    "        result=None\n",
    "    finally:\n",
    "        print(\"program completed\")\n",
    "    return result\n",
    "\n",
    "#division(5,10)\n",
    "division(1,0)"
   ]
  },
  {
   "cell_type": "code",
   "execution_count": 12,
   "id": "c8c38bc5",
   "metadata": {},
   "outputs": [
    {
     "name": "stdout",
     "output_type": "stream",
     "text": [
      "Error: [Errno 2] No such file or directory: 'data1.txt'\n"
     ]
    }
   ],
   "source": [
    "### solution 2\n",
    "\n",
    "def file_handling(filename):\n",
    "    try:\n",
    "        file=open(filename, 'r')\n",
    "        content = file.read()\n",
    "        print(content)\n",
    "    except FileNotFoundError as e:\n",
    "        print(f\"Error: {e}\")\n",
    "    finally:\n",
    "        try:\n",
    "            file.close()\n",
    "        except NameError:\n",
    "            pass\n",
    "\n",
    "file_handling('data1.txt')\n",
    "           "
   ]
  },
  {
   "cell_type": "code",
   "execution_count": null,
   "id": "11edeff4",
   "metadata": {},
   "outputs": [
    {
     "name": "stdout",
     "output_type": "stream",
     "text": [
      "Execution completed\n"
     ]
    },
    {
     "data": {
      "text/plain": [
       "'sum of integers is 6'"
      ]
     },
     "execution_count": 17,
     "metadata": {},
     "output_type": "execute_result"
    }
   ],
   "source": [
    "### solution 3\n",
    "\n",
    "def sum_of_nums(lst):\n",
    "    try:\n",
    "        sum = 0\n",
    "        for num in lst:\n",
    "            sum+=num\n",
    "    except TypeError as e:\n",
    "        print(f'Error: {e}')\n",
    "        sum = None\n",
    "    finally:\n",
    "        print(\"Execution completed\")\n",
    "    return f\"sum of integers is {sum}\"\n",
    "\n",
    "sum_of_nums([1,2,3])"
   ]
  },
  {
   "cell_type": "code",
   "execution_count": 21,
   "id": "eaa1aad7",
   "metadata": {},
   "outputs": [
    {
     "name": "stdout",
     "output_type": "stream",
     "text": [
      "Error: invalid literal for int() with base 10: 'nu'\n",
      "execution completed\n"
     ]
    }
   ],
   "source": [
    "### solution 4\n",
    "\n",
    "def int_chk():\n",
    "    try:\n",
    "        num = int(input(\"enter a number\"))\n",
    "    except ValueError as e:\n",
    "        print(f\"Error: {e}\")\n",
    "        num = None\n",
    "    finally:\n",
    "        print(\"execution completed\")\n",
    "    return num\n",
    "\n",
    "int_chk()"
   ]
  },
  {
   "cell_type": "code",
   "execution_count": 29,
   "id": "5de2e88c",
   "metadata": {},
   "outputs": [
    {
     "name": "stdout",
     "output_type": "stream",
     "text": [
      "Error: 'five'\n",
      "execution completed\n"
     ]
    }
   ],
   "source": [
    "### solution 5\n",
    "\n",
    "def key_val(dict,key):\n",
    "    try: \n",
    "        value = dict[key]\n",
    "    except KeyError as e:\n",
    "        print(f\"Error: {e}\")\n",
    "        value=None\n",
    "    finally:\n",
    "        print(\"execution completed\")\n",
    "    return value\n",
    "\n",
    "key_val({'one':1,'two':2,'three':3},'five')"
   ]
  },
  {
   "cell_type": "code",
   "execution_count": 3,
   "id": "2e5968e7",
   "metadata": {},
   "outputs": [
    {
     "name": "stdout",
     "output_type": "stream",
     "text": [
      "Error: invalid literal for int() with base 10: 's'\n",
      "conversion completed\n",
      "execution completed\n"
     ]
    }
   ],
   "source": [
    "### solution 6\n",
    "\n",
    "def nested_exception(s):\n",
    "    try:\n",
    "        try:\n",
    "            num = int(s)\n",
    "        except ValueError as e:\n",
    "            print(f\"Error: {e}\")\n",
    "            num = None\n",
    "        finally:\n",
    "            print('conversion completed')\n",
    "        if num is not None:\n",
    "            try:\n",
    "                result = 10/num\n",
    "            except ZeroDivisionError as e:\n",
    "                print(f\"Error: {e}\")\n",
    "                result = None\n",
    "            finally:\n",
    "                print(\"operation completed\")\n",
    "            return result\n",
    "    finally:\n",
    "        print(\"execution completed\")\n",
    "\n",
    "\n",
    "nested_exception('s')"
   ]
  },
  {
   "cell_type": "code",
   "execution_count": 6,
   "id": "a04f60e7",
   "metadata": {},
   "outputs": [
    {
     "name": "stdout",
     "output_type": "stream",
     "text": [
      "Error: list index out of range\n",
      "Execution completed\n"
     ]
    }
   ],
   "source": [
    "### solution 7\n",
    "\n",
    "def list_index(lst, index):\n",
    "    try:\n",
    "        ele = lst[index]\n",
    "    except IndexError as e:\n",
    "        print(f\"Error: {e}\")\n",
    "        ele = None\n",
    "    finally:\n",
    "        print(\"Execution completed\")\n",
    "    return ele\n",
    "\n",
    "#list_index([1,2,3],0)\n",
    "list_index([1,2,33],4)"
   ]
  },
  {
   "cell_type": "code",
   "execution_count": 13,
   "id": "f23ba065",
   "metadata": {},
   "outputs": [
    {
     "name": "stdout",
     "output_type": "stream",
     "text": [
      "Execution completed\n",
      "{\n",
      "  \"userId\": 1,\n",
      "  \"id\": 1,\n",
      "  \"title\": \"sunt aut facere repellat provident occaecati excepturi optio reprehenderit\",\n",
      "  \"body\": \"quia et suscipit\\nsuscipit recusandae consequuntur expedita et cum\\nreprehenderit molestiae ut ut quas totam\\nnostrum rerum est autem sunt rem eveniet architecto\"\n",
      "}\n",
      "Error: Invalid URL 'invalidurl.com': No scheme supplied. Perhaps you meant https://invalidurl.com?\n",
      "Execution completed\n",
      "None\n"
     ]
    }
   ],
   "source": [
    "### solution 8\n",
    "\n",
    "import requests\n",
    "\n",
    "def read_url_content(url):\n",
    "    try:\n",
    "        response  = requests.get(url)\n",
    "        response.raise_for_status()\n",
    "        return response.text\n",
    "    except requests.RequestException as e:\n",
    "        print(f\"Error: {e}\")\n",
    "        return None\n",
    "    finally:\n",
    "        print(\"Execution completed\")\n",
    "\n",
    "#print(read_url_content('https://en.wikipedia.org/wiki/Portal:Current_events'))\n",
    "print(read_url_content('https://jsonplaceholder.typicode.com/posts/1'))\n",
    "print(read_url_content('invalidurl.com'))"
   ]
  },
  {
   "cell_type": "code",
   "execution_count": 15,
   "id": "e84f3092",
   "metadata": {},
   "outputs": [
    {
     "name": "stdout",
     "output_type": "stream",
     "text": [
      "execution completed\n",
      "{'name': 'John', 'age': 30}\n",
      "Error: Expecting value: line 1 column 1 (char 0)\n",
      "execution completed\n",
      "None\n"
     ]
    }
   ],
   "source": [
    "### solution 9\n",
    "\n",
    "import json\n",
    "\n",
    "def read_json(json_data):\n",
    "    try:\n",
    "        data = json.loads(json_data)\n",
    "        return data\n",
    "    except json.JSONDecodeError as e:\n",
    "        print(f\"Error: {e}\")\n",
    "        return None\n",
    "    finally:\n",
    "        print('execution completed')\n",
    "\n",
    "\n",
    "print(read_json('{\"name\": \"John\", \"age\": 30}'))  \n",
    "print(read_json('Invalid JSON')) "
   ]
  },
  {
   "cell_type": "code",
   "execution_count": null,
   "id": "88d60791",
   "metadata": {},
   "outputs": [
    {
     "name": "stdout",
     "output_type": "stream",
     "text": [
      "Error: Negative number is list is: -5\n",
      "execution completed\n"
     ]
    }
   ],
   "source": [
    "### solution 10\n",
    "\n",
    "class NegativeNumError(Exception):\n",
    "    pass\n",
    "\n",
    "def chk_negatives(ls):\n",
    "    try:\n",
    "        for num in ls:\n",
    "            if num<0:\n",
    "                raise NegativeNumError(f\"Negative number is list is: {num}\")\n",
    "    except NegativeNumError as e:\n",
    "        print(f\"Error: {e}\")\n",
    "    finally:\n",
    "        print(\"execution completed\")\n",
    "\n",
    "chk_negatives([1,2,-5])\n",
    "        "
   ]
  },
  {
   "cell_type": "code",
   "execution_count": null,
   "id": "241a208a",
   "metadata": {},
   "outputs": [
    {
     "name": "stdout",
     "output_type": "stream",
     "text": [
      "Error: Error occurs in function1\n",
      "execution completed\n"
     ]
    }
   ],
   "source": [
    "### solution 11\n",
    "\n",
    "def function1():\n",
    "    raise ValueError(\"Error occurs in function1\")\n",
    "\n",
    "def function2():\n",
    "    try:\n",
    "        function1()\n",
    "    except ValueError as e:\n",
    "        print(f\"Error: {e}\")\n",
    "    finally:\n",
    "        print(\"execution completed\")\n",
    "\n",
    "function2()"
   ]
  },
  {
   "cell_type": "code",
   "execution_count": null,
   "id": "5ebda0c4",
   "metadata": {},
   "outputs": [],
   "source": []
  }
 ],
 "metadata": {
  "kernelspec": {
   "display_name": "venv",
   "language": "python",
   "name": "python3"
  },
  "language_info": {
   "codemirror_mode": {
    "name": "ipython",
    "version": 3
   },
   "file_extension": ".py",
   "mimetype": "text/x-python",
   "name": "python",
   "nbconvert_exporter": "python",
   "pygments_lexer": "ipython3",
   "version": "3.12.0"
  }
 },
 "nbformat": 4,
 "nbformat_minor": 5
}
