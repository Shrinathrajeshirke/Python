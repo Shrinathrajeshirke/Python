{
 "cells": [
  {
   "cell_type": "markdown",
   "id": "2da377c5",
   "metadata": {},
   "source": [
    "### Bitwise AND (&): \n",
    "\n",
    "Performs a logical AND operation on each corresponding bit of two integers. The resulting bit is 1 only if both bits are 1; otherwise, it's 0."
   ]
  },
  {
   "cell_type": "code",
   "execution_count": null,
   "id": "97196a47",
   "metadata": {},
   "outputs": [
    {
     "name": "stdout",
     "output_type": "stream",
     "text": [
      "4\n"
     ]
    }
   ],
   "source": [
    "a = 7 ### binary 7 = 111\n",
    "b = 4 ### binary 4 = 100\n",
    "\n",
    "print(a&b)"
   ]
  },
  {
   "cell_type": "markdown",
   "id": "5a0be913",
   "metadata": {},
   "source": [
    "### Bitwise OR (|): \n",
    "Performs a logical OR operation on each corresponding bit of two integers. The resulting bit is 1 if at least one of the bits is 1; otherwise, it's 0. "
   ]
  },
  {
   "cell_type": "code",
   "execution_count": 4,
   "id": "1c6cad59",
   "metadata": {},
   "outputs": [
    {
     "name": "stdout",
     "output_type": "stream",
     "text": [
      "7\n"
     ]
    }
   ],
   "source": [
    "a = 7 ### binary 7 = 111\n",
    "b = 4 ### binary 4 = 100\n",
    "\n",
    "print(a|b)"
   ]
  },
  {
   "cell_type": "markdown",
   "id": "ee7e9adf",
   "metadata": {},
   "source": [
    "### Bitwise XOR (^): \n",
    "Performs a logical XOR (exclusive OR) operation on each corresponding bit of two integers. The resulting bit is 1 if the bits are different (one is 0 and the other is 1); otherwise, it's 0."
   ]
  },
  {
   "cell_type": "code",
   "execution_count": 5,
   "id": "3e3b4d78",
   "metadata": {},
   "outputs": [
    {
     "name": "stdout",
     "output_type": "stream",
     "text": [
      "3\n"
     ]
    }
   ],
   "source": [
    "a = 7 ### binary 7 = 111\n",
    "b = 4 ### binary 4 = 100\n",
    "\n",
    "print(a^b)"
   ]
  },
  {
   "cell_type": "markdown",
   "id": "67907e14",
   "metadata": {},
   "source": [
    "### Bitwise NOT (~): \n",
    "Inverts all the bits of an integer. This is a unary operator. For positive numbers, the result is typically -(x + 1)."
   ]
  },
  {
   "cell_type": "code",
   "execution_count": 6,
   "id": "d40706dc",
   "metadata": {},
   "outputs": [
    {
     "name": "stdout",
     "output_type": "stream",
     "text": [
      "-8\n"
     ]
    }
   ],
   "source": [
    "a = 7\n",
    "\n",
    "print(~a)"
   ]
  },
  {
   "cell_type": "markdown",
   "id": "d7e2f245",
   "metadata": {},
   "source": [
    "### Left Shift (<<): \n",
    "Shifts the bits of an integer to the left by a specified number of positions. This effectively multiplies the number by 2 for each position shifted. "
   ]
  },
  {
   "cell_type": "code",
   "execution_count": 7,
   "id": "83c82efe",
   "metadata": {},
   "outputs": [
    {
     "name": "stdout",
     "output_type": "stream",
     "text": [
      "56\n"
     ]
    }
   ],
   "source": [
    "a = 7 ## binary 7 = 0000 0111\n",
    "\n",
    "print(a<<3)"
   ]
  },
  {
   "cell_type": "markdown",
   "id": "7eeb7a51",
   "metadata": {},
   "source": [
    "### Right Shift (>>): \n",
    "\n",
    "Shifts the bits of an integer to the right by a specified number of positions. This effectively divides the number by 2 for each position shifted (integer division). "
   ]
  },
  {
   "cell_type": "code",
   "execution_count": 8,
   "id": "0b3f0da7",
   "metadata": {},
   "outputs": [
    {
     "name": "stdout",
     "output_type": "stream",
     "text": [
      "1\n"
     ]
    }
   ],
   "source": [
    "a = 7 ## binaary 7 = 0000 0111\n",
    "\n",
    "print(a>>2)"
   ]
  }
 ],
 "metadata": {
  "kernelspec": {
   "display_name": "venv",
   "language": "python",
   "name": "python3"
  },
  "language_info": {
   "codemirror_mode": {
    "name": "ipython",
    "version": 3
   },
   "file_extension": ".py",
   "mimetype": "text/x-python",
   "name": "python",
   "nbconvert_exporter": "python",
   "pygments_lexer": "ipython3",
   "version": "3.12.0"
  }
 },
 "nbformat": 4,
 "nbformat_minor": 5
}
