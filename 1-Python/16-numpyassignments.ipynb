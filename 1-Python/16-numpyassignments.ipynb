{
 "cells": [
  {
   "cell_type": "markdown",
   "metadata": {},
   "source": [
    "# Module: NumPy Assignments\n",
    "## Lesson: NumPy\n",
    "### Assignment 1: Array Creation and Manipulation\n",
    "\n",
    "1. Create a NumPy array of shape (5, 5) filled with random integers between 1 and 20. Replace all the elements in the third column with 1.\n",
    "2. Create a NumPy array of shape (4, 4) with values from 1 to 16. Replace the diagonal elements with 0.\n",
    "\n",
    "### Assignment 2: Array Indexing and Slicing\n",
    "\n",
    "1. Create a NumPy array of shape (6, 6) with values from 1 to 36. Extract the sub-array consisting of the 3rd to 5th rows and 2nd to 4th columns.\n",
    "2. Create a NumPy array of shape (5, 5) with random integers. Extract the elements on the border.\n",
    "\n",
    "### Assignment 3: Array Operations\n",
    "\n",
    "1. Create two NumPy arrays of shape (3, 4) filled with random integers. Perform element-wise addition, subtraction, multiplication, and division.\n",
    "2. Create a NumPy array of shape (4, 4) with values from 1 to 16. Compute the row-wise and column-wise sum.\n",
    "\n",
    "### Assignment 4: Statistical Operations\n",
    "\n",
    "1. Create a NumPy array of shape (5, 5) filled with random integers. Compute the mean, median, standard deviation, and variance of the array.\n",
    "2. Create a NumPy array of shape (3, 3) with values from 1 to 9. Normalize the array (i.e., scale the values to have a mean of 0 and a standard deviation of 1).\n",
    "\n",
    "### Assignment 5: Broadcasting\n",
    "\n",
    "1. Create a NumPy array of shape (3, 3) filled with random integers. Add a 1D array of shape (3,) to each row of the 2D array using broadcasting.\n",
    "2. Create a NumPy array of shape (4, 4) filled with random integers. Subtract a 1D array of shape (4,) from each column of the 2D array using broadcasting.\n",
    "\n",
    "### Assignment 6: Linear Algebra\n",
    "\n",
    "1. Create a NumPy array of shape (3, 3) representing a matrix. Compute its determinant, inverse, and eigenvalues.\n",
    "2. Create two NumPy arrays of shape (2, 3) and (3, 2). Perform matrix multiplication on these arrays.\n",
    "\n",
    "### Assignment 7: Advanced Array Manipulation\n",
    "\n",
    "1. Create a NumPy array of shape (3, 3) with values from 1 to 9. Reshape the array to shape (1, 9) and then to shape (9, 1).\n",
    "2. Create a NumPy array of shape (5, 5) filled with random integers. Flatten the array and then reshape it back to (5, 5).\n",
    "\n",
    "### Assignment 8: Fancy Indexing and Boolean Indexing\n",
    "\n",
    "1. Create a NumPy array of shape (5, 5) filled with random integers. Use fancy indexing to extract the elements at the corners of the array.\n",
    "2. Create a NumPy array of shape (4, 4) filled with random integers. Use boolean indexing to set all elements greater than 10 to 10.\n",
    "\n",
    "### Assignment 9: Structured Arrays\n",
    "\n",
    "1. Create a structured array with fields 'name' (string), 'age' (integer), and 'weight' (float). Add some data and sort the array by age.\n",
    "2. Create a structured array with fields 'x' and 'y' (both integers). Add some data and compute the Euclidean distance between each pair of points.\n",
    "\n",
    "### Assignment 10: Masked Arrays\n",
    "\n",
    "1. Create a masked array of shape (4, 4) with random integers and mask the elements greater than 10. Compute the sum of the unmasked elements.\n",
    "2. Create a masked array of shape (3, 3) with random integers and mask the diagonal elements. Replace the masked elements with the mean of the unmasked elements."
   ]
  },
  {
   "cell_type": "code",
   "execution_count": null,
   "metadata": {},
   "outputs": [
    {
     "name": "stdout",
     "output_type": "stream",
     "text": [
      "Array: \n",
      " [[18  5  7  5 18]\n",
      " [10  8 16 13  6]\n",
      " [11 11 13 13  3]\n",
      " [ 8  4 20  1 18]\n",
      " [10  5  3 19  1]]\n",
      "Modified array: \n",
      " [[18  5  1  5 18]\n",
      " [10  8  1 13  6]\n",
      " [11 11  1 13  3]\n",
      " [ 8  4  1  1 18]\n",
      " [10  5  1 19  1]]\n"
     ]
    }
   ],
   "source": [
    "### solution 1.1\n",
    "\n",
    "import numpy as np ## importing numpy library\n",
    "\n",
    "## defining array using random numbers\n",
    "arr = np.random.randint(1,21,size=(5,5)) \n",
    "\n",
    "print(\"Array: \\n\", arr)\n",
    "\n",
    "## replace 3rd column with 1\n",
    "arr[:,2] = 1\n",
    "print(\"Modified array: \\n\",arr)"
   ]
  },
  {
   "cell_type": "code",
   "execution_count": null,
   "id": "355c8204",
   "metadata": {},
   "outputs": [
    {
     "name": "stdout",
     "output_type": "stream",
     "text": [
      "Array: \n",
      " [[ 1  2  3  4]\n",
      " [ 5  6  7  8]\n",
      " [ 9 10 11 12]\n",
      " [13 14 15 16]]\n",
      "Modified array: \n",
      " [[ 0  2  3  4]\n",
      " [ 5  0  7  8]\n",
      " [ 9 10  0 12]\n",
      " [13 14 15  0]]\n"
     ]
    }
   ],
   "source": [
    "### solution 1.2\n",
    "\n",
    "## array of (4,4) shape\n",
    "arr = np.arange(1,17).reshape(4,4)\n",
    "\n",
    "print(\"Array: \\n\", arr)\n",
    "\n",
    "## replacing diagonal element with 0\n",
    "np.fill_diagonal(arr,0)\n",
    "print(\"Modified array: \\n\", arr)"
   ]
  },
  {
   "cell_type": "code",
   "execution_count": null,
   "id": "f076651a",
   "metadata": {},
   "outputs": [
    {
     "name": "stdout",
     "output_type": "stream",
     "text": [
      "Array: \n",
      " [[ 1  2  3  4  5  6]\n",
      " [ 7  8  9 10 11 12]\n",
      " [13 14 15 16 17 18]\n",
      " [19 20 21 22 23 24]\n",
      " [25 26 27 28 29 30]\n",
      " [31 32 33 34 35 36]]\n",
      "sub-array: \n",
      " [[14 15 16]\n",
      " [20 21 22]\n",
      " [26 27 28]]\n"
     ]
    }
   ],
   "source": [
    "### solution 2.1\n",
    "\n",
    "#array of shape(6,6)\n",
    "\n",
    "arr = np.arange(1,37).reshape(6,6)\n",
    "\n",
    "print(\"Array: \\n\", arr)\n",
    "\n",
    "print(\"sub-array: \\n\", arr[2:5,1:4])"
   ]
  },
  {
   "cell_type": "code",
   "execution_count": null,
   "id": "bf2bd253",
   "metadata": {},
   "outputs": [
    {
     "name": "stdout",
     "output_type": "stream",
     "text": [
      "Array: \n",
      " [[34 11 23 39  4]\n",
      " [ 4 47 49 23 23]\n",
      " [20 28 42 12 42]\n",
      " [ 8  4 19 45 49]\n",
      " [43 28 49 23 49]]\n",
      "Border elements: \n",
      " [34 11 23 39  4 43 28 49 23 49 34  4 20  8 43  4 23 42 49 49]\n"
     ]
    }
   ],
   "source": [
    "### solution 2.2\n",
    "\n",
    "#array of shape(5,5)\n",
    "arr = np.random.randint(1,51,size=(5,5))\n",
    "print(\"Array: \\n\", arr)\n",
    "\n",
    "\n",
    "# border elements\n",
    "elements = np.concatenate((arr[0,:], arr[-1,:], arr[:,0], arr[:,-1]))\n",
    "print(\"Border elements: \\n\", elements)"
   ]
  },
  {
   "cell_type": "code",
   "execution_count": 23,
   "id": "b6f597bc",
   "metadata": {},
   "outputs": [
    {
     "name": "stdout",
     "output_type": "stream",
     "text": [
      "Element-wise addition of arrays: \n",
      " [[30 20 17 16]\n",
      " [36 25 30 36]\n",
      " [25 13 14 10]]\n",
      "Element-wise addition of arrays: \n",
      " [[  0 -18  -3 -12]\n",
      " [ -6   5 -10 -14]\n",
      " [ -7  -3   6   2]]\n",
      "Element-wise addition of arrays: \n",
      " [[225  19  70  28]\n",
      " [315 150 200 275]\n",
      " [144  40  40  24]]\n",
      "Element-wise addition of arrays: \n",
      " [[1.         0.05263158 0.7        0.14285714]\n",
      " [0.71428571 1.5        0.5        0.44      ]\n",
      " [0.5625     0.625      2.5        1.5       ]]\n"
     ]
    }
   ],
   "source": [
    "### solution 3.1\n",
    "\n",
    "#array 1 of shape(3,4)\n",
    "arr1 = np.random.randint(1,16,size=(3,4))\n",
    "\n",
    "#array 2 of shape(3,4)\n",
    "arr2 = np.random.randint(1,26,size=(3,4))\n",
    "\n",
    "#addition of arrays\n",
    "print(\"Element-wise addition of arrays: \\n\", arr1+arr2 )\n",
    "\n",
    "#substraction of arrays\n",
    "print(\"Element-wise addition of arrays: \\n\", arr1-arr2 )\n",
    "\n",
    "#multiplication of arrays\n",
    "print(\"Element-wise addition of arrays: \\n\", arr1*arr2 )\n",
    "\n",
    "#division of arrays\n",
    "print(\"Element-wise addition of arrays: \\n\", arr1/arr2 )"
   ]
  },
  {
   "cell_type": "code",
   "execution_count": 31,
   "id": "7676908c",
   "metadata": {},
   "outputs": [
    {
     "name": "stdout",
     "output_type": "stream",
     "text": [
      "Array: \n",
      " [[ 1  2  3  4]\n",
      " [ 5  6  7  8]\n",
      " [ 9 10 11 12]\n",
      " [13 14 15 16]]\n",
      "Row-wise sum: \n",
      " [28 32 36 40]\n",
      "Column wise sum: \n",
      " [10 26 42 58]\n"
     ]
    }
   ],
   "source": [
    "### solution 3.2\n",
    "\n",
    "#array of shape(4,4)\n",
    "arr = np.arange(1,17).reshape(4,4)\n",
    "print(\"Array: \\n\", arr)\n",
    "\n",
    "#row-wise sum\n",
    "print(\"Row-wise sum: \\n\", np.sum(arr,axis=0))\n",
    "\n",
    "# column-wise sum\n",
    "print(\"Column wise sum: \\n\", np.sum(arr, axis=1))"
   ]
  },
  {
   "cell_type": "code",
   "execution_count": 32,
   "id": "43985fd2",
   "metadata": {},
   "outputs": [
    {
     "name": "stdout",
     "output_type": "stream",
     "text": [
      "Array: \n",
      " [[25 18  5 23 31]\n",
      " [49 14 33 41 19]\n",
      " [24 14 42 21 13]\n",
      " [41 45 47 11 42]\n",
      " [ 9 43 49 20 13]]\n",
      "mean of array: 27.68\n",
      "median of array: 24.0\n",
      "standard deviation of array: 13.976322835424202\n",
      "variance of array: 195.3376\n"
     ]
    }
   ],
   "source": [
    "### solution 4.1\n",
    "\n",
    "#array with shape(5,5)\n",
    "arr = np.random.randint(1,51,size=(5,5))\n",
    "print(\"Array: \\n\", arr)\n",
    "\n",
    "#mean of array\n",
    "print(f\"mean of array: {np.mean(arr)}\")\n",
    "\n",
    "#mean of array\n",
    "print(f\"median of array: {np.median(arr)}\")\n",
    "\n",
    "#mean of array\n",
    "print(f\"standard deviation of array: {np.std(arr)}\")\n",
    "\n",
    "#mean of array\n",
    "print(f\"variance of array: {np.var(arr)}\")"
   ]
  },
  {
   "cell_type": "code",
   "execution_count": 35,
   "id": "50f92b21",
   "metadata": {},
   "outputs": [
    {
     "name": "stdout",
     "output_type": "stream",
     "text": [
      "array \n",
      " [[6 1 2]\n",
      " [5 9 4]\n",
      " [3 6 8]]\n",
      "Normalized array: \n",
      " [[ 0.44194174 -1.54679608 -1.14904852]\n",
      " [ 0.04419417  1.63518443 -0.35355339]\n",
      " [-0.75130096  0.44194174  1.23743687]]\n"
     ]
    }
   ],
   "source": [
    "### solution 4.2\n",
    "\n",
    "#array of size(3,3)\n",
    "arr = np.random.randint(1,10,size=(3,3))\n",
    "print(\"array \\n\", arr)\n",
    "\n",
    "#normalized array\n",
    "normalized_array = (arr - np.mean(arr))/np.std(arr)\n",
    "print(\"Normalized array: \\n\", normalized_array)"
   ]
  },
  {
   "cell_type": "code",
   "execution_count": null,
   "id": "e04a5f71",
   "metadata": {},
   "outputs": [
    {
     "name": "stdout",
     "output_type": "stream",
     "text": [
      "array: \n",
      " [[5 2 1]\n",
      " [9 6 2]\n",
      " [1 7 4]]\n",
      "1D array: \n",
      " [7 7 5]\n",
      "Brodcasting: \n",
      " [[12  9  6]\n",
      " [16 13  7]\n",
      " [ 8 14  9]]\n"
     ]
    }
   ],
   "source": [
    "### Solution 5.1\n",
    "\n",
    "#array with shape(3,3)\n",
    "arr = np.random.randint(1,11,size=(3,3))\n",
    "print(\"array: \\n\", arr)\n",
    "\n",
    "#1D array\n",
    "arr1 = np.random.randint(1,11,size=(3,))\n",
    "print(\"1D array: \\n\", arr1)\n",
    "\n",
    "#add 1D array to each row of 2D array\n",
    "result = arr + arr1\n",
    "print(\"Brodcasting: \\n\", result)"
   ]
  },
  {
   "cell_type": "code",
   "execution_count": 41,
   "id": "19bb0652",
   "metadata": {},
   "outputs": [
    {
     "name": "stdout",
     "output_type": "stream",
     "text": [
      "Array: \n",
      " [[15 10 10  4]\n",
      " [ 2  6 14  6]\n",
      " [ 6  3 10  5]\n",
      " [15 15 10 10]]\n",
      "1D Array: \n",
      " [[15 10 10  4]\n",
      " [ 2  6 14  6]\n",
      " [ 6  3 10  5]\n",
      " [15 15 10 10]]\n",
      "Result: \n",
      " [[13  8  8  2]\n",
      " [-5 -1  7 -1]\n",
      " [-2 -5  2 -3]\n",
      " [10 10  5  5]]\n"
     ]
    }
   ],
   "source": [
    "### solution 5.2\n",
    "\n",
    "#array of shape(4,4)\n",
    "arr = np.random.randint(1,16,size=(4,4))\n",
    "print(\"Array: \\n\", arr)\n",
    "\n",
    "#array of shape(4,)\n",
    "arr1= np.random.randint(1,16,size=(4,))\n",
    "print(\"1D Array: \\n\", arr)\n",
    "\n",
    "#subtracting 1D arrray from each column of 2D array\n",
    "print(\"Result: \\n\", arr - arr1[:, np.newaxis])\n"
   ]
  },
  {
   "cell_type": "code",
   "execution_count": 43,
   "id": "40f51fd5",
   "metadata": {},
   "outputs": [
    {
     "name": "stdout",
     "output_type": "stream",
     "text": [
      "Array: \n",
      " [[ 1  3 20]\n",
      " [ 8 14  6]\n",
      " [19 45 14]]\n",
      "Deteminant of array: \n",
      " 1811.9999999999975\n",
      "Deteminant of array: \n",
      " [[-0.04083885  0.47350993 -0.14459161]\n",
      " [ 0.00110375 -0.20198675  0.08498896]\n",
      " [ 0.05187638  0.00662252 -0.00551876]]\n",
      "Deteminant of array: \n",
      " [41.0405622+0.j         -6.0202811+2.81205573j -6.0202811-2.81205573j]\n"
     ]
    }
   ],
   "source": [
    "### solution 6.1\n",
    "\n",
    "#array of shape(3,3)\n",
    "arr = np.random.randint(1,46,size=(3,3))\n",
    "print(\"Array: \\n\", arr)\n",
    "\n",
    "#determinant of array\n",
    "print(\"Deteminant of array: \\n\", np.linalg.det(arr))\n",
    "\n",
    "#inverse of array\n",
    "print(\"Deteminant of array: \\n\", np.linalg.inv(arr))\n",
    "\n",
    "#eignevalues of array\n",
    "print(\"Deteminant of array: \\n\", np.linalg.eigvals(arr))"
   ]
  },
  {
   "cell_type": "code",
   "execution_count": 45,
   "id": "f89d3867",
   "metadata": {},
   "outputs": [
    {
     "name": "stdout",
     "output_type": "stream",
     "text": [
      "Array with shape(2,3): \n",
      " [[3 4 5]\n",
      " [8 3 7]]\n",
      "Array with shape(3,2): \n",
      " [[ 5  3]\n",
      " [ 3  1]\n",
      " [10  5]]\n",
      "Matrix multiplication: \n",
      " [[ 77  38]\n",
      " [119  62]]\n"
     ]
    }
   ],
   "source": [
    "### solution 6.2\n",
    "\n",
    "#array of shape(2,3)\n",
    "arr1 = np.random.randint(1,11,size=(2,3))\n",
    "print(\"Array with shape(2,3): \\n\", arr1)\n",
    "arr2 = np.random.randint(1,11,size=(3,2))\n",
    "print(\"Array with shape(3,2): \\n\", arr2)\n",
    "\n",
    "#matrix multiplication\n",
    "print(\"Matrix multiplication: \\n\", np.dot(arr1, arr2))\n"
   ]
  },
  {
   "cell_type": "code",
   "execution_count": 47,
   "id": "053ca272",
   "metadata": {},
   "outputs": [
    {
     "name": "stdout",
     "output_type": "stream",
     "text": [
      "Array: \n",
      " [[2 1 2]\n",
      " [4 1 6]\n",
      " [1 8 8]]\n",
      "Reshape array to shape (1,9): \n",
      " [[2 1 2 4 1 6 1 8 8]]\n",
      "Reshape array to shape (9,1): \n",
      " [[2]\n",
      " [1]\n",
      " [2]\n",
      " [4]\n",
      " [1]\n",
      " [6]\n",
      " [1]\n",
      " [8]\n",
      " [8]]\n"
     ]
    }
   ],
   "source": [
    "### solution 7.1\n",
    "\n",
    "#array of shape(3,3)\n",
    "arr = np.random.randint(1,9,size=(3,3))\n",
    "print(\"Array: \\n\", arr)\n",
    "\n",
    "#reshape array to (1,9)\n",
    "print(\"Reshape array to shape (1,9): \\n\", arr.reshape(1,9))\n",
    "\n",
    "#reshape array to (9,1)\n",
    "print(\"Reshape array to shape (9,1): \\n\", arr.reshape(9,1))"
   ]
  },
  {
   "cell_type": "code",
   "execution_count": 48,
   "id": "0f9d90cf",
   "metadata": {},
   "outputs": [
    {
     "name": "stdout",
     "output_type": "stream",
     "text": [
      "Array: \n",
      " [[14 14  4  3 15]\n",
      " [13 12 12  3  3]\n",
      " [ 1  2 14 12  1]\n",
      " [12  5  1  8 15]\n",
      " [ 9  8 14 11  3]]\n",
      "Flattened array: \n",
      " [14 14  4  3 15 13 12 12  3  3  1  2 14 12  1 12  5  1  8 15  9  8 14 11\n",
      "  3]\n",
      "Reshaped array: \n",
      " [[14 14  4  3 15]\n",
      " [13 12 12  3  3]\n",
      " [ 1  2 14 12  1]\n",
      " [12  5  1  8 15]\n",
      " [ 9  8 14 11  3]]\n"
     ]
    }
   ],
   "source": [
    "### solution 7.2\n",
    "\n",
    "#array with shape(5,5)\n",
    "arr = np.random.randint(1,16,size=(5,5))\n",
    "print(\"Array: \\n\", arr)\n",
    "\n",
    "#Flattened array\n",
    "flattened_arr = arr.flatten()\n",
    "print(\"Flattened array: \\n\", flattened_arr)\n",
    "\n",
    "#reshaped array\n",
    "reshaped_arr = flattened_arr.reshape(5,5)\n",
    "print(\"Reshaped array: \\n\", reshaped_arr)"
   ]
  },
  {
   "cell_type": "code",
   "execution_count": 53,
   "id": "c1e2d788",
   "metadata": {},
   "outputs": [
    {
     "name": "stdout",
     "output_type": "stream",
     "text": [
      "Array: \n",
      " [[ 9  6  2  4  7]\n",
      " [ 4 10  6  7  7]\n",
      " [ 2 10  4  3  2]\n",
      " [ 1  9  8  1  1]\n",
      " [10  5  2  6  2]]\n",
      "Corner elements: \n",
      " [ 9  7 10  2]\n"
     ]
    }
   ],
   "source": [
    "### solution 8.1\n",
    "\n",
    "#array with shape(5,5)\n",
    "arr = np.random.randint(1,11,size=(5,5))\n",
    "print(\"Array: \\n\", arr)\n",
    "\n",
    "#fancy indexing to extract corner elements\n",
    "corners = arr[[0,0,-1,-1],[0,-1,0,-1]]\n",
    "print(\"Corner elements: \\n\", corners)"
   ]
  },
  {
   "cell_type": "code",
   "execution_count": 55,
   "id": "a89f1a67",
   "metadata": {},
   "outputs": [
    {
     "name": "stdout",
     "output_type": "stream",
     "text": [
      "Array: \n",
      " [[10  8 13  4]\n",
      " [ 1  6  4  1]\n",
      " [15  8 12  9]\n",
      " [ 7  8  2 15]]\n",
      "modified array: \n",
      " [[10  8 10  4]\n",
      " [ 1  6  4  1]\n",
      " [10  8 10  9]\n",
      " [ 7  8  2 10]]\n"
     ]
    }
   ],
   "source": [
    "### solution 8.2\n",
    "\n",
    "#array of shape(4,4)\n",
    "arr = np.random.randint(1,16,size=(4,4))\n",
    "print(\"Array: \\n\", arr)\n",
    "\n",
    "#set all elements greater than 10 to 10\n",
    "arr[arr>10]=10\n",
    "print(\"modified array: \\n\", arr)"
   ]
  },
  {
   "cell_type": "code",
   "execution_count": 58,
   "id": "c36970b1",
   "metadata": {},
   "outputs": [
    {
     "name": "stdout",
     "output_type": "stream",
     "text": [
      "Array: \n",
      " [('A', 22, 66.5) ('B', 23, 45.7) ('C', 21, 58.5)]\n",
      "Sorted data \n",
      " [('C', 21, 58.5) ('A', 22, 66.5) ('B', 23, 45.7)]\n"
     ]
    }
   ],
   "source": [
    "### solution 9.1\n",
    "\n",
    "#structured array\n",
    "dtype = [('name','U10'),('age','i4'),('weight','f4')]\n",
    "data = np.array([('A',22,66.5), ('B',23,45.7),('C',21,58.5)],dtype=dtype)\n",
    "print(\"Array: \\n\", data)\n",
    "\n",
    "#sort the array by age\n",
    "sorted_data = np.sort(data, order='age')\n",
    "print(\"Sorted data \\n\", sorted_data)"
   ]
  },
  {
   "cell_type": "code",
   "execution_count": 59,
   "id": "65e06bef",
   "metadata": {},
   "outputs": [
    {
     "name": "stdout",
     "output_type": "stream",
     "text": [
      "Array: \n",
      " [(1, 2) (3, 4) (5, 6)]\n",
      "Euclidean distance: \n",
      " [[0.         2.82842712 5.65685425]\n",
      " [2.82842712 0.         2.82842712]\n",
      " [5.65685425 2.82842712 0.        ]]\n"
     ]
    }
   ],
   "source": [
    "### solution 9.2\n",
    "\n",
    "#structued array\n",
    "dtype = [('x','i4'),('y','i4')]\n",
    "data = np.array([(1,2),(3,4),(5,6)], dtype=dtype)\n",
    "\n",
    "print(\"Array: \\n\", data)\n",
    "\n",
    "#compute the Euclidean distance between each pair\n",
    "distances = np.sqrt((data['x'][:,np.newaxis] - data['x'])**2 + (data['y'][:,np.newaxis] - data['y'])**2)\n",
    "print(\"Euclidean distance: \\n\", distances)"
   ]
  },
  {
   "cell_type": "code",
   "execution_count": 63,
   "id": "1c91f944",
   "metadata": {},
   "outputs": [
    {
     "name": "stdout",
     "output_type": "stream",
     "text": [
      "Array: \n",
      " [[ 2  5 17 14]\n",
      " [ 7 18 20  7]\n",
      " [ 6  1  1  3]\n",
      " [19 14  9 11]]\n",
      "Masked array: \n",
      " [[2 5 -- --]\n",
      " [7 -- -- 7]\n",
      " [6 1 1 3]\n",
      " [-- -- 9 --]]\n",
      "Sum of unmasked elements: \n",
      " 41\n"
     ]
    }
   ],
   "source": [
    "### solution 10.1\n",
    "\n",
    "arr = np.random.randint(1,21,size=(4,4))\n",
    "\n",
    "masked_arr = np.ma.masked_greater(arr,10)\n",
    "\n",
    "print(\"Array: \\n\", arr)\n",
    "\n",
    "print(\"Masked array: \\n\", masked_arr)\n",
    "\n",
    "print(\"Sum of unmasked elements: \\n\", masked_arr.sum())"
   ]
  },
  {
   "cell_type": "code",
   "execution_count": 65,
   "id": "5be968d1",
   "metadata": {},
   "outputs": [
    {
     "name": "stdout",
     "output_type": "stream",
     "text": [
      "Arraay: \n",
      " [[11 15 41]\n",
      " [45 39 35]\n",
      " [17 44  2]]\n",
      "Masked array: \n",
      " [[-- 15 41]\n",
      " [45 -- 35]\n",
      " [17 44 --]]\n",
      "Masked array after replacing with mean: \n",
      " [[32 15 41]\n",
      " [45 32 35]\n",
      " [17 44 32]]\n"
     ]
    }
   ],
   "source": [
    "### solution 10.2\n",
    "\n",
    "arr = np.random.randint(1,51,size=(3,3))\n",
    "masked_arr = np.ma.masked_array(arr, mask=np.eye(3,dtype=bool))\n",
    "\n",
    "print(\"Arraay: \\n\", arr)\n",
    "print(\"Masked array: \\n\", masked_arr)\n",
    "\n",
    "mean_unmasked = masked_arr.mean()\n",
    "masked_arr = masked_arr.filled(mean_unmasked)\n",
    "print(\"Masked array after replacing with mean: \\n\", masked_arr)"
   ]
  },
  {
   "cell_type": "code",
   "execution_count": null,
   "id": "10410ec7",
   "metadata": {},
   "outputs": [],
   "source": []
  }
 ],
 "metadata": {
  "kernelspec": {
   "display_name": "venv",
   "language": "python",
   "name": "python3"
  },
  "language_info": {
   "codemirror_mode": {
    "name": "ipython",
    "version": 3
   },
   "file_extension": ".py",
   "mimetype": "text/x-python",
   "name": "python",
   "nbconvert_exporter": "python",
   "pygments_lexer": "ipython3",
   "version": "3.12.0"
  }
 },
 "nbformat": 4,
 "nbformat_minor": 5
}
