{
 "cells": [
  {
   "cell_type": "markdown",
   "metadata": {},
   "source": [
    "# Module: Pandas Assignments\n",
    "## Lesson: Pandas\n",
    "### Assignment 1: DataFrame Creation and Indexing\n",
    "\n",
    "1. Create a Pandas DataFrame with 4 columns and 6 rows filled with random integers. Set the index to be the first column.\n",
    "2. Create a Pandas DataFrame with columns 'A', 'B', 'C' and index 'X', 'Y', 'Z'. Fill the DataFrame with random integers and access the element at row 'Y' and column 'B'.\n",
    "\n",
    "### Assignment 2: DataFrame Operations\n",
    "\n",
    "1. Create a Pandas DataFrame with 3 columns and 5 rows filled with random integers. Add a new column that is the product of the first two columns.\n",
    "2. Create a Pandas DataFrame with 3 columns and 4 rows filled with random integers. Compute the row-wise and column-wise sum.\n",
    "\n",
    "### Assignment 3: Data Cleaning\n",
    "\n",
    "1. Create a Pandas DataFrame with 3 columns and 5 rows filled with random integers. Introduce some NaN values. Fill the NaN values with the mean of the respective columns.\n",
    "2. Create a Pandas DataFrame with 4 columns and 6 rows filled with random integers. Introduce some NaN values. Drop the rows with any NaN values.\n",
    "\n",
    "### Assignment 4: Data Aggregation\n",
    "\n",
    "1. Create a Pandas DataFrame with 2 columns: 'Category' and 'Value'. Fill the 'Category' column with random categories ('A', 'B', 'C') and the 'Value' column with random integers. Group the DataFrame by 'Category' and compute the sum and mean of 'Value' for each category.\n",
    "2. Create a Pandas DataFrame with 3 columns: 'Product', 'Category', and 'Sales'. Fill the DataFrame with random data. Group the DataFrame by 'Category' and compute the total sales for each category.\n",
    "\n",
    "### Assignment 5: Merging DataFrames\n",
    "\n",
    "1. Create two Pandas DataFrames with a common column. Merge the DataFrames using the common column.\n",
    "2. Create two Pandas DataFrames with different columns. Concatenate the DataFrames along the rows and along the columns.\n",
    "\n",
    "### Assignment 6: Time Series Analysis\n",
    "\n",
    "1. Create a Pandas DataFrame with a datetime index and one column filled with random integers. Resample the DataFrame to compute the monthly mean of the values.\n",
    "2. Create a Pandas DataFrame with a datetime index ranging from '2021-01-01' to '2021-12-31' and one column filled with random integers. Compute the rolling mean with a window of 7 days.\n",
    "\n",
    "### Assignment 7: MultiIndex DataFrame\n",
    "\n",
    "1. Create a Pandas DataFrame with a MultiIndex (hierarchical index). Perform some basic indexing and slicing operations on the MultiIndex DataFrame.\n",
    "2. Create a Pandas DataFrame with MultiIndex consisting of 'Category' and 'SubCategory'. Fill the DataFrame with random data and compute the sum of values for each 'Category' and 'SubCategory'.\n",
    "\n",
    "### Assignment 8: Pivot Tables\n",
    "\n",
    "1. Create a Pandas DataFrame with columns 'Date', 'Category', and 'Value'. Create a pivot table to compute the sum of 'Value' for each 'Category' by 'Date'.\n",
    "2. Create a Pandas DataFrame with columns 'Year', 'Quarter', and 'Revenue'. Create a pivot table to compute the mean 'Revenue' for each 'Quarter' by 'Year'.\n",
    "\n",
    "### Assignment 9: Applying Functions\n",
    "\n",
    "1. Create a Pandas DataFrame with 3 columns and 5 rows filled with random integers. Apply a function that doubles the values of the DataFrame.\n",
    "2. Create a Pandas DataFrame with 3 columns and 6 rows filled with random integers. Apply a lambda function to create a new column that is the sum of the existing columns.\n",
    "\n",
    "### Assignment 10: Working with Text Data\n",
    "\n",
    "1. Create a Pandas Series with 5 random text strings. Convert all the strings to uppercase.\n",
    "2. Create a Pandas Series with 5 random text strings. Extract the first three characters of each string.\n"
   ]
  },
  {
   "cell_type": "code",
   "execution_count": 1,
   "metadata": {},
   "outputs": [
    {
     "name": "stdout",
     "output_type": "stream",
     "text": [
      "Dataframe: \n",
      "     A   B   C   D   E   F\n",
      "0  56  48  42  30  77  12\n",
      "1  59  27  71   8  23  15\n",
      "2  46   7  34  55  67  75\n",
      "3  99  74  33  99  98  15\n",
      "Dataframe with index to first column: \n",
      "      B   C   D   E   F\n",
      "A                     \n",
      "56  48  42  30  77  12\n",
      "59  27  71   8  23  15\n",
      "46   7  34  55  67  75\n",
      "99  74  33  99  98  15\n"
     ]
    }
   ],
   "source": [
    "### solution 1.1\n",
    "\n",
    "#importing libraries\n",
    "import pandas as pd\n",
    "import numpy as np\n",
    "\n",
    "data = np.random.randint(1,101, size=(4,6))\n",
    "\n",
    "#pandas dataframe\n",
    "df = pd.DataFrame(data, columns=['A','B', 'C', 'D','E','F'])\n",
    "print(\"Dataframe: \\n\", df)\n",
    "\n",
    "#set index to first column\n",
    "df.set_index('A', inplace=True)\n",
    "print(\"Dataframe with index to first column: \\n\", df)"
   ]
  },
  {
   "cell_type": "code",
   "execution_count": 9,
   "id": "f673359e",
   "metadata": {},
   "outputs": [
    {
     "name": "stdout",
     "output_type": "stream",
     "text": [
      "Datafram: \n",
      "     A   B  C\n",
      "X  10   4  1\n",
      "Y  13  10  6\n",
      "Z   6   6  9\n",
      "elements at row 'Y' and column 'B': \n",
      " 10\n"
     ]
    }
   ],
   "source": [
    "### solution 1.2\n",
    "\n",
    "df = pd.DataFrame(np.random.randint(1,16,size=(3,3)), columns=['A','B','C'], index=['X','Y','Z'])\n",
    "print(\"Datafram: \\n\", df)\n",
    "\n",
    "#elements at row 'Y' and column 'B'\n",
    "print(\"elements at row 'Y' and column 'B': \\n\", df.at['Y','B'])"
   ]
  },
  {
   "cell_type": "code",
   "execution_count": 4,
   "id": "61293843",
   "metadata": {},
   "outputs": [
    {
     "name": "stdout",
     "output_type": "stream",
     "text": [
      "Dataframe: \n",
      "     A   B   C\n",
      "0   7  41  50\n",
      "1  30  34   9\n",
      "2  21  13  41\n",
      "3  15  15  28\n",
      "4  15  30  22\n",
      "Modified df: \n",
      "     A   B   C  Prod\n",
      "0   7  41  50   287\n",
      "1  30  34   9  1020\n",
      "2  21  13  41   273\n",
      "3  15  15  28   225\n",
      "4  15  30  22   450\n"
     ]
    }
   ],
   "source": [
    "### solution 2.1\n",
    "\n",
    "#dataframe with 3 cols and 5 rows\n",
    "df = pd.DataFrame(np.random.randint(1,51,size=(5,3)), columns=['A','B','C'])\n",
    "print(\"Dataframe: \\n\", df)\n",
    "\n",
    "#new column with product of first two column\n",
    "df['Prod'] = df['A']*df['B']\n",
    "print(\"Modified df: \\n\", df)"
   ]
  },
  {
   "cell_type": "code",
   "execution_count": 5,
   "id": "3fcdc61c",
   "metadata": {},
   "outputs": [
    {
     "name": "stdout",
     "output_type": "stream",
     "text": [
      "Dataframe: \n",
      "     A   B   C\n",
      "0  47  16  12\n",
      "1  58  33  41\n",
      "2  36  33  59\n",
      "3  11  40  18\n",
      "Row-wise sum of df: \n",
      " 0     75\n",
      "1    132\n",
      "2    128\n",
      "3     69\n",
      "dtype: int64\n",
      "Column-wise sum of df: \n",
      " A    152\n",
      "B    122\n",
      "C    130\n",
      "dtype: int64\n"
     ]
    }
   ],
   "source": [
    "### solution 2.2\n",
    "\n",
    "# DF with 3 cols and 4 rows\n",
    "df = pd.DataFrame(np.random.randint(1,61,size=(4,3)), columns=['A','B','C'])\n",
    "print(\"Dataframe: \\n\", df)\n",
    "\n",
    "# row wise sum\n",
    "row_sum = df.sum(axis=1)\n",
    "\n",
    "#colum wise sum\n",
    "col_sum = df.sum(axis=0)\n",
    "\n",
    "print(\"Row-wise sum of df: \\n\", row_sum)\n",
    "\n",
    "print(\"Column-wise sum of df: \\n\", col_sum)"
   ]
  },
  {
   "cell_type": "code",
   "execution_count": 15,
   "id": "3106f4f5",
   "metadata": {},
   "outputs": [
    {
     "name": "stdout",
     "output_type": "stream",
     "text": [
      "Dataframe: \n",
      "     A   B   C\n",
      "0  15  18  49\n",
      "1  50  24  30\n",
      "2  42  49  40\n",
      "3  48   4   3\n",
      "4  10   1  36\n",
      "Dataframe with NAN: \n",
      "       A     B     C\n",
      "0  15.0  18.0   NaN\n",
      "1   NaN  24.0  30.0\n",
      "2  42.0  49.0  40.0\n",
      "3  48.0   4.0   3.0\n",
      "4  10.0   NaN  36.0\n",
      "Cleaned DF: \n",
      "        A      B      C\n",
      "0  15.00  18.00  27.25\n",
      "1  28.75  24.00  30.00\n",
      "2  42.00  49.00  40.00\n",
      "3  48.00   4.00   3.00\n",
      "4  10.00  23.75  36.00\n"
     ]
    }
   ],
   "source": [
    "### solution 3.1\n",
    "\n",
    "#DF with 3 cols and 5 rows\n",
    "df = pd.DataFrame(np.random.randint(1,51,size=(5,3)), columns=[\"A\",\"B\",\"C\"])\n",
    "print(\"Dataframe: \\n\", df)\n",
    "\n",
    "#introduce some NaN values\n",
    "df.iloc[1,0] = np.nan\n",
    "df.iloc[4,1] = np.nan\n",
    "df.iloc[0,2] = np.nan\n",
    "\n",
    "print(\"Dataframe with NAN: \\n\", df)\n",
    "\n",
    "#replace na values with column mean\n",
    "df.fillna(df.mean(), inplace=True)\n",
    "\n",
    "print(\"Cleaned DF: \\n\", df)"
   ]
  },
  {
   "cell_type": "code",
   "execution_count": 18,
   "id": "eb55507b",
   "metadata": {},
   "outputs": [
    {
     "name": "stdout",
     "output_type": "stream",
     "text": [
      "Dataframe: \n",
      "     A   B   C   D\n",
      "0  15  12  13  19\n",
      "1   1  12   7  16\n",
      "2  19  19   1  13\n",
      "3  11   8   5  11\n",
      "4  20  13  20   5\n",
      "5   2  17  12   2\n",
      "Dataframe with NAN: \n",
      "     A     B     C   D\n",
      "0  15   NaN  13.0  19\n",
      "1   1  12.0   NaN  16\n",
      "2  19  19.0   1.0  13\n",
      "3  11   8.0   5.0  11\n",
      "4  20  13.0  20.0   5\n",
      "5   2  17.0  12.0   2\n",
      "Cleaned DF: \n",
      "     A     B     C   D\n",
      "2  19  19.0   1.0  13\n",
      "3  11   8.0   5.0  11\n",
      "4  20  13.0  20.0   5\n",
      "5   2  17.0  12.0   2\n"
     ]
    }
   ],
   "source": [
    "### solution 3.2\n",
    "\n",
    "#dataframe with 4 cols and 6 rows\n",
    "df = pd.DataFrame(np.random.randint(1,21,size=(6,4)), columns=['A','B','C','D'])\n",
    "print('Dataframe: \\n', df)\n",
    "\n",
    "#introduce nan values\n",
    "df.iloc[0,1] = np.nan\n",
    "df.iloc[1,2] = np.nan\n",
    "\n",
    "print(\"Dataframe with NAN: \\n\", df)\n",
    "\n",
    "#drop rows with NaN\n",
    "df.dropna(axis=0, inplace=True)\n",
    "\n",
    "print(\"Cleaned DF: \\n\", df)"
   ]
  },
  {
   "cell_type": "code",
   "execution_count": 25,
   "id": "e8e0de5a",
   "metadata": {},
   "outputs": [
    {
     "name": "stdout",
     "output_type": "stream",
     "text": [
      "Dataframe: \n",
      "   Category  Value\n",
      "0        B     14\n",
      "1        B     90\n",
      "2        C     35\n",
      "3        C     95\n",
      "4        A     93\n",
      "5        A     88\n",
      "6        C     18\n",
      "7        C     60\n",
      "8        B     68\n",
      "9        C     21\n",
      "Sum of value of each category: \n",
      " Category\n",
      "A    181\n",
      "B    172\n",
      "C    229\n",
      "Name: Value, dtype: int32\n",
      "Mean of value of each category: \n",
      " Category\n",
      "A    90.500000\n",
      "B    57.333333\n",
      "C    45.800000\n",
      "Name: Value, dtype: float64\n"
     ]
    }
   ],
   "source": [
    "### solution 4.1\n",
    "\n",
    "df = pd.DataFrame({'Category': np.random.choice(['A','B','C'],size=10), 'Value':np.random.randint(1,100, size=10)})\n",
    "print(\"Dataframe: \\n\",df)\n",
    "\n",
    "#group by 'Category' to compute sum and mean of value\n",
    "print(\"Sum of value of each category: \\n\", df.groupby('Category')['Value'].sum())\n",
    "\n",
    "print(\"Mean of value of each category: \\n\", df.groupby('Category')['Value'].mean())"
   ]
  },
  {
   "cell_type": "code",
   "execution_count": 30,
   "id": "16906862",
   "metadata": {},
   "outputs": [
    {
     "name": "stdout",
     "output_type": "stream",
     "text": [
      "Dataframe: \n",
      "   Product Category  Sales\n",
      "0       B        Y     61\n",
      "1       C        X     78\n",
      "2       A        X     76\n",
      "3       C        X     62\n",
      "4       C        Y     76\n",
      "5       A        X     67\n",
      "6       C        X     62\n",
      "7       B        X     67\n",
      "8       A        Y     56\n",
      "9       A        X     70\n",
      "Total sales by category: \n",
      "\n"
     ]
    },
    {
     "data": {
      "text/plain": [
       "Category\n",
       "X    482\n",
       "Y    193\n",
       "Name: Sales, dtype: int32"
      ]
     },
     "execution_count": 30,
     "metadata": {},
     "output_type": "execute_result"
    }
   ],
   "source": [
    "### solution 4.2\n",
    "\n",
    "#Dataframe with 3 columns\n",
    "df = pd.DataFrame({'Product': np.random.choice(['A','B','C'],size=10), 'Category':np.random.choice(['X','Y','Z'],size=10),'Sales':np.random.randint(55,79,size=10)})\n",
    "print(\"Dataframe: \\n\", df)\n",
    "\n",
    "#Total sales by category\n",
    "print(\"Total sales by category: \\n\")\n",
    "df.groupby('Category')['Sales'].sum()"
   ]
  },
  {
   "cell_type": "code",
   "execution_count": 37,
   "id": "1bd2fac0",
   "metadata": {},
   "outputs": [
    {
     "name": "stdout",
     "output_type": "stream",
     "text": [
      "Dataframe 1: \n",
      "   Key  V1  V2\n",
      "0   A   6   8\n",
      "1   B  10   9\n",
      "2   C   5   6\n",
      "Dataframe 2 \n",
      "   Key  V1  V2\n",
      "0   A   6   2\n",
      "1   B   2  10\n",
      "2   C   3   3\n",
      "Merged Dataframe: \n",
      "   Key  V1_x  V2_x  V1_y  V2_y\n",
      "0   A     6     8     6     2\n",
      "1   B    10     9     2    10\n",
      "2   C     5     6     3     3\n"
     ]
    }
   ],
   "source": [
    "### solution 5.1\n",
    "\n",
    "#two dfs with common columns\n",
    "df1 = pd.DataFrame({'Key':['A','B','C'], 'V1':np.random.randint(1,11, size=3), 'V2':np.random.randint(1,11,size=3)})\n",
    "df2 = pd.DataFrame({'Key':['A','B','C'], 'V1':np.random.randint(1,11, size=3), 'V2':np.random.randint(1,11,size=3)})\n",
    "print(\"Dataframe 1: \\n\", df1)\n",
    "print(\"Dataframe 2 \\n\", df2)\n",
    "\n",
    "#merge two dataframes\n",
    "merged_df = pd.merge(df1, df2, on='Key')\n",
    "print('Merged Dataframe: \\n', merged_df)"
   ]
  },
  {
   "cell_type": "code",
   "execution_count": 40,
   "id": "fa62b3c2",
   "metadata": {},
   "outputs": [
    {
     "name": "stdout",
     "output_type": "stream",
     "text": [
      "DF 1: \n",
      "     A   B\n",
      "0  91  45\n",
      "1  96  68\n",
      "2  55  51\n",
      "3   4  51\n",
      "4   6  61\n",
      "DF 2: \n",
      "     C   D\n",
      "0  29  68\n",
      "1  72  55\n",
      "2  37  62\n",
      "3  44  70\n",
      "4  89  37\n",
      "concatenated DF along the rows: \n",
      "       A     B     C     D\n",
      "0  91.0  45.0   NaN   NaN\n",
      "1  96.0  68.0   NaN   NaN\n",
      "2  55.0  51.0   NaN   NaN\n",
      "3   4.0  51.0   NaN   NaN\n",
      "4   6.0  61.0   NaN   NaN\n",
      "0   NaN   NaN  29.0  68.0\n",
      "1   NaN   NaN  72.0  55.0\n",
      "2   NaN   NaN  37.0  62.0\n",
      "3   NaN   NaN  44.0  70.0\n",
      "4   NaN   NaN  89.0  37.0\n",
      "concatenated DF along the columns: \n",
      "     A   B   C   D\n",
      "0  91  45  29  68\n",
      "1  96  68  72  55\n",
      "2  55  51  37  62\n",
      "3   4  51  44  70\n",
      "4   6  61  89  37\n"
     ]
    }
   ],
   "source": [
    "### solution 5.2\n",
    "\n",
    "#two dfs with different columns\n",
    "df1 = pd.DataFrame({'A':np.random.randint(1,101,size=5), 'B':np.random.randint(1,101,size=5)})\n",
    "df2 = pd.DataFrame({'C':np.random.randint(1,101,size=5), 'D':np.random.randint(1,101,size=5)})\n",
    "\n",
    "print(\"DF 1: \\n\", df1)\n",
    "print(\"DF 2: \\n\", df2)\n",
    "\n",
    "#concatenating dataframes\n",
    "concat_df_1 = pd.concat([df1, df2], axis=0)\n",
    "print(\"concatenated DF along the rows: \\n\", concat_df_1)\n",
    "\n",
    "concat_df_2 = pd.concat([df1, df2], axis=1)\n",
    "print(\"concatenated DF along the columns: \\n\", concat_df_2)"
   ]
  },
  {
   "cell_type": "code",
   "execution_count": 43,
   "id": "42aa1a68",
   "metadata": {},
   "outputs": [
    {
     "name": "stdout",
     "output_type": "stream",
     "text": [
      "Dataframe: \n",
      "             data\n",
      "date            \n",
      "2025-01-01    55\n",
      "2025-01-02    51\n",
      "2025-01-03    90\n",
      "2025-01-04    86\n",
      "2025-01-05    72\n"
     ]
    },
    {
     "name": "stderr",
     "output_type": "stream",
     "text": [
      "C:\\Users\\Shrinath\\AppData\\Local\\Temp\\ipykernel_10720\\750977666.py:10: FutureWarning: 'M' is deprecated and will be removed in a future version, please use 'ME' instead.\n",
      "  monthly_mean = df.resample('M').mean()\n"
     ]
    },
    {
     "name": "stdout",
     "output_type": "stream",
     "text": [
      "Monthly mean df:\n",
      "                 data\n",
      "date                 \n",
      "2025-01-31  55.806452\n",
      "2025-02-28  60.750000\n",
      "2025-03-31  49.032258\n",
      "2025-04-30  45.600000\n",
      "2025-05-31  47.870968\n",
      "2025-06-30  47.866667\n",
      "2025-07-31  56.677419\n",
      "2025-08-31  55.709677\n",
      "2025-09-30  36.500000\n",
      "2025-10-31  57.580645\n",
      "2025-11-30  45.166667\n",
      "2025-12-31  47.580645\n"
     ]
    }
   ],
   "source": [
    "### solution 6.1\n",
    "\n",
    "date = pd.date_range(start='2025-01-01', end='2025-12-31', freq='D')\n",
    "df = pd.DataFrame(date, columns=['date'])\n",
    "df['data']=np.random.randint(0,101,size=len(date))\n",
    "df.set_index('date', inplace=True)\n",
    "\n",
    "print(\"Dataframe: \\n\", df.head())\n",
    "\n",
    "monthly_mean = df.resample('M').mean()\n",
    "print('Monthly mean df:')\n",
    "print(monthly_mean)\n"
   ]
  },
  {
   "cell_type": "code",
   "execution_count": 46,
   "id": "2451ace6",
   "metadata": {},
   "outputs": [
    {
     "name": "stdout",
     "output_type": "stream",
     "text": [
      "Dataframe: \n",
      "             data\n",
      "date            \n",
      "2021-01-01    42\n",
      "2021-01-02    76\n",
      "2021-01-03    12\n",
      "2021-01-04    29\n",
      "2021-01-05    94\n",
      "Rollng mean dataframe: \n",
      "                  data\n",
      "date                 \n",
      "2021-01-01        NaN\n",
      "2021-01-02        NaN\n",
      "2021-01-03        NaN\n",
      "2021-01-04        NaN\n",
      "2021-01-05        NaN\n",
      "2021-01-06        NaN\n",
      "2021-01-07  57.000000\n",
      "2021-01-08  60.571429\n",
      "2021-01-09  56.000000\n",
      "2021-01-10  54.428571\n"
     ]
    }
   ],
   "source": [
    "### solution 6.2\n",
    "\n",
    "date = pd.date_range(start='2021-01-01', end='2021-12-31', freq='D')\n",
    "df = pd.DataFrame(date, columns=['date'])\n",
    "df['data'] = np.random.randint(0,100,size=len(date))\n",
    "df.set_index('date', inplace=True)\n",
    "\n",
    "print(\"Dataframe: \\n\", df.head())\n",
    "\n",
    "# rolling mean\n",
    "rollingmean = df.rolling(window=7).mean()\n",
    "print(\"Rollng mean dataframe: \\n\", rollingmean.head(10))"
   ]
  },
  {
   "cell_type": "code",
   "execution_count": 49,
   "id": "7c0f6680",
   "metadata": {},
   "outputs": [
    {
     "name": "stdout",
     "output_type": "stream",
     "text": [
      "Multiindex DF: \n",
      "                       Val1  Val2  Val3\n",
      "Category Subcategory                  \n",
      "A        one            11    25    77\n",
      "         two            55    96    81\n",
      "B        one            76    65    55\n",
      "         two            74    41    71\n",
      "Indexing at Category A:               Val1  Val2  Val3\n",
      "Subcategory                  \n",
      "one            11    25    77\n",
      "two            55    96    81\n",
      "Slicing at Category B and subcategory 'one': \n",
      " Val1    76\n",
      "Val2    65\n",
      "Val3    55\n",
      "Name: (B, one), dtype: int32\n"
     ]
    }
   ],
   "source": [
    "### solution 7.1\n",
    "\n",
    "#Pandas Dataframe with a multindex\n",
    "arrays = [['A','A','B','B'],['one','two','one','two']]\n",
    "index = pd.MultiIndex.from_arrays(arrays, names=('Category', 'Subcategory'))\n",
    "df = pd.DataFrame(np.random.randint(1,100,size=(4,3)), index=index, columns=['Val1','Val2','Val3'])\n",
    "print(\"Multiindex DF: \\n\", df)\n",
    "\n",
    "#Basic indexing and slicing\n",
    "print(\"Indexing at Category A: \", df.loc['A'])\n",
    "\n",
    "print(\"Slicing at Category B and subcategory 'one': \\n\", df.loc[('B','one')])"
   ]
  },
  {
   "cell_type": "code",
   "execution_count": 52,
   "id": "0300e2f2",
   "metadata": {},
   "outputs": [
    {
     "name": "stdout",
     "output_type": "stream",
     "text": [
      "multiindex DF: \n",
      "                       val1  val2  val3\n",
      "Category Subcategory                  \n",
      "A        one            42    33    16\n",
      "         two            32    44    18\n",
      "B        three          37    32     8\n",
      "         one            42    35    20\n",
      "C        two            40    20    31\n",
      "         three           5    45    13\n",
      "sum of values: \n",
      "                       val1  val2  val3\n",
      "Category Subcategory                  \n",
      "A        one            42    33    16\n",
      "         two            32    44    18\n",
      "B        one            42    35    20\n",
      "         three          37    32     8\n",
      "C        three           5    45    13\n",
      "         two            40    20    31\n"
     ]
    }
   ],
   "source": [
    "### solution 7.2\n",
    "\n",
    "arrays = [['A','A','B','B','C','C'], ['one','two','three','one','two','three']]\n",
    "index = pd.MultiIndex.from_arrays(arrays, names=('Category','Subcategory'))\n",
    "df = pd.DataFrame(np.random.randint(1,51,size=(6,3)), index=index,columns = ['val1','val2','val3'])\n",
    "print('multiindex DF: \\n', df)\n",
    "\n",
    "sum_vals = df.groupby(['Category','Subcategory']).sum()\n",
    "print(\"sum of values: \\n\", sum_vals)"
   ]
  },
  {
   "cell_type": "code",
   "execution_count": 60,
   "id": "5414a992",
   "metadata": {},
   "outputs": [
    {
     "name": "stdout",
     "output_type": "stream",
     "text": [
      "Dataframe: \n",
      "         Date Category  Value\n",
      "0 2025-01-16        B     88\n",
      "1 2025-01-18        C     98\n",
      "2 2025-01-07        B     86\n",
      "3 2025-01-02        C     78\n",
      "4 2025-01-21        A     92\n",
      "Pivot table: \n",
      " Category        A      B      C\n",
      "Date                           \n",
      "2025-01-01   90.0   87.0    NaN\n",
      "2025-01-02    NaN   82.0   78.0\n",
      "2025-01-03   98.0    NaN   94.0\n",
      "2025-01-04  273.0   94.0  194.0\n",
      "2025-01-05    NaN  183.0  344.0\n",
      "2025-01-06  173.0    NaN    NaN\n",
      "2025-01-07    NaN   86.0   75.0\n",
      "2025-01-08  183.0    NaN   92.0\n",
      "2025-01-09   75.0   91.0   76.0\n",
      "2025-01-10  180.0    NaN    NaN\n",
      "2025-01-11   90.0  257.0   76.0\n",
      "2025-01-12  172.0   82.0    NaN\n",
      "2025-01-13  183.0    NaN   90.0\n",
      "2025-01-14  250.0    NaN   83.0\n",
      "2025-01-15    NaN   96.0    NaN\n",
      "2025-01-16   83.0   88.0   96.0\n",
      "2025-01-17   80.0    NaN   88.0\n",
      "2025-01-18  156.0  257.0  175.0\n",
      "2025-01-19   88.0   97.0    NaN\n",
      "2025-01-20  256.0   78.0    NaN\n",
      "2025-01-21  265.0    NaN  260.0\n",
      "2025-01-22    NaN   96.0   91.0\n",
      "2025-01-23    NaN   78.0   76.0\n",
      "2025-01-24    NaN  165.0   96.0\n",
      "2025-01-25  172.0  181.0   84.0\n",
      "2025-01-26   84.0   86.0  192.0\n",
      "2025-01-27   81.0   77.0  176.0\n",
      "2025-01-28    NaN  181.0   86.0\n",
      "2025-01-29    NaN    NaN   82.0\n",
      "2025-01-30   87.0  175.0  258.0\n"
     ]
    }
   ],
   "source": [
    "### solution 8.1\n",
    "\n",
    "date = pd.date_range(start='2025-01-01', end='2025-01-31',freq='D')\n",
    "df = pd.DataFrame({'Date':np.random.choice(date,size=100), 'Category':np.random.choice(('A','B','C'), 100), 'Value': np.random.randint(75,99,size=100)})\n",
    "print(\"Dataframe: \\n\", df.head())\n",
    "\n",
    "#create a pivot table to compute the sum of 'value' for each 'category'\n",
    "piv_tab = df.pivot_table(values='Value', index='Date', columns='Category', aggfunc='sum')\n",
    "print(\"Pivot table: \\n\", piv_tab)"
   ]
  },
  {
   "cell_type": "code",
   "execution_count": 58,
   "id": "e206cce4",
   "metadata": {},
   "outputs": [
    {
     "name": "stdout",
     "output_type": "stream",
     "text": [
      "Dataframe: \n",
      "     Year Quarter  Revenue\n",
      "0   2022      Q3      815\n",
      "1   2022      Q1      848\n",
      "2   2023      Q2      831\n",
      "3   2023      Q3      823\n",
      "4   2022      Q3      805\n",
      "5   2022      Q3      803\n",
      "6   2023      Q1      835\n",
      "7   2022      Q3      836\n",
      "8   2022      Q1      843\n",
      "9   2024      Q1      819\n",
      "10  2022      Q1      848\n",
      "11  2024      Q3      817\n",
      "12  2022      Q2      807\n",
      "13  2022      Q1      811\n",
      "14  2022      Q1      811\n",
      "15  2024      Q2      800\n",
      "16  2024      Q3      807\n",
      "17  2024      Q3      846\n",
      "18  2022      Q1      813\n",
      "19  2022      Q1      841\n",
      "pivot table: \n",
      " Quarter          Q1     Q2          Q3\n",
      "Year                                  \n",
      "2022     830.714286  807.0  814.750000\n",
      "2023     835.000000  831.0  823.000000\n",
      "2024     819.000000  800.0  823.333333\n"
     ]
    }
   ],
   "source": [
    "### solution 8.2\n",
    "\n",
    "df = pd.DataFrame({'Year':np.random.choice(([2022,2023,2024]), size=20), 'Quarter':np.random.choice(('Q1','Q2','Q3'),size=20), 'Revenue':np.random.randint(800,850,size=20)})\n",
    "print(\"Dataframe: \\n\", df)\n",
    "\n",
    "#create a pivot table to compute the mean 'Revenue' for each 'Quarter' by 'Year'\n",
    "piv_tab = df.pivot_table(values='Revenue', index='Year', columns='Quarter', aggfunc='mean')\n",
    "print('pivot table: \\n', piv_tab)"
   ]
  },
  {
   "cell_type": "code",
   "execution_count": 62,
   "id": "45a81fdd",
   "metadata": {},
   "outputs": [
    {
     "name": "stdout",
     "output_type": "stream",
     "text": [
      "Dataframe: \n",
      "     A   B   C\n",
      "0  60  60  57\n",
      "1  57  53  59\n",
      "2  56  57  58\n",
      "3  60  57  57\n",
      "4  53  57  58\n",
      "Modified DF: \n",
      "      A    B    C\n",
      "0  120  120  114\n",
      "1  114  106  118\n",
      "2  112  114  116\n",
      "3  120  114  114\n",
      "4  106  114  116\n"
     ]
    },
    {
     "name": "stderr",
     "output_type": "stream",
     "text": [
      "C:\\Users\\Shrinath\\AppData\\Local\\Temp\\ipykernel_10720\\3185714336.py:6: FutureWarning: DataFrame.applymap has been deprecated. Use DataFrame.map instead.\n",
      "  df_double = df.applymap(lambda x:x*2)\n"
     ]
    }
   ],
   "source": [
    "### solution 9.1\n",
    "\n",
    "df = pd.DataFrame(np.random.randint(51,61,size=(5,3)), columns=['A','B','C'])\n",
    "print(\"Dataframe: \\n\", df)\n",
    "\n",
    "df_double = df.applymap(lambda x:x*2)\n",
    "print(\"Modified DF: \\n\", df_double)"
   ]
  },
  {
   "cell_type": "code",
   "execution_count": 66,
   "id": "7db6d047",
   "metadata": {},
   "outputs": [
    {
     "name": "stdout",
     "output_type": "stream",
     "text": [
      "Dataframe: \n",
      "     A   B   C\n",
      "0  57  59  58\n",
      "1  53  51  53\n",
      "2  56  54  55\n",
      "3  56  56  58\n",
      "4  51  59  54\n",
      "5  57  58  54\n",
      "Modified Df: \n",
      "     A   B   C  Sum\n",
      "0  57  59  58  174\n",
      "1  53  51  53  157\n",
      "2  56  54  55  165\n",
      "3  56  56  58  170\n",
      "4  51  59  54  164\n",
      "5  57  58  54  169\n"
     ]
    }
   ],
   "source": [
    "### solution 9.2\n",
    "\n",
    "df = pd.DataFrame(np.random.randint(51,61,size=(6,3)), columns=['A','B','C'])\n",
    "print(\"Dataframe: \\n\", df)\n",
    "\n",
    "df['Sum'] = df.apply(lambda row: row.sum(), axis=1)\n",
    "print(\"Modified Df: \\n\", df)"
   ]
  },
  {
   "cell_type": "code",
   "execution_count": 67,
   "id": "b8f89ea8",
   "metadata": {},
   "outputs": [
    {
     "name": "stdout",
     "output_type": "stream",
     "text": [
      "Series: \n",
      " 0     Apple\n",
      "1       Box\n",
      "2    carrot\n",
      "3       dog\n",
      "4      high\n",
      "dtype: object\n",
      "Uppercase series: \n",
      " 0     APPLE\n",
      "1       BOX\n",
      "2    CARROT\n",
      "3       DOG\n",
      "4      HIGH\n",
      "dtype: object\n"
     ]
    }
   ],
   "source": [
    "### solution 10.1\n",
    "\n",
    "data = pd.Series(['Apple','Box','carrot','dog','high'])\n",
    "print('Series: \\n', data)\n",
    "\n",
    "data_upper = data.str.upper()\n",
    "print(\"Uppercase series: \\n\", data_upper)"
   ]
  },
  {
   "cell_type": "code",
   "execution_count": 73,
   "id": "8db832a7",
   "metadata": {},
   "outputs": [
    {
     "name": "stdout",
     "output_type": "stream",
     "text": [
      "Series: \n",
      " 0     Apple\n",
      "1       Box\n",
      "2    carrot\n",
      "3       dog\n",
      "4      high\n",
      "dtype: object\n",
      "first 3 chars Series: \n",
      " 0    App\n",
      "1    Box\n",
      "2    car\n",
      "3    dog\n",
      "4    hig\n",
      "dtype: object\n"
     ]
    }
   ],
   "source": [
    "### solution 10.2\n",
    "\n",
    "data = pd.Series(['Apple','Box','carrot','dog','high'])\n",
    "print('Series: \\n', data)\n",
    "\n",
    "first_3 = data.str[:3]\n",
    "print(\"first 3 chars Series: \\n\", first_3)"
   ]
  },
  {
   "cell_type": "code",
   "execution_count": null,
   "id": "45659d18",
   "metadata": {},
   "outputs": [],
   "source": []
  }
 ],
 "metadata": {
  "kernelspec": {
   "display_name": "venv",
   "language": "python",
   "name": "python3"
  },
  "language_info": {
   "codemirror_mode": {
    "name": "ipython",
    "version": 3
   },
   "file_extension": ".py",
   "mimetype": "text/x-python",
   "name": "python",
   "nbconvert_exporter": "python",
   "pygments_lexer": "ipython3",
   "version": "3.12.0"
  }
 },
 "nbformat": 4,
 "nbformat_minor": 5
}
