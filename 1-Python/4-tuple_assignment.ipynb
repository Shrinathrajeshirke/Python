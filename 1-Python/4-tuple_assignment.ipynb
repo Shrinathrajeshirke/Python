{
 "cells": [
  {
   "cell_type": "markdown",
   "id": "6cade624",
   "metadata": {},
   "source": [
    "# Module 3: Data Structures Assignments\n",
    "## Lesson 3.2: Tuples\n",
    "### Assignment 1: Creating and Accessing Tuples\n",
    "\n",
    "Create a tuple with the first 10 positive integers. Print the tuple.\n",
    "\n",
    "### Assignment 2: Accessing Tuple Elements\n",
    "\n",
    "Print the first, middle, and last elements of the tuple created in Assignment 1.\n",
    "\n",
    "### Assignment 3: Tuple Slicing\n",
    "\n",
    "Print the first three elements, the last three elements, and the elements from index 2 to 5 of the tuple created in Assignment 1.\n",
    "\n",
    "### Assignment 4: Nested Tuples\n",
    "\n",
    "Create a nested tuple representing a 3x3 matrix and print the matrix. Access and print the element at the second row and third column.\n",
    "\n",
    "### Assignment 5: Tuple Concatenation\n",
    "\n",
    "Concatenate two tuples: (1, 2, 3) and (4, 5, 6). Print the resulting tuple.\n",
    "\n",
    "### Assignment 6: Tuple Methods\n",
    "\n",
    "Create a tuple with duplicate elements and count the occurrences of an element. Find the index of the first occurrence of an element in the tuple.\n",
    "\n",
    "### Assignment 7: Unpacking Tuples\n",
    "\n",
    "Create a tuple with 5 elements and unpack it into 5 variables. Print the variables.\n",
    "\n",
    "### Assignment 8: Tuple Conversion\n",
    "\n",
    "Convert a list of the first 5 positive integers to a tuple. Print the tuple.\n",
    "\n",
    "### Assignment 9: Tuple of Tuples\n",
    "\n",
    "Create a tuple containing 3 tuples, each with 3 elements. Print the tuple of tuples.\n",
    "\n",
    "### Assignment 10: Tuple and List\n",
    "\n",
    "Create a tuple with the first 5 positive integers. Convert it to a list, append the number 6, and convert it back to a tuple. Print the resulting tuple.\n",
    "\n",
    "### Assignment 11: Tuple and String\n",
    "\n",
    "Create a tuple with the characters of a string. Join the tuple elements into a single string. Print the string.\n",
    "\n",
    "### Assignment 12: Tuple and Dictionary\n",
    "\n",
    "Create a dictionary with tuple keys and integer values. Print the dictionary.\n",
    "\n",
    "### Assignment 13: Nested Tuple Iteration\n",
    "\n",
    "Create a nested tuple and iterate over the elements, printing each element.\n",
    "\n",
    "### Assignment 14: Tuple and Set\n",
    "\n",
    "Create a tuple with duplicate elements. Convert it to a set to remove duplicates and print the resulting set.\n",
    "\n",
    "### Assignment 15: Tuple Functions\n",
    "\n",
    "Write functions that take a tuple and return the minimum, maximum, and sum of the elements. Print the results for a sample tuple."
   ]
  },
  {
   "cell_type": "code",
   "execution_count": 2,
   "metadata": {},
   "outputs": [
    {
     "name": "stdout",
     "output_type": "stream",
     "text": [
      "(0, 1, 2, 3, 4, 5, 6, 7, 8, 9)\n"
     ]
    }
   ],
   "source": [
    "## solution 1\n",
    "\n",
    "# tuple with first 10 positive integer\n",
    "\n",
    "tuple_1 = tuple([x for x in range(10)])\n",
    "\n",
    "print(tuple_1)"
   ]
  },
  {
   "cell_type": "code",
   "execution_count": 7,
   "id": "33490bfc",
   "metadata": {},
   "outputs": [
    {
     "name": "stdout",
     "output_type": "stream",
     "text": [
      "first element of tuple: 0\n",
      "middle element of tuple: 5\n",
      "last element of tuple: 9\n"
     ]
    }
   ],
   "source": [
    "## solution 2\n",
    "\n",
    "# first element of tuple\n",
    "print(f\"first element of tuple: {tuple_1[0]}\")\n",
    "\n",
    "# middle element of tuple\n",
    "print(f\"middle element of tuple: {tuple_1[int(len(tuple_1)/2)]}\")\n",
    "\n",
    "# last element of tuple\n",
    "print(f\"last element of tuple: {tuple_1[-1]}\")"
   ]
  },
  {
   "cell_type": "code",
   "execution_count": 13,
   "id": "101ea8a9",
   "metadata": {},
   "outputs": [
    {
     "name": "stdout",
     "output_type": "stream",
     "text": [
      "first 3 elements of tuple: (0, 1, 2)\n",
      "last 3 elements of tuple: (7, 8, 9)\n",
      "elements from index 2 to 5: (2, 3, 4, 5)\n"
     ]
    }
   ],
   "source": [
    "## solution 3\n",
    "\n",
    "# first 3 elements of tuple\n",
    "print(f\"first 3 elements of tuple: {tuple_1[0:3]}\")\n",
    "\n",
    "# last 3 elements of tuple\n",
    "print(f\"last 3 elements of tuple: {tuple_1[-3:]}\")\n",
    "\n",
    "# elements from index 2 to 5\n",
    "print(f\"elements from index 2 to 5: {tuple_1[2:6]}\")"
   ]
  },
  {
   "cell_type": "code",
   "execution_count": 17,
   "id": "ff754c58",
   "metadata": {},
   "outputs": [
    {
     "name": "stdout",
     "output_type": "stream",
     "text": [
      "((0, 1, 2), (3, 4, 5), (6, 7, 8))\n",
      "element at 2nd row and 3rd column is: 5\n"
     ]
    }
   ],
   "source": [
    "## solution 4\n",
    "\n",
    "# nested tuple\n",
    "tuple_2 = (\n",
    "    (0,1,2),\n",
    "    (3,4,5),\n",
    "    (6,7,8)\n",
    ")\n",
    "\n",
    "print(tuple_2)\n",
    "\n",
    "# element at 2nd row and 3rd column\n",
    "print(f\"element at 2nd row and 3rd column is: {tuple_2[1][2]}\")"
   ]
  },
  {
   "cell_type": "code",
   "execution_count": 19,
   "id": "29bc9bf7",
   "metadata": {},
   "outputs": [
    {
     "name": "stdout",
     "output_type": "stream",
     "text": [
      "concatenated tuple is: (1, 2, 3, 4, 5, 6)\n"
     ]
    }
   ],
   "source": [
    "## solution 5\n",
    "\n",
    "# tuple concatenation\n",
    "\n",
    "t1 = (1,2,3)\n",
    "t2 = (4,5,6)\n",
    "\n",
    "concatenated_tuple = t1+t2\n",
    "\n",
    "print(f\"concatenated tuple is: {concatenated_tuple}\")"
   ]
  },
  {
   "cell_type": "code",
   "execution_count": 25,
   "id": "3fe32b8e",
   "metadata": {},
   "outputs": [
    {
     "name": "stdout",
     "output_type": "stream",
     "text": [
      "occurence of 2 is: 2\n",
      "index of 2 is: 1\n"
     ]
    }
   ],
   "source": [
    "## solution 6\n",
    "\n",
    "# tuple with duplicate elements\n",
    "t3 = (1,2,2,3,4,5,6,6,6,7)\n",
    "\n",
    "# count of occurrence of element\n",
    "print(f\"occurence of 2 is: {t3.count(2)}\")\n",
    "\n",
    "# index of duplicate element\n",
    "print(f\"index of 2 is: {t3.index(2)}\")\n"
   ]
  },
  {
   "cell_type": "code",
   "execution_count": 26,
   "id": "a2a3ddf9",
   "metadata": {},
   "outputs": [
    {
     "name": "stdout",
     "output_type": "stream",
     "text": [
      "1 2 3 4 5\n"
     ]
    }
   ],
   "source": [
    "## solution 7\n",
    "\n",
    "# tuple with 5 elements\n",
    "t4 = (1,2,3,4,5)\n",
    "\n",
    "# unpacking of tuple\n",
    "a,b,c,d,e = t4\n",
    "\n",
    "# printing unpacked elements\n",
    "print(a,b,c,d,e)"
   ]
  },
  {
   "cell_type": "code",
   "execution_count": 29,
   "id": "fd9cbed8",
   "metadata": {},
   "outputs": [
    {
     "name": "stdout",
     "output_type": "stream",
     "text": [
      "[1, 2, 3, 4, 5] and <class 'list'>\n",
      "(1, 2, 3, 4, 5) and <class 'tuple'>\n"
     ]
    }
   ],
   "source": [
    "## solution 8\n",
    "\n",
    "# convert list to tuple\n",
    "\n",
    "ls = [1,2,3,4,5]\n",
    "\n",
    "t5 = tuple(ls)\n",
    "\n",
    "print(f\"{ls} and {type(ls)}\")\n",
    "\n",
    "print(f\"{t5} and {type(t5)}\")"
   ]
  },
  {
   "cell_type": "code",
   "execution_count": 32,
   "id": "881eccf3",
   "metadata": {},
   "outputs": [
    {
     "name": "stdout",
     "output_type": "stream",
     "text": [
      "tuple of tuples: ((1, 2, 3), (4, 5, 6), (7, 8, 9))\n"
     ]
    }
   ],
   "source": [
    "## solution 9\n",
    "\n",
    "# tuple in tuple with 3 elements\n",
    "\n",
    "t6 = (\n",
    "    (1,2,3),\n",
    "    (4,5,6),\n",
    "    (7,8,9)\n",
    ")\n",
    "\n",
    "print(f\"tuple of tuples: {t6}\")"
   ]
  },
  {
   "cell_type": "code",
   "execution_count": 35,
   "id": "3268c091",
   "metadata": {},
   "outputs": [
    {
     "name": "stdout",
     "output_type": "stream",
     "text": [
      "before appending\n",
      "(1, 2, 3, 4, 5)\n",
      "[1, 2, 3, 4, 5, 6]\n",
      "after appending\n",
      "(1, 2, 3, 4, 5, 6)\n"
     ]
    }
   ],
   "source": [
    "## solution 10\n",
    "\n",
    "# tuple with 5 elements\n",
    "t7 = (1,2,3,4,5)\n",
    "print('before appending')\n",
    "print(t7)\n",
    "\n",
    "# convert tuple to list\n",
    "ls = list(t7)\n",
    "\n",
    "# append 6 to list\n",
    "ls.append(6)\n",
    "print(ls)\n",
    "\n",
    "# convert list to tuple\n",
    "t7 = tuple(ls)\n",
    "print(\"after appending\")\n",
    "print(t7)"
   ]
  },
  {
   "cell_type": "code",
   "execution_count": 37,
   "id": "3722696b",
   "metadata": {},
   "outputs": [
    {
     "name": "stdout",
     "output_type": "stream",
     "text": [
      "('h', 'e', 'l', 'l', 'o')\n",
      "hello\n"
     ]
    }
   ],
   "source": [
    "## solution 11\n",
    "\n",
    "string = \"hello\"\n",
    "\n",
    "## tuple of string\n",
    "t8 = tuple(string)\n",
    "print(t8)\n",
    "\n",
    "## joined string\n",
    "joined_str = ''.join(t8)\n",
    "\n",
    "print(joined_str)"
   ]
  },
  {
   "cell_type": "code",
   "execution_count": 38,
   "id": "8375b4b0",
   "metadata": {},
   "outputs": [
    {
     "name": "stdout",
     "output_type": "stream",
     "text": [
      "{(1, 2): 3, (4, 5): 6, (7, 8): 9}\n"
     ]
    }
   ],
   "source": [
    "## solution 12\n",
    "\n",
    "tup_dict = {\n",
    "    (1,2):3,\n",
    "    (4,5):6,\n",
    "    (7,8):9\n",
    "}\n",
    "\n",
    "print(tup_dict)"
   ]
  },
  {
   "cell_type": "code",
   "execution_count": 42,
   "id": "03527ac9",
   "metadata": {},
   "outputs": [
    {
     "name": "stdout",
     "output_type": "stream",
     "text": [
      "1\n",
      "2\n",
      "3\n",
      "4\n",
      "5\n",
      "6\n",
      "7\n",
      "8\n",
      "9\n"
     ]
    }
   ],
   "source": [
    "## solution 13\n",
    "\n",
    "nested_tpl = (\n",
    "    (1,2,3),\n",
    "    (4,5,6),\n",
    "    (7,8,9)\n",
    ")\n",
    "\n",
    "for tpl in nested_tpl:\n",
    "    for element in tpl:\n",
    "        print(element)"
   ]
  },
  {
   "cell_type": "code",
   "execution_count": 43,
   "id": "ffb96804",
   "metadata": {},
   "outputs": [
    {
     "name": "stdout",
     "output_type": "stream",
     "text": [
      "{1, 2, 3, 4, 5, 6, 7, 8}\n"
     ]
    }
   ],
   "source": [
    "## solution 14\n",
    "\n",
    "# tuple with duplicate elements\n",
    "tpl = (1,1,2,3,4,5,5,6,7,8,8)\n",
    "\n",
    "# convert tuple to set\n",
    "set1 = set(tpl)\n",
    "\n",
    "print(set1)"
   ]
  },
  {
   "cell_type": "code",
   "execution_count": 47,
   "id": "2cefa8aa",
   "metadata": {},
   "outputs": [
    {
     "name": "stdout",
     "output_type": "stream",
     "text": [
      "maximum of tuple is 4\n",
      "minimum of tuple is 1\n",
      "sum of tuple is 10\n"
     ]
    }
   ],
   "source": [
    "## solution 15\n",
    "\n",
    "tpl = (1,2,3,4)\n",
    "\n",
    "def tuple_ops(tup):\n",
    "    max_of_tuple = max(tup)\n",
    "    print(f\"maximum of tuple is {max_of_tuple}\")\n",
    "    min_of_tuple = min(tup)\n",
    "    print(f\"minimum of tuple is {min_of_tuple}\")\n",
    "    sum_of_tuple = sum(tup)\n",
    "    print(f\"sum of tuple is {sum_of_tuple}\")\n",
    "\n",
    "tuple_ops(tpl)"
   ]
  },
  {
   "cell_type": "code",
   "execution_count": null,
   "id": "c66b6e83",
   "metadata": {},
   "outputs": [],
   "source": []
  }
 ],
 "metadata": {
  "kernelspec": {
   "display_name": "venv",
   "language": "python",
   "name": "python3"
  },
  "language_info": {
   "codemirror_mode": {
    "name": "ipython",
    "version": 3
   },
   "file_extension": ".py",
   "mimetype": "text/x-python",
   "name": "python",
   "nbconvert_exporter": "python",
   "pygments_lexer": "ipython3",
   "version": "3.12.0"
  }
 },
 "nbformat": 4,
 "nbformat_minor": 5
}
